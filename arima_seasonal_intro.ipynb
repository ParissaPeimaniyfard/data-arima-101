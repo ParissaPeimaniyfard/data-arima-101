{
 "cells": [
  {
   "cell_type": "markdown",
   "id": "65f16d9c",
   "metadata": {},
   "source": [
    "# Combining ARIMA with Decomposition"
   ]
  },
  {
   "cell_type": "markdown",
   "id": "77626f79",
   "metadata": {},
   "source": [
    "We've already gone through the process of a simple ARIMA model. In this exercise we're going to build on that slightly by using a combination of an ARIMA model with the `seasonal decompose` tool you saw in the lecture. There are models we can use __specifically__ for dealing with seasonality, but we're going to go step by step here and manually pull apart this time series so we fully understand it and some of the issues we can have when working with TS data."
   ]
  },
  {
   "cell_type": "markdown",
   "id": "1b356281",
   "metadata": {},
   "source": [
    "For this challenge we're going to be working with the daily CO2 ppm measurements, specifically, the daily CO2 measurements from the Mauna Loa Observatory 🌋\n",
    "\n",
    "They have been taken since since 1958, and are a cornerstone of climate science. Perched at over 3,000 meters in Hawaii, the observatory is well-positioned to monitor global atmospheric carbon levels, largely free from local emissions. While the record is robust, __it does contain gaps due to occasional instrument issues or extreme weather__, which researchers must account for in their analyses to maintain the integrity of this critical dataset.  We'll be using a portion of data that has been taken __almost__ daily since 1974 - we will address the gaps in the data throughout the course of the notebook!\n",
    "\n",
    "If you're curious about the climate work done by the lab, you can read more about it here: https://gml.noaa.gov/ccgg/about/co2_measurements.html"
   ]
  },
  {
   "cell_type": "markdown",
   "id": "6f66f170",
   "metadata": {},
   "source": [
    "## Loading and exploring the data"
   ]
  },
  {
   "cell_type": "code",
   "execution_count": 1,
   "id": "06ee5b7c",
   "metadata": {},
   "outputs": [],
   "source": [
    "import pandas as pd\n",
    "import matplotlib.pyplot as plt\n",
    "import numpy as np"
   ]
  },
  {
   "cell_type": "code",
   "execution_count": 2,
   "id": "42767ad4",
   "metadata": {},
   "outputs": [],
   "source": [
    "df = pd.read_csv(\"https://wagon-public-datasets.s3.amazonaws.com/05-Machine-Learning/09-Time-Series/co2_daily_mlo.csv\")"
   ]
  },
  {
   "cell_type": "code",
   "execution_count": 3,
   "id": "c9ee941a",
   "metadata": {},
   "outputs": [
    {
     "data": {
      "text/html": [
       "<div>\n",
       "<style scoped>\n",
       "    .dataframe tbody tr th:only-of-type {\n",
       "        vertical-align: middle;\n",
       "    }\n",
       "\n",
       "    .dataframe tbody tr th {\n",
       "        vertical-align: top;\n",
       "    }\n",
       "\n",
       "    .dataframe thead th {\n",
       "        text-align: right;\n",
       "    }\n",
       "</style>\n",
       "<table border=\"1\" class=\"dataframe\">\n",
       "  <thead>\n",
       "    <tr style=\"text-align: right;\">\n",
       "      <th></th>\n",
       "      <th>year</th>\n",
       "      <th>month</th>\n",
       "      <th>day</th>\n",
       "      <th>CO2 molfrac (ppm)</th>\n",
       "    </tr>\n",
       "  </thead>\n",
       "  <tbody>\n",
       "    <tr>\n",
       "      <th>0</th>\n",
       "      <td>1974</td>\n",
       "      <td>5</td>\n",
       "      <td>17</td>\n",
       "      <td>333.38</td>\n",
       "    </tr>\n",
       "    <tr>\n",
       "      <th>1</th>\n",
       "      <td>1974</td>\n",
       "      <td>5</td>\n",
       "      <td>18</td>\n",
       "      <td>333.11</td>\n",
       "    </tr>\n",
       "    <tr>\n",
       "      <th>2</th>\n",
       "      <td>1974</td>\n",
       "      <td>5</td>\n",
       "      <td>19</td>\n",
       "      <td>333.46</td>\n",
       "    </tr>\n",
       "    <tr>\n",
       "      <th>3</th>\n",
       "      <td>1974</td>\n",
       "      <td>5</td>\n",
       "      <td>20</td>\n",
       "      <td>333.64</td>\n",
       "    </tr>\n",
       "    <tr>\n",
       "      <th>4</th>\n",
       "      <td>1974</td>\n",
       "      <td>5</td>\n",
       "      <td>21</td>\n",
       "      <td>333.50</td>\n",
       "    </tr>\n",
       "    <tr>\n",
       "      <th>...</th>\n",
       "      <td>...</td>\n",
       "      <td>...</td>\n",
       "      <td>...</td>\n",
       "      <td>...</td>\n",
       "    </tr>\n",
       "    <tr>\n",
       "      <th>15191</th>\n",
       "      <td>2023</td>\n",
       "      <td>10</td>\n",
       "      <td>19</td>\n",
       "      <td>419.44</td>\n",
       "    </tr>\n",
       "    <tr>\n",
       "      <th>15192</th>\n",
       "      <td>2023</td>\n",
       "      <td>10</td>\n",
       "      <td>20</td>\n",
       "      <td>419.53</td>\n",
       "    </tr>\n",
       "    <tr>\n",
       "      <th>15193</th>\n",
       "      <td>2023</td>\n",
       "      <td>10</td>\n",
       "      <td>21</td>\n",
       "      <td>418.90</td>\n",
       "    </tr>\n",
       "    <tr>\n",
       "      <th>15194</th>\n",
       "      <td>2023</td>\n",
       "      <td>10</td>\n",
       "      <td>23</td>\n",
       "      <td>419.09</td>\n",
       "    </tr>\n",
       "    <tr>\n",
       "      <th>15195</th>\n",
       "      <td>2023</td>\n",
       "      <td>10</td>\n",
       "      <td>24</td>\n",
       "      <td>418.89</td>\n",
       "    </tr>\n",
       "  </tbody>\n",
       "</table>\n",
       "<p>15196 rows × 4 columns</p>\n",
       "</div>"
      ],
      "text/plain": [
       "       year  month  day  CO2 molfrac (ppm)\n",
       "0      1974      5   17             333.38\n",
       "1      1974      5   18             333.11\n",
       "2      1974      5   19             333.46\n",
       "3      1974      5   20             333.64\n",
       "4      1974      5   21             333.50\n",
       "...     ...    ...  ...                ...\n",
       "15191  2023     10   19             419.44\n",
       "15192  2023     10   20             419.53\n",
       "15193  2023     10   21             418.90\n",
       "15194  2023     10   23             419.09\n",
       "15195  2023     10   24             418.89\n",
       "\n",
       "[15196 rows x 4 columns]"
      ]
     },
     "execution_count": 3,
     "metadata": {},
     "output_type": "execute_result"
    }
   ],
   "source": [
    "df"
   ]
  },
  {
   "cell_type": "markdown",
   "id": "faad9dae",
   "metadata": {},
   "source": [
    "We can see the data isn't formatted very nicely for us to work with, so let's solve that step first by using `pd.to_datetime()` (you can use the function on multiple columns at once 👀). Check the [docs](https://pandas.pydata.org/docs/reference/api/pandas.to_datetime.html) to find out more.\n",
    "\n",
    "Once you've formatted it correctly, set it as your index."
   ]
  },
  {
   "cell_type": "code",
   "execution_count": 4,
   "id": "9e1d0ef8",
   "metadata": {},
   "outputs": [
    {
     "data": {
      "text/html": [
       "<div>\n",
       "<style scoped>\n",
       "    .dataframe tbody tr th:only-of-type {\n",
       "        vertical-align: middle;\n",
       "    }\n",
       "\n",
       "    .dataframe tbody tr th {\n",
       "        vertical-align: top;\n",
       "    }\n",
       "\n",
       "    .dataframe thead th {\n",
       "        text-align: right;\n",
       "    }\n",
       "</style>\n",
       "<table border=\"1\" class=\"dataframe\">\n",
       "  <thead>\n",
       "    <tr style=\"text-align: right;\">\n",
       "      <th></th>\n",
       "      <th>year</th>\n",
       "      <th>month</th>\n",
       "      <th>day</th>\n",
       "    </tr>\n",
       "  </thead>\n",
       "  <tbody>\n",
       "    <tr>\n",
       "      <th>0</th>\n",
       "      <td>1974</td>\n",
       "      <td>5</td>\n",
       "      <td>17</td>\n",
       "    </tr>\n",
       "    <tr>\n",
       "      <th>1</th>\n",
       "      <td>1974</td>\n",
       "      <td>5</td>\n",
       "      <td>18</td>\n",
       "    </tr>\n",
       "    <tr>\n",
       "      <th>2</th>\n",
       "      <td>1974</td>\n",
       "      <td>5</td>\n",
       "      <td>19</td>\n",
       "    </tr>\n",
       "    <tr>\n",
       "      <th>3</th>\n",
       "      <td>1974</td>\n",
       "      <td>5</td>\n",
       "      <td>20</td>\n",
       "    </tr>\n",
       "    <tr>\n",
       "      <th>4</th>\n",
       "      <td>1974</td>\n",
       "      <td>5</td>\n",
       "      <td>21</td>\n",
       "    </tr>\n",
       "    <tr>\n",
       "      <th>...</th>\n",
       "      <td>...</td>\n",
       "      <td>...</td>\n",
       "      <td>...</td>\n",
       "    </tr>\n",
       "    <tr>\n",
       "      <th>15191</th>\n",
       "      <td>2023</td>\n",
       "      <td>10</td>\n",
       "      <td>19</td>\n",
       "    </tr>\n",
       "    <tr>\n",
       "      <th>15192</th>\n",
       "      <td>2023</td>\n",
       "      <td>10</td>\n",
       "      <td>20</td>\n",
       "    </tr>\n",
       "    <tr>\n",
       "      <th>15193</th>\n",
       "      <td>2023</td>\n",
       "      <td>10</td>\n",
       "      <td>21</td>\n",
       "    </tr>\n",
       "    <tr>\n",
       "      <th>15194</th>\n",
       "      <td>2023</td>\n",
       "      <td>10</td>\n",
       "      <td>23</td>\n",
       "    </tr>\n",
       "    <tr>\n",
       "      <th>15195</th>\n",
       "      <td>2023</td>\n",
       "      <td>10</td>\n",
       "      <td>24</td>\n",
       "    </tr>\n",
       "  </tbody>\n",
       "</table>\n",
       "<p>15196 rows × 3 columns</p>\n",
       "</div>"
      ],
      "text/plain": [
       "       year  month  day\n",
       "0      1974      5   17\n",
       "1      1974      5   18\n",
       "2      1974      5   19\n",
       "3      1974      5   20\n",
       "4      1974      5   21\n",
       "...     ...    ...  ...\n",
       "15191  2023     10   19\n",
       "15192  2023     10   20\n",
       "15193  2023     10   21\n",
       "15194  2023     10   23\n",
       "15195  2023     10   24\n",
       "\n",
       "[15196 rows x 3 columns]"
      ]
     },
     "execution_count": 4,
     "metadata": {},
     "output_type": "execute_result"
    }
   ],
   "source": [
    "df[['year' ,'month', 'day']]"
   ]
  },
  {
   "cell_type": "code",
   "execution_count": 5,
   "id": "48bec44e",
   "metadata": {
    "tags": [
     "challengify"
    ]
   },
   "outputs": [
    {
     "data": {
      "text/html": [
       "<div>\n",
       "<style scoped>\n",
       "    .dataframe tbody tr th:only-of-type {\n",
       "        vertical-align: middle;\n",
       "    }\n",
       "\n",
       "    .dataframe tbody tr th {\n",
       "        vertical-align: top;\n",
       "    }\n",
       "\n",
       "    .dataframe thead th {\n",
       "        text-align: right;\n",
       "    }\n",
       "</style>\n",
       "<table border=\"1\" class=\"dataframe\">\n",
       "  <thead>\n",
       "    <tr style=\"text-align: right;\">\n",
       "      <th></th>\n",
       "      <th>year</th>\n",
       "      <th>month</th>\n",
       "      <th>day</th>\n",
       "      <th>CO2 molfrac (ppm)</th>\n",
       "      <th>date</th>\n",
       "    </tr>\n",
       "  </thead>\n",
       "  <tbody>\n",
       "    <tr>\n",
       "      <th>0</th>\n",
       "      <td>1974</td>\n",
       "      <td>5</td>\n",
       "      <td>17</td>\n",
       "      <td>333.38</td>\n",
       "      <td>1974-05-17</td>\n",
       "    </tr>\n",
       "    <tr>\n",
       "      <th>1</th>\n",
       "      <td>1974</td>\n",
       "      <td>5</td>\n",
       "      <td>18</td>\n",
       "      <td>333.11</td>\n",
       "      <td>1974-05-18</td>\n",
       "    </tr>\n",
       "    <tr>\n",
       "      <th>2</th>\n",
       "      <td>1974</td>\n",
       "      <td>5</td>\n",
       "      <td>19</td>\n",
       "      <td>333.46</td>\n",
       "      <td>1974-05-19</td>\n",
       "    </tr>\n",
       "    <tr>\n",
       "      <th>3</th>\n",
       "      <td>1974</td>\n",
       "      <td>5</td>\n",
       "      <td>20</td>\n",
       "      <td>333.64</td>\n",
       "      <td>1974-05-20</td>\n",
       "    </tr>\n",
       "    <tr>\n",
       "      <th>4</th>\n",
       "      <td>1974</td>\n",
       "      <td>5</td>\n",
       "      <td>21</td>\n",
       "      <td>333.50</td>\n",
       "      <td>1974-05-21</td>\n",
       "    </tr>\n",
       "    <tr>\n",
       "      <th>...</th>\n",
       "      <td>...</td>\n",
       "      <td>...</td>\n",
       "      <td>...</td>\n",
       "      <td>...</td>\n",
       "      <td>...</td>\n",
       "    </tr>\n",
       "    <tr>\n",
       "      <th>15191</th>\n",
       "      <td>2023</td>\n",
       "      <td>10</td>\n",
       "      <td>19</td>\n",
       "      <td>419.44</td>\n",
       "      <td>2023-10-19</td>\n",
       "    </tr>\n",
       "    <tr>\n",
       "      <th>15192</th>\n",
       "      <td>2023</td>\n",
       "      <td>10</td>\n",
       "      <td>20</td>\n",
       "      <td>419.53</td>\n",
       "      <td>2023-10-20</td>\n",
       "    </tr>\n",
       "    <tr>\n",
       "      <th>15193</th>\n",
       "      <td>2023</td>\n",
       "      <td>10</td>\n",
       "      <td>21</td>\n",
       "      <td>418.90</td>\n",
       "      <td>2023-10-21</td>\n",
       "    </tr>\n",
       "    <tr>\n",
       "      <th>15194</th>\n",
       "      <td>2023</td>\n",
       "      <td>10</td>\n",
       "      <td>23</td>\n",
       "      <td>419.09</td>\n",
       "      <td>2023-10-23</td>\n",
       "    </tr>\n",
       "    <tr>\n",
       "      <th>15195</th>\n",
       "      <td>2023</td>\n",
       "      <td>10</td>\n",
       "      <td>24</td>\n",
       "      <td>418.89</td>\n",
       "      <td>2023-10-24</td>\n",
       "    </tr>\n",
       "  </tbody>\n",
       "</table>\n",
       "<p>15196 rows × 5 columns</p>\n",
       "</div>"
      ],
      "text/plain": [
       "       year  month  day  CO2 molfrac (ppm)       date\n",
       "0      1974      5   17             333.38 1974-05-17\n",
       "1      1974      5   18             333.11 1974-05-18\n",
       "2      1974      5   19             333.46 1974-05-19\n",
       "3      1974      5   20             333.64 1974-05-20\n",
       "4      1974      5   21             333.50 1974-05-21\n",
       "...     ...    ...  ...                ...        ...\n",
       "15191  2023     10   19             419.44 2023-10-19\n",
       "15192  2023     10   20             419.53 2023-10-20\n",
       "15193  2023     10   21             418.90 2023-10-21\n",
       "15194  2023     10   23             419.09 2023-10-23\n",
       "15195  2023     10   24             418.89 2023-10-24\n",
       "\n",
       "[15196 rows x 5 columns]"
      ]
     },
     "execution_count": 5,
     "metadata": {},
     "output_type": "execute_result"
    }
   ],
   "source": [
    "df['date']= pd.to_datetime(df[['year' ,'month', 'day']])\n",
    "df"
   ]
  },
  {
   "cell_type": "code",
   "execution_count": 6,
   "id": "594678e0",
   "metadata": {},
   "outputs": [
    {
     "data": {
      "text/html": [
       "<div>\n",
       "<style scoped>\n",
       "    .dataframe tbody tr th:only-of-type {\n",
       "        vertical-align: middle;\n",
       "    }\n",
       "\n",
       "    .dataframe tbody tr th {\n",
       "        vertical-align: top;\n",
       "    }\n",
       "\n",
       "    .dataframe thead th {\n",
       "        text-align: right;\n",
       "    }\n",
       "</style>\n",
       "<table border=\"1\" class=\"dataframe\">\n",
       "  <thead>\n",
       "    <tr style=\"text-align: right;\">\n",
       "      <th></th>\n",
       "      <th>CO2 molfrac (ppm)</th>\n",
       "      <th>date</th>\n",
       "    </tr>\n",
       "  </thead>\n",
       "  <tbody>\n",
       "    <tr>\n",
       "      <th>0</th>\n",
       "      <td>333.38</td>\n",
       "      <td>1974-05-17</td>\n",
       "    </tr>\n",
       "    <tr>\n",
       "      <th>1</th>\n",
       "      <td>333.11</td>\n",
       "      <td>1974-05-18</td>\n",
       "    </tr>\n",
       "    <tr>\n",
       "      <th>2</th>\n",
       "      <td>333.46</td>\n",
       "      <td>1974-05-19</td>\n",
       "    </tr>\n",
       "    <tr>\n",
       "      <th>3</th>\n",
       "      <td>333.64</td>\n",
       "      <td>1974-05-20</td>\n",
       "    </tr>\n",
       "    <tr>\n",
       "      <th>4</th>\n",
       "      <td>333.50</td>\n",
       "      <td>1974-05-21</td>\n",
       "    </tr>\n",
       "    <tr>\n",
       "      <th>...</th>\n",
       "      <td>...</td>\n",
       "      <td>...</td>\n",
       "    </tr>\n",
       "    <tr>\n",
       "      <th>15191</th>\n",
       "      <td>419.44</td>\n",
       "      <td>2023-10-19</td>\n",
       "    </tr>\n",
       "    <tr>\n",
       "      <th>15192</th>\n",
       "      <td>419.53</td>\n",
       "      <td>2023-10-20</td>\n",
       "    </tr>\n",
       "    <tr>\n",
       "      <th>15193</th>\n",
       "      <td>418.90</td>\n",
       "      <td>2023-10-21</td>\n",
       "    </tr>\n",
       "    <tr>\n",
       "      <th>15194</th>\n",
       "      <td>419.09</td>\n",
       "      <td>2023-10-23</td>\n",
       "    </tr>\n",
       "    <tr>\n",
       "      <th>15195</th>\n",
       "      <td>418.89</td>\n",
       "      <td>2023-10-24</td>\n",
       "    </tr>\n",
       "  </tbody>\n",
       "</table>\n",
       "<p>15196 rows × 2 columns</p>\n",
       "</div>"
      ],
      "text/plain": [
       "       CO2 molfrac (ppm)       date\n",
       "0                 333.38 1974-05-17\n",
       "1                 333.11 1974-05-18\n",
       "2                 333.46 1974-05-19\n",
       "3                 333.64 1974-05-20\n",
       "4                 333.50 1974-05-21\n",
       "...                  ...        ...\n",
       "15191             419.44 2023-10-19\n",
       "15192             419.53 2023-10-20\n",
       "15193             418.90 2023-10-21\n",
       "15194             419.09 2023-10-23\n",
       "15195             418.89 2023-10-24\n",
       "\n",
       "[15196 rows x 2 columns]"
      ]
     },
     "execution_count": 6,
     "metadata": {},
     "output_type": "execute_result"
    }
   ],
   "source": [
    "df.drop(['year' ,'month', 'day'], inplace=True, axis=1)\n",
    "df"
   ]
  },
  {
   "cell_type": "code",
   "execution_count": 7,
   "id": "f8cb2d04",
   "metadata": {},
   "outputs": [
    {
     "data": {
      "text/html": [
       "<div>\n",
       "<style scoped>\n",
       "    .dataframe tbody tr th:only-of-type {\n",
       "        vertical-align: middle;\n",
       "    }\n",
       "\n",
       "    .dataframe tbody tr th {\n",
       "        vertical-align: top;\n",
       "    }\n",
       "\n",
       "    .dataframe thead th {\n",
       "        text-align: right;\n",
       "    }\n",
       "</style>\n",
       "<table border=\"1\" class=\"dataframe\">\n",
       "  <thead>\n",
       "    <tr style=\"text-align: right;\">\n",
       "      <th></th>\n",
       "      <th>CO2 molfrac (ppm)</th>\n",
       "    </tr>\n",
       "    <tr>\n",
       "      <th>date</th>\n",
       "      <th></th>\n",
       "    </tr>\n",
       "  </thead>\n",
       "  <tbody>\n",
       "    <tr>\n",
       "      <th>1974-05-17</th>\n",
       "      <td>333.38</td>\n",
       "    </tr>\n",
       "    <tr>\n",
       "      <th>1974-05-18</th>\n",
       "      <td>333.11</td>\n",
       "    </tr>\n",
       "    <tr>\n",
       "      <th>1974-05-19</th>\n",
       "      <td>333.46</td>\n",
       "    </tr>\n",
       "    <tr>\n",
       "      <th>1974-05-20</th>\n",
       "      <td>333.64</td>\n",
       "    </tr>\n",
       "    <tr>\n",
       "      <th>1974-05-21</th>\n",
       "      <td>333.50</td>\n",
       "    </tr>\n",
       "    <tr>\n",
       "      <th>...</th>\n",
       "      <td>...</td>\n",
       "    </tr>\n",
       "    <tr>\n",
       "      <th>2023-10-19</th>\n",
       "      <td>419.44</td>\n",
       "    </tr>\n",
       "    <tr>\n",
       "      <th>2023-10-20</th>\n",
       "      <td>419.53</td>\n",
       "    </tr>\n",
       "    <tr>\n",
       "      <th>2023-10-21</th>\n",
       "      <td>418.90</td>\n",
       "    </tr>\n",
       "    <tr>\n",
       "      <th>2023-10-23</th>\n",
       "      <td>419.09</td>\n",
       "    </tr>\n",
       "    <tr>\n",
       "      <th>2023-10-24</th>\n",
       "      <td>418.89</td>\n",
       "    </tr>\n",
       "  </tbody>\n",
       "</table>\n",
       "<p>15196 rows × 1 columns</p>\n",
       "</div>"
      ],
      "text/plain": [
       "            CO2 molfrac (ppm)\n",
       "date                         \n",
       "1974-05-17             333.38\n",
       "1974-05-18             333.11\n",
       "1974-05-19             333.46\n",
       "1974-05-20             333.64\n",
       "1974-05-21             333.50\n",
       "...                       ...\n",
       "2023-10-19             419.44\n",
       "2023-10-20             419.53\n",
       "2023-10-21             418.90\n",
       "2023-10-23             419.09\n",
       "2023-10-24             418.89\n",
       "\n",
       "[15196 rows x 1 columns]"
      ]
     },
     "execution_count": 7,
     "metadata": {},
     "output_type": "execute_result"
    }
   ],
   "source": [
    "df.set_index('date', inplace=True)\n",
    "df"
   ]
  },
  {
   "cell_type": "markdown",
   "id": "a6f61c9b",
   "metadata": {},
   "source": [
    "Plot out your CO2 values and discuss with your partner what you see. Does it look like you have any gaps in your data? Are you __sure__? Check the top 50 values of your DataFrame"
   ]
  },
  {
   "cell_type": "code",
   "execution_count": 8,
   "id": "f049b267",
   "metadata": {
    "tags": [
     "challengify"
    ]
   },
   "outputs": [
    {
     "data": {
      "text/plain": [
       "<AxesSubplot:xlabel='date'>"
      ]
     },
     "execution_count": 8,
     "metadata": {},
     "output_type": "execute_result"
    },
    {
     "data": {
      "image/png": "[encoded data removed]",
      "text/plain": [
       "<Figure size 640x480 with 1 Axes>"
      ]
     },
     "metadata": {},
     "output_type": "display_data"
    }
   ],
   "source": [
    "df['CO2 molfrac (ppm)'].plot()"
   ]
  },
  {
   "cell_type": "code",
   "execution_count": 9,
   "id": "80ae8daa",
   "metadata": {
    "tags": [
     "challengify"
    ]
   },
   "outputs": [
    {
     "data": {
      "text/html": [
       "<div>\n",
       "<style scoped>\n",
       "    .dataframe tbody tr th:only-of-type {\n",
       "        vertical-align: middle;\n",
       "    }\n",
       "\n",
       "    .dataframe tbody tr th {\n",
       "        vertical-align: top;\n",
       "    }\n",
       "\n",
       "    .dataframe thead th {\n",
       "        text-align: right;\n",
       "    }\n",
       "</style>\n",
       "<table border=\"1\" class=\"dataframe\">\n",
       "  <thead>\n",
       "    <tr style=\"text-align: right;\">\n",
       "      <th></th>\n",
       "      <th>CO2 molfrac (ppm)</th>\n",
       "    </tr>\n",
       "    <tr>\n",
       "      <th>date</th>\n",
       "      <th></th>\n",
       "    </tr>\n",
       "  </thead>\n",
       "  <tbody>\n",
       "    <tr>\n",
       "      <th>1974-05-17</th>\n",
       "      <td>333.38</td>\n",
       "    </tr>\n",
       "    <tr>\n",
       "      <th>1974-05-18</th>\n",
       "      <td>333.11</td>\n",
       "    </tr>\n",
       "    <tr>\n",
       "      <th>1974-05-19</th>\n",
       "      <td>333.46</td>\n",
       "    </tr>\n",
       "    <tr>\n",
       "      <th>1974-05-20</th>\n",
       "      <td>333.64</td>\n",
       "    </tr>\n",
       "    <tr>\n",
       "      <th>1974-05-21</th>\n",
       "      <td>333.50</td>\n",
       "    </tr>\n",
       "    <tr>\n",
       "      <th>1974-05-22</th>\n",
       "      <td>333.21</td>\n",
       "    </tr>\n",
       "    <tr>\n",
       "      <th>1974-05-23</th>\n",
       "      <td>333.05</td>\n",
       "    </tr>\n",
       "    <tr>\n",
       "      <th>1974-05-26</th>\n",
       "      <td>333.32</td>\n",
       "    </tr>\n",
       "    <tr>\n",
       "      <th>1974-05-27</th>\n",
       "      <td>332.79</td>\n",
       "    </tr>\n",
       "    <tr>\n",
       "      <th>1974-05-28</th>\n",
       "      <td>332.43</td>\n",
       "    </tr>\n",
       "    <tr>\n",
       "      <th>1974-05-29</th>\n",
       "      <td>332.60</td>\n",
       "    </tr>\n",
       "    <tr>\n",
       "      <th>1974-05-30</th>\n",
       "      <td>333.30</td>\n",
       "    </tr>\n",
       "    <tr>\n",
       "      <th>1974-05-31</th>\n",
       "      <td>333.25</td>\n",
       "    </tr>\n",
       "    <tr>\n",
       "      <th>1974-06-04</th>\n",
       "      <td>333.08</td>\n",
       "    </tr>\n",
       "    <tr>\n",
       "      <th>1974-06-05</th>\n",
       "      <td>332.75</td>\n",
       "    </tr>\n",
       "    <tr>\n",
       "      <th>1974-06-06</th>\n",
       "      <td>331.83</td>\n",
       "    </tr>\n",
       "    <tr>\n",
       "      <th>1974-06-07</th>\n",
       "      <td>332.09</td>\n",
       "    </tr>\n",
       "    <tr>\n",
       "      <th>1974-06-08</th>\n",
       "      <td>332.00</td>\n",
       "    </tr>\n",
       "    <tr>\n",
       "      <th>1974-06-09</th>\n",
       "      <td>332.36</td>\n",
       "    </tr>\n",
       "    <tr>\n",
       "      <th>1974-06-10</th>\n",
       "      <td>332.25</td>\n",
       "    </tr>\n",
       "    <tr>\n",
       "      <th>1974-06-11</th>\n",
       "      <td>332.28</td>\n",
       "    </tr>\n",
       "    <tr>\n",
       "      <th>1974-06-12</th>\n",
       "      <td>332.03</td>\n",
       "    </tr>\n",
       "    <tr>\n",
       "      <th>1974-06-13</th>\n",
       "      <td>331.85</td>\n",
       "    </tr>\n",
       "    <tr>\n",
       "      <th>1974-06-14</th>\n",
       "      <td>332.63</td>\n",
       "    </tr>\n",
       "    <tr>\n",
       "      <th>1974-06-15</th>\n",
       "      <td>332.02</td>\n",
       "    </tr>\n",
       "    <tr>\n",
       "      <th>1974-06-16</th>\n",
       "      <td>332.10</td>\n",
       "    </tr>\n",
       "    <tr>\n",
       "      <th>1974-06-17</th>\n",
       "      <td>332.18</td>\n",
       "    </tr>\n",
       "    <tr>\n",
       "      <th>1974-06-18</th>\n",
       "      <td>332.74</td>\n",
       "    </tr>\n",
       "    <tr>\n",
       "      <th>1974-06-19</th>\n",
       "      <td>332.33</td>\n",
       "    </tr>\n",
       "    <tr>\n",
       "      <th>1974-06-20</th>\n",
       "      <td>332.35</td>\n",
       "    </tr>\n",
       "    <tr>\n",
       "      <th>1974-06-21</th>\n",
       "      <td>332.53</td>\n",
       "    </tr>\n",
       "    <tr>\n",
       "      <th>1974-06-22</th>\n",
       "      <td>332.35</td>\n",
       "    </tr>\n",
       "    <tr>\n",
       "      <th>1974-06-23</th>\n",
       "      <td>332.25</td>\n",
       "    </tr>\n",
       "    <tr>\n",
       "      <th>1974-06-24</th>\n",
       "      <td>331.44</td>\n",
       "    </tr>\n",
       "    <tr>\n",
       "      <th>1974-06-25</th>\n",
       "      <td>332.08</td>\n",
       "    </tr>\n",
       "    <tr>\n",
       "      <th>1974-06-27</th>\n",
       "      <td>331.28</td>\n",
       "    </tr>\n",
       "    <tr>\n",
       "      <th>1974-06-28</th>\n",
       "      <td>331.61</td>\n",
       "    </tr>\n",
       "    <tr>\n",
       "      <th>1974-06-30</th>\n",
       "      <td>331.85</td>\n",
       "    </tr>\n",
       "    <tr>\n",
       "      <th>1974-07-02</th>\n",
       "      <td>331.44</td>\n",
       "    </tr>\n",
       "    <tr>\n",
       "      <th>1974-07-03</th>\n",
       "      <td>332.06</td>\n",
       "    </tr>\n",
       "    <tr>\n",
       "      <th>1974-07-04</th>\n",
       "      <td>331.65</td>\n",
       "    </tr>\n",
       "    <tr>\n",
       "      <th>1974-07-05</th>\n",
       "      <td>331.58</td>\n",
       "    </tr>\n",
       "    <tr>\n",
       "      <th>1974-07-06</th>\n",
       "      <td>331.53</td>\n",
       "    </tr>\n",
       "    <tr>\n",
       "      <th>1974-07-08</th>\n",
       "      <td>331.57</td>\n",
       "    </tr>\n",
       "    <tr>\n",
       "      <th>1974-07-09</th>\n",
       "      <td>331.65</td>\n",
       "    </tr>\n",
       "    <tr>\n",
       "      <th>1974-07-10</th>\n",
       "      <td>331.47</td>\n",
       "    </tr>\n",
       "    <tr>\n",
       "      <th>1974-07-11</th>\n",
       "      <td>331.55</td>\n",
       "    </tr>\n",
       "    <tr>\n",
       "      <th>1974-07-12</th>\n",
       "      <td>331.26</td>\n",
       "    </tr>\n",
       "    <tr>\n",
       "      <th>1974-07-13</th>\n",
       "      <td>331.27</td>\n",
       "    </tr>\n",
       "    <tr>\n",
       "      <th>1974-07-15</th>\n",
       "      <td>331.04</td>\n",
       "    </tr>\n",
       "  </tbody>\n",
       "</table>\n",
       "</div>"
      ],
      "text/plain": [
       "            CO2 molfrac (ppm)\n",
       "date                         \n",
       "1974-05-17             333.38\n",
       "1974-05-18             333.11\n",
       "1974-05-19             333.46\n",
       "1974-05-20             333.64\n",
       "1974-05-21             333.50\n",
       "1974-05-22             333.21\n",
       "1974-05-23             333.05\n",
       "1974-05-26             333.32\n",
       "1974-05-27             332.79\n",
       "1974-05-28             332.43\n",
       "1974-05-29             332.60\n",
       "1974-05-30             333.30\n",
       "1974-05-31             333.25\n",
       "1974-06-04             333.08\n",
       "1974-06-05             332.75\n",
       "1974-06-06             331.83\n",
       "1974-06-07             332.09\n",
       "1974-06-08             332.00\n",
       "1974-06-09             332.36\n",
       "1974-06-10             332.25\n",
       "1974-06-11             332.28\n",
       "1974-06-12             332.03\n",
       "1974-06-13             331.85\n",
       "1974-06-14             332.63\n",
       "1974-06-15             332.02\n",
       "1974-06-16             332.10\n",
       "1974-06-17             332.18\n",
       "1974-06-18             332.74\n",
       "1974-06-19             332.33\n",
       "1974-06-20             332.35\n",
       "1974-06-21             332.53\n",
       "1974-06-22             332.35\n",
       "1974-06-23             332.25\n",
       "1974-06-24             331.44\n",
       "1974-06-25             332.08\n",
       "1974-06-27             331.28\n",
       "1974-06-28             331.61\n",
       "1974-06-30             331.85\n",
       "1974-07-02             331.44\n",
       "1974-07-03             332.06\n",
       "1974-07-04             331.65\n",
       "1974-07-05             331.58\n",
       "1974-07-06             331.53\n",
       "1974-07-08             331.57\n",
       "1974-07-09             331.65\n",
       "1974-07-10             331.47\n",
       "1974-07-11             331.55\n",
       "1974-07-12             331.26\n",
       "1974-07-13             331.27\n",
       "1974-07-15             331.04"
      ]
     },
     "execution_count": 9,
     "metadata": {},
     "output_type": "execute_result"
    }
   ],
   "source": [
    "df.head(50)"
   ]
  },
  {
   "cell_type": "markdown",
   "id": "38137470",
   "metadata": {},
   "source": [
    "We're missing some dates 😱 Even though we don't have any obvious `NaN` values, there are missing dates from our index. This is something you need to be __really__ careful about with TS data.\n",
    "\n",
    "Let's work out how many days we're missing. Subtracting your end date (the `max()` of your `index`) from your start date (the `min()` of your `index`)to see how many days __should__ between the two."
   ]
  },
  {
   "cell_type": "code",
   "execution_count": 10,
   "id": "db420cb1",
   "metadata": {
    "scrolled": true,
    "tags": [
     "challengify"
    ]
   },
   "outputs": [
    {
     "data": {
      "text/plain": [
       "18057"
      ]
     },
     "execution_count": 10,
     "metadata": {},
     "output_type": "execute_result"
    }
   ],
   "source": [
    "diff= max(df.index)- min(df.index)\n",
    "diff.days"
   ]
  },
  {
   "cell_type": "code",
   "execution_count": 11,
   "id": "659aa259",
   "metadata": {},
   "outputs": [
    {
     "data": {
      "text/plain": [
       "15196"
      ]
     },
     "execution_count": 11,
     "metadata": {},
     "output_type": "execute_result"
    }
   ],
   "source": [
    "shape= df.shape\n",
    "shape[0]"
   ]
  },
  {
   "cell_type": "markdown",
   "id": "e403cc00",
   "metadata": {},
   "source": [
    "How does this differ from the number of days we __actually__ have in our DataFrame? Save your answer to a variable `missing`"
   ]
  },
  {
   "cell_type": "code",
   "execution_count": 12,
   "id": "b4507970",
   "metadata": {
    "tags": [
     "challengify"
    ]
   },
   "outputs": [
    {
     "data": {
      "text/plain": [
       "2861"
      ]
     },
     "execution_count": 12,
     "metadata": {},
     "output_type": "execute_result"
    }
   ],
   "source": [
    "missing= diff.days- shape[0]\n",
    "missing"
   ]
  },
  {
   "cell_type": "code",
   "execution_count": 13,
   "id": "b5369366",
   "metadata": {},
   "outputs": [
    {
     "name": "stdout",
     "output_type": "stream",
     "text": [
      "\n",
      "\u001b[1m============================= test session starts ==============================\u001b[0m\n",
      "platform linux -- Python 3.10.6, pytest-7.1.3, pluggy-1.0.0 -- /home/parissa/.pyenv/versions/lewagon/bin/python3\n",
      "cachedir: .pytest_cache\n",
      "rootdir: /home/parissa/code/ParissaPeimaniyfard/05-ML/09-Time-Series/data-arima-101/tests\n",
      "plugins: typeguard-2.13.3, anyio-3.6.2, asyncio-0.19.0\n",
      "asyncio: mode=strict\n",
      "\u001b[1mcollecting ... \u001b[0mcollected 1 item\n",
      "\n",
      "test_missing.py::TestMissing::test_missing \u001b[32mPASSED\u001b[0m\u001b[32m                        [100%]\u001b[0m\n",
      "\n",
      "\u001b[32m============================== \u001b[32m\u001b[1m1 passed\u001b[0m\u001b[32m in 0.01s\u001b[0m\u001b[32m ===============================\u001b[0m\n",
      "\n",
      "\n",
      "💯 You can commit your code:\n",
      "\n",
      "\u001b[1;32mgit\u001b[39m add tests/missing.pickle\n",
      "\n",
      "\u001b[32mgit\u001b[39m commit -m \u001b[33m'Completed missing step'\u001b[39m\n",
      "\n",
      "\u001b[32mgit\u001b[39m push origin master\n",
      "\n"
     ]
    }
   ],
   "source": [
    "from nbresult import ChallengeResult\n",
    "\n",
    "result = ChallengeResult('missing',\n",
    "                         missing = missing)\n",
    "result.write()\n",
    "print(result.check())"
   ]
  },
  {
   "cell_type": "markdown",
   "id": "09de71df",
   "metadata": {},
   "source": [
    "Let's actually see where are missing values lie. Use `pd.date_range` to create the index we __should__ have. Then use the DataFrame's `.reindex()` function with this new date range to see where our null values actually are in our first 100 entries!"
   ]
  },
  {
   "cell_type": "code",
   "execution_count": 14,
   "id": "24379a70",
   "metadata": {},
   "outputs": [
    {
     "data": {
      "text/plain": [
       "Timestamp('1974-05-17 00:00:00')"
      ]
     },
     "execution_count": 14,
     "metadata": {},
     "output_type": "execute_result"
    }
   ],
   "source": [
    "df.index[0]"
   ]
  },
  {
   "cell_type": "code",
   "execution_count": 15,
   "id": "e67759d3",
   "metadata": {
    "scrolled": true,
    "tags": [
     "challengify"
    ]
   },
   "outputs": [
    {
     "data": {
      "text/plain": [
       "DatetimeIndex(['1974-05-17', '1974-05-18', '1974-05-19', '1974-05-20',\n",
       "               '1974-05-21', '1974-05-22', '1974-05-23', '1974-05-24',\n",
       "               '1974-05-25', '1974-05-26',\n",
       "               ...\n",
       "               '2023-10-15', '2023-10-16', '2023-10-17', '2023-10-18',\n",
       "               '2023-10-19', '2023-10-20', '2023-10-21', '2023-10-22',\n",
       "               '2023-10-23', '2023-10-24'],\n",
       "              dtype='datetime64[ns]', length=18058, freq='D')"
      ]
     },
     "execution_count": 15,
     "metadata": {},
     "output_type": "execute_result"
    }
   ],
   "source": [
    "correct_index= pd.date_range(start=df.index[0], end=df.index[-1])\n",
    "correct_index"
   ]
  },
  {
   "cell_type": "code",
   "execution_count": 16,
   "id": "3a812008",
   "metadata": {},
   "outputs": [],
   "source": [
    "df= df.reindex(correct_index)"
   ]
  },
  {
   "cell_type": "code",
   "execution_count": 17,
   "id": "14da72da",
   "metadata": {},
   "outputs": [
    {
     "data": {
      "text/html": [
       "<div>\n",
       "<style scoped>\n",
       "    .dataframe tbody tr th:only-of-type {\n",
       "        vertical-align: middle;\n",
       "    }\n",
       "\n",
       "    .dataframe tbody tr th {\n",
       "        vertical-align: top;\n",
       "    }\n",
       "\n",
       "    .dataframe thead th {\n",
       "        text-align: right;\n",
       "    }\n",
       "</style>\n",
       "<table border=\"1\" class=\"dataframe\">\n",
       "  <thead>\n",
       "    <tr style=\"text-align: right;\">\n",
       "      <th></th>\n",
       "      <th>CO2 molfrac (ppm)</th>\n",
       "    </tr>\n",
       "  </thead>\n",
       "  <tbody>\n",
       "    <tr>\n",
       "      <th>1974-05-17</th>\n",
       "      <td>333.38</td>\n",
       "    </tr>\n",
       "    <tr>\n",
       "      <th>1974-05-18</th>\n",
       "      <td>333.11</td>\n",
       "    </tr>\n",
       "    <tr>\n",
       "      <th>1974-05-19</th>\n",
       "      <td>333.46</td>\n",
       "    </tr>\n",
       "    <tr>\n",
       "      <th>1974-05-20</th>\n",
       "      <td>333.64</td>\n",
       "    </tr>\n",
       "    <tr>\n",
       "      <th>1974-05-21</th>\n",
       "      <td>333.50</td>\n",
       "    </tr>\n",
       "    <tr>\n",
       "      <th>1974-05-22</th>\n",
       "      <td>333.21</td>\n",
       "    </tr>\n",
       "    <tr>\n",
       "      <th>1974-05-23</th>\n",
       "      <td>333.05</td>\n",
       "    </tr>\n",
       "    <tr>\n",
       "      <th>1974-05-24</th>\n",
       "      <td>NaN</td>\n",
       "    </tr>\n",
       "    <tr>\n",
       "      <th>1974-05-25</th>\n",
       "      <td>NaN</td>\n",
       "    </tr>\n",
       "    <tr>\n",
       "      <th>1974-05-26</th>\n",
       "      <td>333.32</td>\n",
       "    </tr>\n",
       "    <tr>\n",
       "      <th>1974-05-27</th>\n",
       "      <td>332.79</td>\n",
       "    </tr>\n",
       "    <tr>\n",
       "      <th>1974-05-28</th>\n",
       "      <td>332.43</td>\n",
       "    </tr>\n",
       "    <tr>\n",
       "      <th>1974-05-29</th>\n",
       "      <td>332.60</td>\n",
       "    </tr>\n",
       "    <tr>\n",
       "      <th>1974-05-30</th>\n",
       "      <td>333.30</td>\n",
       "    </tr>\n",
       "    <tr>\n",
       "      <th>1974-05-31</th>\n",
       "      <td>333.25</td>\n",
       "    </tr>\n",
       "    <tr>\n",
       "      <th>1974-06-01</th>\n",
       "      <td>NaN</td>\n",
       "    </tr>\n",
       "    <tr>\n",
       "      <th>1974-06-02</th>\n",
       "      <td>NaN</td>\n",
       "    </tr>\n",
       "    <tr>\n",
       "      <th>1974-06-03</th>\n",
       "      <td>NaN</td>\n",
       "    </tr>\n",
       "    <tr>\n",
       "      <th>1974-06-04</th>\n",
       "      <td>333.08</td>\n",
       "    </tr>\n",
       "    <tr>\n",
       "      <th>1974-06-05</th>\n",
       "      <td>332.75</td>\n",
       "    </tr>\n",
       "    <tr>\n",
       "      <th>1974-06-06</th>\n",
       "      <td>331.83</td>\n",
       "    </tr>\n",
       "    <tr>\n",
       "      <th>1974-06-07</th>\n",
       "      <td>332.09</td>\n",
       "    </tr>\n",
       "    <tr>\n",
       "      <th>1974-06-08</th>\n",
       "      <td>332.00</td>\n",
       "    </tr>\n",
       "    <tr>\n",
       "      <th>1974-06-09</th>\n",
       "      <td>332.36</td>\n",
       "    </tr>\n",
       "    <tr>\n",
       "      <th>1974-06-10</th>\n",
       "      <td>332.25</td>\n",
       "    </tr>\n",
       "    <tr>\n",
       "      <th>1974-06-11</th>\n",
       "      <td>332.28</td>\n",
       "    </tr>\n",
       "    <tr>\n",
       "      <th>1974-06-12</th>\n",
       "      <td>332.03</td>\n",
       "    </tr>\n",
       "    <tr>\n",
       "      <th>1974-06-13</th>\n",
       "      <td>331.85</td>\n",
       "    </tr>\n",
       "    <tr>\n",
       "      <th>1974-06-14</th>\n",
       "      <td>332.63</td>\n",
       "    </tr>\n",
       "    <tr>\n",
       "      <th>1974-06-15</th>\n",
       "      <td>332.02</td>\n",
       "    </tr>\n",
       "    <tr>\n",
       "      <th>1974-06-16</th>\n",
       "      <td>332.10</td>\n",
       "    </tr>\n",
       "    <tr>\n",
       "      <th>1974-06-17</th>\n",
       "      <td>332.18</td>\n",
       "    </tr>\n",
       "    <tr>\n",
       "      <th>1974-06-18</th>\n",
       "      <td>332.74</td>\n",
       "    </tr>\n",
       "    <tr>\n",
       "      <th>1974-06-19</th>\n",
       "      <td>332.33</td>\n",
       "    </tr>\n",
       "    <tr>\n",
       "      <th>1974-06-20</th>\n",
       "      <td>332.35</td>\n",
       "    </tr>\n",
       "    <tr>\n",
       "      <th>1974-06-21</th>\n",
       "      <td>332.53</td>\n",
       "    </tr>\n",
       "    <tr>\n",
       "      <th>1974-06-22</th>\n",
       "      <td>332.35</td>\n",
       "    </tr>\n",
       "    <tr>\n",
       "      <th>1974-06-23</th>\n",
       "      <td>332.25</td>\n",
       "    </tr>\n",
       "    <tr>\n",
       "      <th>1974-06-24</th>\n",
       "      <td>331.44</td>\n",
       "    </tr>\n",
       "    <tr>\n",
       "      <th>1974-06-25</th>\n",
       "      <td>332.08</td>\n",
       "    </tr>\n",
       "    <tr>\n",
       "      <th>1974-06-26</th>\n",
       "      <td>NaN</td>\n",
       "    </tr>\n",
       "    <tr>\n",
       "      <th>1974-06-27</th>\n",
       "      <td>331.28</td>\n",
       "    </tr>\n",
       "    <tr>\n",
       "      <th>1974-06-28</th>\n",
       "      <td>331.61</td>\n",
       "    </tr>\n",
       "    <tr>\n",
       "      <th>1974-06-29</th>\n",
       "      <td>NaN</td>\n",
       "    </tr>\n",
       "    <tr>\n",
       "      <th>1974-06-30</th>\n",
       "      <td>331.85</td>\n",
       "    </tr>\n",
       "    <tr>\n",
       "      <th>1974-07-01</th>\n",
       "      <td>NaN</td>\n",
       "    </tr>\n",
       "    <tr>\n",
       "      <th>1974-07-02</th>\n",
       "      <td>331.44</td>\n",
       "    </tr>\n",
       "    <tr>\n",
       "      <th>1974-07-03</th>\n",
       "      <td>332.06</td>\n",
       "    </tr>\n",
       "    <tr>\n",
       "      <th>1974-07-04</th>\n",
       "      <td>331.65</td>\n",
       "    </tr>\n",
       "    <tr>\n",
       "      <th>1974-07-05</th>\n",
       "      <td>331.58</td>\n",
       "    </tr>\n",
       "  </tbody>\n",
       "</table>\n",
       "</div>"
      ],
      "text/plain": [
       "            CO2 molfrac (ppm)\n",
       "1974-05-17             333.38\n",
       "1974-05-18             333.11\n",
       "1974-05-19             333.46\n",
       "1974-05-20             333.64\n",
       "1974-05-21             333.50\n",
       "1974-05-22             333.21\n",
       "1974-05-23             333.05\n",
       "1974-05-24                NaN\n",
       "1974-05-25                NaN\n",
       "1974-05-26             333.32\n",
       "1974-05-27             332.79\n",
       "1974-05-28             332.43\n",
       "1974-05-29             332.60\n",
       "1974-05-30             333.30\n",
       "1974-05-31             333.25\n",
       "1974-06-01                NaN\n",
       "1974-06-02                NaN\n",
       "1974-06-03                NaN\n",
       "1974-06-04             333.08\n",
       "1974-06-05             332.75\n",
       "1974-06-06             331.83\n",
       "1974-06-07             332.09\n",
       "1974-06-08             332.00\n",
       "1974-06-09             332.36\n",
       "1974-06-10             332.25\n",
       "1974-06-11             332.28\n",
       "1974-06-12             332.03\n",
       "1974-06-13             331.85\n",
       "1974-06-14             332.63\n",
       "1974-06-15             332.02\n",
       "1974-06-16             332.10\n",
       "1974-06-17             332.18\n",
       "1974-06-18             332.74\n",
       "1974-06-19             332.33\n",
       "1974-06-20             332.35\n",
       "1974-06-21             332.53\n",
       "1974-06-22             332.35\n",
       "1974-06-23             332.25\n",
       "1974-06-24             331.44\n",
       "1974-06-25             332.08\n",
       "1974-06-26                NaN\n",
       "1974-06-27             331.28\n",
       "1974-06-28             331.61\n",
       "1974-06-29                NaN\n",
       "1974-06-30             331.85\n",
       "1974-07-01                NaN\n",
       "1974-07-02             331.44\n",
       "1974-07-03             332.06\n",
       "1974-07-04             331.65\n",
       "1974-07-05             331.58"
      ]
     },
     "execution_count": 17,
     "metadata": {},
     "output_type": "execute_result"
    }
   ],
   "source": [
    "df.head(50)"
   ]
  },
  {
   "cell_type": "code",
   "execution_count": 18,
   "id": "4371c047",
   "metadata": {
    "scrolled": false
   },
   "outputs": [
    {
     "data": {
      "text/plain": [
       "<AxesSubplot:>"
      ]
     },
     "execution_count": 18,
     "metadata": {},
     "output_type": "execute_result"
    },
    {
     "data": {
      "image/png": "[encoded data removed]",
      "text/plain": [
       "<Figure size 640x480 with 1 Axes>"
      ]
     },
     "metadata": {},
     "output_type": "display_data"
    }
   ],
   "source": [
    "df[:100].plot()"
   ]
  },
  {
   "cell_type": "code",
   "execution_count": null,
   "id": "04549b2e",
   "metadata": {},
   "outputs": [],
   "source": []
  },
  {
   "cell_type": "markdown",
   "id": "b72afa00",
   "metadata": {},
   "source": [
    "We simplest option here is to use the very useful `pd.interpolate(\"linear\")` function to fill these in for us. Try running the cell below to see what it does:"
   ]
  },
  {
   "cell_type": "code",
   "execution_count": 19,
   "id": "bf7be718",
   "metadata": {},
   "outputs": [
    {
     "data": {
      "text/plain": [
       "<AxesSubplot:>"
      ]
     },
     "execution_count": 19,
     "metadata": {},
     "output_type": "execute_result"
    },
    {
     "data": {
      "image/png": "[encoded data removed]",
      "text/plain": [
       "<Figure size 640x480 with 1 Axes>"
      ]
     },
     "metadata": {},
     "output_type": "display_data"
    }
   ],
   "source": [
    "df[\"CO2 molfrac (ppm)\"][:100].interpolate(\"linear\").plot()"
   ]
  },
  {
   "cell_type": "markdown",
   "id": "dd8f7f3e",
   "metadata": {},
   "source": [
    "Interpolation uses a simple linear method to connect the dots for us 😊 Obviously this is making some assumptions that aren't perfectand we don't actually need to have daily samples - instead we'll `resample` our DataFrame on a monthly basis and try to model that. Try using the `.resample()` function to create a DataFrame with each month's average and name it `monthly`. See [docs](https://pandas.pydata.org/docs/reference/api/pandas.DataFrame.resample.html) here."
   ]
  },
  {
   "cell_type": "code",
   "execution_count": 20,
   "id": "02b0d438",
   "metadata": {
    "scrolled": true,
    "tags": [
     "challengify"
    ]
   },
   "outputs": [],
   "source": [
    "monthly= df.resample('M').mean()"
   ]
  },
  {
   "cell_type": "code",
   "execution_count": 21,
   "id": "6aa49507",
   "metadata": {},
   "outputs": [
    {
     "data": {
      "text/html": [
       "<div>\n",
       "<style scoped>\n",
       "    .dataframe tbody tr th:only-of-type {\n",
       "        vertical-align: middle;\n",
       "    }\n",
       "\n",
       "    .dataframe tbody tr th {\n",
       "        vertical-align: top;\n",
       "    }\n",
       "\n",
       "    .dataframe thead th {\n",
       "        text-align: right;\n",
       "    }\n",
       "</style>\n",
       "<table border=\"1\" class=\"dataframe\">\n",
       "  <thead>\n",
       "    <tr style=\"text-align: right;\">\n",
       "      <th></th>\n",
       "      <th>CO2 molfrac (ppm)</th>\n",
       "    </tr>\n",
       "  </thead>\n",
       "  <tbody>\n",
       "    <tr>\n",
       "      <th>1974-05-31</th>\n",
       "      <td>333.156923</td>\n",
       "    </tr>\n",
       "    <tr>\n",
       "      <th>1974-06-30</th>\n",
       "      <td>332.170400</td>\n",
       "    </tr>\n",
       "    <tr>\n",
       "      <th>1974-07-31</th>\n",
       "      <td>331.110000</td>\n",
       "    </tr>\n",
       "    <tr>\n",
       "      <th>1974-08-31</th>\n",
       "      <td>329.105769</td>\n",
       "    </tr>\n",
       "    <tr>\n",
       "      <th>1974-09-30</th>\n",
       "      <td>327.303182</td>\n",
       "    </tr>\n",
       "    <tr>\n",
       "      <th>...</th>\n",
       "      <td>...</td>\n",
       "    </tr>\n",
       "    <tr>\n",
       "      <th>2023-06-30</th>\n",
       "      <td>423.675172</td>\n",
       "    </tr>\n",
       "    <tr>\n",
       "      <th>2023-07-31</th>\n",
       "      <td>421.820952</td>\n",
       "    </tr>\n",
       "    <tr>\n",
       "      <th>2023-08-31</th>\n",
       "      <td>419.720952</td>\n",
       "    </tr>\n",
       "    <tr>\n",
       "      <th>2023-09-30</th>\n",
       "      <td>418.405556</td>\n",
       "    </tr>\n",
       "    <tr>\n",
       "      <th>2023-10-31</th>\n",
       "      <td>418.838000</td>\n",
       "    </tr>\n",
       "  </tbody>\n",
       "</table>\n",
       "<p>594 rows × 1 columns</p>\n",
       "</div>"
      ],
      "text/plain": [
       "            CO2 molfrac (ppm)\n",
       "1974-05-31         333.156923\n",
       "1974-06-30         332.170400\n",
       "1974-07-31         331.110000\n",
       "1974-08-31         329.105769\n",
       "1974-09-30         327.303182\n",
       "...                       ...\n",
       "2023-06-30         423.675172\n",
       "2023-07-31         421.820952\n",
       "2023-08-31         419.720952\n",
       "2023-09-30         418.405556\n",
       "2023-10-31         418.838000\n",
       "\n",
       "[594 rows x 1 columns]"
      ]
     },
     "execution_count": 21,
     "metadata": {},
     "output_type": "execute_result"
    }
   ],
   "source": [
    "monthly"
   ]
  },
  {
   "cell_type": "markdown",
   "id": "d45a5e00",
   "metadata": {},
   "source": [
    "If you __still__ have any remaining null values, you can use the `interpolate` to fill them in. Plot out your resampled data:"
   ]
  },
  {
   "cell_type": "code",
   "execution_count": null,
   "id": "1a3e5b48",
   "metadata": {
    "tags": [
     "challengify"
    ]
   },
   "outputs": [],
   "source": [
    "monthly.head(50)"
   ]
  },
  {
   "cell_type": "code",
   "execution_count": null,
   "id": "ff8357fc",
   "metadata": {},
   "outputs": [],
   "source": [
    "monthly= monthly.interpolate(\"linear\")\n",
    "monthly.plot()"
   ]
  },
  {
   "cell_type": "code",
   "execution_count": null,
   "id": "e86326df",
   "metadata": {},
   "outputs": [],
   "source": []
  },
  {
   "cell_type": "code",
   "execution_count": null,
   "id": "69fe2f17",
   "metadata": {},
   "outputs": [],
   "source": [
    "monthly[-300:].plot()"
   ]
  },
  {
   "cell_type": "code",
   "execution_count": null,
   "id": "7c950f17",
   "metadata": {},
   "outputs": [],
   "source": [
    "monthly"
   ]
  },
  {
   "cell_type": "code",
   "execution_count": null,
   "id": "03c9e8ad",
   "metadata": {},
   "outputs": [],
   "source": [
    "monthly[\"CO2 molfrac (ppm)\"][0]"
   ]
  },
  {
   "cell_type": "code",
   "execution_count": null,
   "id": "56aa723f",
   "metadata": {},
   "outputs": [],
   "source": [
    "from nbresult import ChallengeResult\n",
    "\n",
    "result = ChallengeResult('monthly',\n",
    "                         monthly = monthly)\n",
    "result.write()\n",
    "print(result.check())"
   ]
  },
  {
   "cell_type": "markdown",
   "id": "2868eeec",
   "metadata": {},
   "source": [
    "## Train test split"
   ]
  },
  {
   "cell_type": "markdown",
   "id": "c350f051",
   "metadata": {},
   "source": [
    "Next up we need to split into a train and test set (we'll do an 80:20 split). Be cautious when doing this - we need our sets to be __continuous__!"
   ]
  },
  {
   "cell_type": "code",
   "execution_count": null,
   "id": "9e51d764",
   "metadata": {
    "tags": [
     "challengify"
    ]
   },
   "outputs": [],
   "source": [
    "# YOUR CODE HERE"
   ]
  },
  {
   "cell_type": "markdown",
   "id": "b8b7c652",
   "metadata": {},
   "source": [
    "Our data preparation is almost done. Before we start decomposing and modelling though, we should come up with a baseline to see how our model performs. \n",
    "\n",
    "The typical baselines we'd pick is just to guess the last aviable value to us. In our case, this is simply the final point in our `train` DataFrame."
   ]
  },
  {
   "cell_type": "markdown",
   "id": "a55f8a3d",
   "metadata": {},
   "source": [
    "In your `test` DataFrame, create a column called `naive_preds` and set it to be equal to our last avaialable data point in `train`\n"
   ]
  },
  {
   "cell_type": "code",
   "execution_count": null,
   "id": "a90a5a60",
   "metadata": {
    "tags": [
     "challengify"
    ]
   },
   "outputs": [],
   "source": [
    "# YOUR CODE HERE"
   ]
  },
  {
   "cell_type": "markdown",
   "id": "af698314",
   "metadata": {},
   "source": [
    "Once you have this, caclulate the mean absolute error between the two columns and set this as your `baseline_mae`."
   ]
  },
  {
   "cell_type": "code",
   "execution_count": null,
   "id": "aaecf820",
   "metadata": {
    "tags": [
     "challengify"
    ]
   },
   "outputs": [],
   "source": [
    "# YOUR CODE HERE"
   ]
  },
  {
   "cell_type": "code",
   "execution_count": null,
   "id": "5bed1e45",
   "metadata": {},
   "outputs": [],
   "source": [
    "from nbresult import ChallengeResult\n",
    "\n",
    "result = ChallengeResult('baseline',\n",
    "                         test = test,\n",
    "                         baseline_mae = baseline_mae)\n",
    "result.write()\n",
    "print(result.check())"
   ]
  },
  {
   "cell_type": "markdown",
   "id": "2de91123",
   "metadata": {},
   "source": [
    "## Getting ready to model"
   ]
  },
  {
   "cell_type": "markdown",
   "id": "b7722326",
   "metadata": {},
   "source": [
    "For some Time Series models, we can simply through our data in and hope that it will decompose it, make it stationary for us and then model it for us (SARIMAX or TBATS are good examples of this), but we're going to go step by step instead. Since we're not relying on a model to remove seasonality and trend for us, we will take care of them ourselves."
   ]
  },
  {
   "cell_type": "markdown",
   "id": "3194e046",
   "metadata": {},
   "source": [
    "Import the `seasonal_decompose` tool that you saw in the lecture and try both methods on your Time Series (both \"multiplicative\" and \"additive\"). "
   ]
  },
  {
   "cell_type": "code",
   "execution_count": null,
   "id": "b21fb94c",
   "metadata": {
    "tags": [
     "challengify"
    ]
   },
   "outputs": [],
   "source": [
    "# YOUR CODE HERE"
   ]
  },
  {
   "cell_type": "code",
   "execution_count": null,
   "id": "91959a37",
   "metadata": {
    "tags": [
     "challengify"
    ]
   },
   "outputs": [],
   "source": [
    "# YOUR CODE HERE"
   ]
  },
  {
   "cell_type": "code",
   "execution_count": null,
   "id": "f167f6a7",
   "metadata": {
    "tags": [
     "challengify"
    ]
   },
   "outputs": [],
   "source": [
    "# YOUR CODE HERE"
   ]
  },
  {
   "cell_type": "markdown",
   "id": "c2f16de8",
   "metadata": {},
   "source": [
    "Plot the residuals (access the `.resid` attribute) from both and remember - we want the one that looks as __non-influenced__ by time as possible"
   ]
  },
  {
   "cell_type": "code",
   "execution_count": null,
   "id": "a2a53be5",
   "metadata": {
    "tags": [
     "challengify"
    ]
   },
   "outputs": [],
   "source": [
    "# YOUR CODE HERE"
   ]
  },
  {
   "cell_type": "code",
   "execution_count": null,
   "id": "5c41cd5b",
   "metadata": {
    "tags": [
     "challengify"
    ]
   },
   "outputs": [],
   "source": [
    "# YOUR CODE HERE"
   ]
  },
  {
   "cell_type": "markdown",
   "id": "e7f7940d",
   "metadata": {},
   "source": [
    "Since both look reasonably stationary, we'll pick the multiplicative model."
   ]
  },
  {
   "cell_type": "markdown",
   "id": "a9a22195",
   "metadata": {},
   "source": [
    "Our strategy now is to take out the seasonal component of our time series. \n",
    "\n",
    "How can we do this? 🤔\n",
    "\n",
    "\n",
    "First, create a column called `\"seasonal_component\"`in your `train` DataFrame that is filled with the `.seasonal` component of your time series. \n",
    "\n",
    "After you do this, create a separate, smaller DataFrame that only includes __one year__ of seasonal components (ie. the first 12 rows of your `seasonal components` column). This will be useful for us later on. Name it `seasonal_one_year` and make sure you have a `\"month\"` column equal to the corresponding `index.month` (e.g. you have have a row with the January seasonal component and a 1 next to it). \n",
    "\n",
    "<img src = \"https://wagon-public-datasets.s3.amazonaws.com/data-science-images/05-ML/09-Time-Series/seasonal_component_one.png\">"
   ]
  },
  {
   "cell_type": "code",
   "execution_count": null,
   "id": "439b6751",
   "metadata": {
    "tags": [
     "challengify"
    ]
   },
   "outputs": [],
   "source": [
    "# YOUR CODE HERE"
   ]
  },
  {
   "cell_type": "markdown",
   "id": "40522207",
   "metadata": {},
   "source": [
    "Since this is from a multiplicative model, if we want to __remove__ this seasonal component, we'll need to __divide__ our original time series by these repeating (12-month cycle) values."
   ]
  },
  {
   "cell_type": "code",
   "execution_count": null,
   "id": "e4577c7c",
   "metadata": {},
   "outputs": [],
   "source": [
    "from nbresult import ChallengeResult\n",
    "\n",
    "result = ChallengeResult('seasonal',\n",
    "                         train = train,\n",
    "                         seasonal = seasonal_one_year)\n",
    "result.write()\n",
    "print(result.check())"
   ]
  },
  {
   "cell_type": "markdown",
   "id": "a3a99bde",
   "metadata": {},
   "source": [
    "Create a new column named `\"seasonal_stripped\"` equal to the value of your original time series divided by the seasonal component."
   ]
  },
  {
   "cell_type": "code",
   "execution_count": null,
   "id": "d858faa7",
   "metadata": {
    "tags": [
     "challengify"
    ]
   },
   "outputs": [],
   "source": [
    "# YOUR CODE HERE"
   ]
  },
  {
   "cell_type": "markdown",
   "id": "09615ad9",
   "metadata": {},
   "source": [
    "Plot this new column out:"
   ]
  },
  {
   "cell_type": "code",
   "execution_count": null,
   "id": "3235d05d",
   "metadata": {
    "tags": [
     "challengify"
    ]
   },
   "outputs": [],
   "source": [
    "# YOUR CODE HERE"
   ]
  },
  {
   "cell_type": "markdown",
   "id": "cf890114",
   "metadata": {},
   "source": [
    "Does it look stationary yet? Discuss with your buddy for the day why or why not."
   ]
  },
  {
   "cell_type": "markdown",
   "id": "e0463d35",
   "metadata": {},
   "source": [
    "Our next task is to take this __deseasonalized__ time series and to look get it stationary. Try using `.diff()` and see how it looks. Then try diffing one more time to see any changes. "
   ]
  },
  {
   "cell_type": "code",
   "execution_count": null,
   "id": "58026816",
   "metadata": {
    "tags": [
     "challengify"
    ]
   },
   "outputs": [],
   "source": [
    "# YOUR CODE HERE"
   ]
  },
  {
   "cell_type": "code",
   "execution_count": null,
   "id": "2a124991",
   "metadata": {
    "tags": [
     "challengify"
    ]
   },
   "outputs": [],
   "source": [
    "# YOUR CODE HERE"
   ]
  },
  {
   "cell_type": "markdown",
   "id": "00087435",
   "metadata": {},
   "source": [
    "Both should look quite stationary visually, use the `adfuller` (Augmented Dicky-Fuller) test from the lecture to verify that each one is. \n",
    "\n",
    "N.B. When you `diff` you create null values in your DataFrame, you'll need to drop these to perform an ADF test."
   ]
  },
  {
   "cell_type": "code",
   "execution_count": null,
   "id": "f263873a",
   "metadata": {
    "tags": [
     "challengify"
    ]
   },
   "outputs": [],
   "source": [
    "# YOUR CODE HERE"
   ]
  },
  {
   "cell_type": "code",
   "execution_count": null,
   "id": "b3004e2e",
   "metadata": {
    "tags": [
     "challengify"
    ]
   },
   "outputs": [],
   "source": [
    "# YOUR CODE HERE"
   ]
  },
  {
   "cell_type": "code",
   "execution_count": null,
   "id": "1831eadd",
   "metadata": {
    "tags": [
     "challengify"
    ]
   },
   "outputs": [],
   "source": [
    "# YOUR CODE HERE"
   ]
  },
  {
   "cell_type": "markdown",
   "id": "633b40d1",
   "metadata": {},
   "source": [
    "Both seem to be reasonably stationary, and it looks like there's no need to overdifference (though we can always try building a twice-diffed time series later). Let's go ahead and plot our `acf` and `pacf` plots (be sure to drop any `null` values - those will break your ACF and PACF calculators) 😔"
   ]
  },
  {
   "cell_type": "code",
   "execution_count": null,
   "id": "37806ad3",
   "metadata": {},
   "outputs": [],
   "source": [
    "from statsmodels.graphics.tsaplots import plot_pacf\n",
    "from statsmodels.graphics.tsaplots import plot_acf"
   ]
  },
  {
   "cell_type": "code",
   "execution_count": null,
   "id": "36ef0b53",
   "metadata": {
    "tags": [
     "challengify"
    ]
   },
   "outputs": [],
   "source": [
    "# YOUR CODE HERE"
   ]
  },
  {
   "cell_type": "code",
   "execution_count": null,
   "id": "a720e59f",
   "metadata": {
    "tags": [
     "challengify"
    ]
   },
   "outputs": [],
   "source": [
    "# YOUR CODE HERE"
   ]
  },
  {
   "cell_type": "markdown",
   "id": "c7a2b21a",
   "metadata": {},
   "source": [
    "Take the time to really talk through what these plots actually mean with your buddy. Which one corresponds to your `p` parameter and which corresponds to your `q` parameter?"
   ]
  },
  {
   "cell_type": "markdown",
   "id": "ada0211a",
   "metadata": {},
   "source": [
    "Now build a simple ARIMA model with the appropriate order values for your `p` `d` and `q` values. Investigate its model summary."
   ]
  },
  {
   "cell_type": "code",
   "execution_count": null,
   "id": "b2a4790b",
   "metadata": {
    "tags": [
     "challengify"
    ]
   },
   "outputs": [],
   "source": [
    "# YOUR CODE HERE"
   ]
  },
  {
   "cell_type": "markdown",
   "id": "c13c3571",
   "metadata": {},
   "source": [
    "What do you note about the summary? What are the most important features here?"
   ]
  },
  {
   "cell_type": "markdown",
   "id": "19174c90",
   "metadata": {},
   "source": [
    "It looks like we can trust our coefficients and we have an AIC of ~223. But was it the best model? Trying using the `auto_arima` function to grid search different models and see which has the best AIC"
   ]
  },
  {
   "cell_type": "code",
   "execution_count": null,
   "id": "152d4960",
   "metadata": {},
   "outputs": [],
   "source": [
    "train"
   ]
  },
  {
   "cell_type": "code",
   "execution_count": null,
   "id": "f62fbecb",
   "metadata": {
    "tags": [
     "challengify"
    ]
   },
   "outputs": [],
   "source": [
    "# YOUR CODE HERE"
   ]
  },
  {
   "cell_type": "code",
   "execution_count": null,
   "id": "dc86106f",
   "metadata": {
    "tags": [
     "challengify"
    ]
   },
   "outputs": [],
   "source": [
    "# YOUR CODE HERE"
   ]
  },
  {
   "cell_type": "markdown",
   "id": "948395af",
   "metadata": {},
   "source": [
    "Save your best AIC score to `best_AIC`"
   ]
  },
  {
   "cell_type": "code",
   "execution_count": null,
   "id": "7f2eab4a",
   "metadata": {
    "tags": [
     "challengify"
    ]
   },
   "outputs": [],
   "source": [
    "# YOUR CODE HERE"
   ]
  },
  {
   "cell_type": "code",
   "execution_count": null,
   "id": "9ceb6c47",
   "metadata": {},
   "outputs": [],
   "source": [
    "from nbresult import ChallengeResult\n",
    "\n",
    "result = ChallengeResult('score',\n",
    "                         aic_score = best_AIC)\n",
    "result.write()\n",
    "print(result.check())"
   ]
  },
  {
   "cell_type": "markdown",
   "id": "b287b357",
   "metadata": {},
   "source": [
    "Often times, it can be hard to predict which model with fit best on our data so it is usually a good idea to grid-search and compare your models' AIC scores 🧐 Here, it looks like a __(0,1,1)__ model gets a better AIC score (so the MA components of our original model probably weren't improving our model likelihood that much!)"
   ]
  },
  {
   "cell_type": "markdown",
   "id": "ce94ff90",
   "metadata": {},
   "source": [
    "### Making predictions (get ready for some Pandas work!)"
   ]
  },
  {
   "cell_type": "markdown",
   "id": "67e5a303",
   "metadata": {},
   "source": [
    "Now that we have our best model, we'd like to generate some predictions and - crucially - some confidence intervals. Use your model to predict for the length of your test set and ensure that you also return those intervals (use `return_conf_int = True`). Create a `preds_df` DataFrame with columns for `preds`, `upper` and `lower` bounds."
   ]
  },
  {
   "cell_type": "code",
   "execution_count": null,
   "id": "5db54b3e",
   "metadata": {
    "tags": [
     "challengify"
    ]
   },
   "outputs": [],
   "source": [
    "# YOUR CODE HERE"
   ]
  },
  {
   "cell_type": "code",
   "execution_count": null,
   "id": "58d855f0",
   "metadata": {
    "tags": [
     "challengify"
    ]
   },
   "outputs": [],
   "source": [
    "# YOUR CODE HERE"
   ]
  },
  {
   "cell_type": "code",
   "execution_count": null,
   "id": "f2c021e1",
   "metadata": {
    "tags": [
     "challengify"
    ]
   },
   "outputs": [],
   "source": [
    "# YOUR CODE HERE"
   ]
  },
  {
   "cell_type": "code",
   "execution_count": null,
   "id": "3337e6fb",
   "metadata": {},
   "outputs": [],
   "source": [
    "from nbresult import ChallengeResult\n",
    "\n",
    "result = ChallengeResult('preds',\n",
    "                         preds_df = preds_df)\n",
    "result.write()\n",
    "print(result.check())"
   ]
  },
  {
   "cell_type": "markdown",
   "id": "6e53a5e8",
   "metadata": {},
   "source": [
    "Now plot them, out and see how they look compared alongside your `train` data"
   ]
  },
  {
   "cell_type": "code",
   "execution_count": null,
   "id": "873b44ed",
   "metadata": {
    "tags": [
     "challengify"
    ]
   },
   "outputs": [],
   "source": [
    "# YOUR CODE HERE"
   ]
  },
  {
   "cell_type": "markdown",
   "id": "5da6ed9c",
   "metadata": {},
   "source": [
    "Something looks a bit wrong doesn't it? We're looking at three straight lines coming out of something that clearly had seasonality. To account for this, we need to re-incorporate the seasonality component that we extracted earlier!\n",
    "\n",
    "Create a `month` column in your `test` DataFrame and populate it with the month component of the index. "
   ]
  },
  {
   "cell_type": "code",
   "execution_count": null,
   "id": "baa32868",
   "metadata": {
    "tags": [
     "challengify"
    ]
   },
   "outputs": [],
   "source": [
    "# YOUR CODE HERE"
   ]
  },
  {
   "cell_type": "code",
   "execution_count": null,
   "id": "c56694fd",
   "metadata": {
    "tags": [
     "challengify"
    ]
   },
   "outputs": [],
   "source": [
    "# YOUR CODE HERE"
   ]
  },
  {
   "cell_type": "markdown",
   "id": "37ac869c",
   "metadata": {},
   "source": [
    "Now we can take our `seasonal_one_year` DataFrame that we made earlier and simply merge it onto our `preds_df`!"
   ]
  },
  {
   "cell_type": "code",
   "execution_count": null,
   "id": "eb0eee29",
   "metadata": {
    "tags": [
     "challengify"
    ]
   },
   "outputs": [],
   "source": [
    "# YOUR CODE HERE"
   ]
  },
  {
   "cell_type": "code",
   "execution_count": null,
   "id": "885fcce9",
   "metadata": {
    "tags": [
     "challengify"
    ]
   },
   "outputs": [],
   "source": [
    "# YOUR CODE HERE"
   ]
  },
  {
   "cell_type": "code",
   "execution_count": null,
   "id": "1f3934a4",
   "metadata": {
    "tags": [
     "challengify"
    ]
   },
   "outputs": [],
   "source": [
    "# YOUR CODE HERE"
   ]
  },
  {
   "cell_type": "code",
   "execution_count": null,
   "id": "ef2fad88",
   "metadata": {},
   "outputs": [],
   "source": [
    "preds_df"
   ]
  },
  {
   "cell_type": "markdown",
   "id": "6ecbec3a",
   "metadata": {},
   "source": [
    "Now you can create your `full_preds`, `upper_conf` and `lower_conf` (create them as new columns in the `preds_df` DataFrame) by multiplying out your `preds`, `upper` __and__ `lower` columns with the seasonal component that we now have in our `preds_df` DataFrame."
   ]
  },
  {
   "cell_type": "code",
   "execution_count": null,
   "id": "6d38f91e",
   "metadata": {
    "tags": [
     "challengify"
    ]
   },
   "outputs": [],
   "source": [
    "# YOUR CODE HERE"
   ]
  },
  {
   "cell_type": "markdown",
   "id": "23c04c09",
   "metadata": {},
   "source": [
    "Finally, to make plotting easier for us, set the index of your `preds_df` to be the same as the index of your `test` DataFrame (since they have the same length this should be quite easy for us!)"
   ]
  },
  {
   "cell_type": "code",
   "execution_count": null,
   "id": "4d6c9b2b",
   "metadata": {
    "tags": [
     "challengify"
    ]
   },
   "outputs": [],
   "source": [
    "# YOUR CODE HERE"
   ]
  },
  {
   "cell_type": "code",
   "execution_count": null,
   "id": "3ed1ae4e",
   "metadata": {},
   "outputs": [],
   "source": [
    "from nbresult import ChallengeResult\n",
    "\n",
    "result = ChallengeResult('fullpreds',\n",
    "                         preds_df = preds_df)\n",
    "result.write()\n",
    "print(result.check())"
   ]
  },
  {
   "cell_type": "markdown",
   "id": "e9fd98c5",
   "metadata": {},
   "source": [
    "Now plot everything out - the end of your train (e.g. the last 100 values, your full predictions, upper and lower confidence bounds and the true values from your `preds_df` DataFrame __and__ your baseline!"
   ]
  },
  {
   "cell_type": "code",
   "execution_count": null,
   "id": "27fca316",
   "metadata": {
    "tags": [
     "challengify"
    ]
   },
   "outputs": [],
   "source": [
    "# YOUR CODE HERE"
   ]
  },
  {
   "cell_type": "markdown",
   "id": "eb808062",
   "metadata": {},
   "source": [
    "Our predictions look pretty good! We can see that the true values are slightly higher than what we predicted but remains well within the bounds of our confidence intervals for a full 10 years out from when we started making our predictions."
   ]
  },
  {
   "cell_type": "markdown",
   "id": "7aa3888c",
   "metadata": {},
   "source": [
    "Why did our values dip below the true values? Run the cell below to decompose the test data and take a look at the trend component 👀\n"
   ]
  },
  {
   "cell_type": "code",
   "execution_count": null,
   "id": "c54ba1c3",
   "metadata": {},
   "outputs": [],
   "source": [
    "seasonal_decompose(test[\"CO2 molfrac (ppm)\"]).plot();"
   ]
  },
  {
   "cell_type": "markdown",
   "id": "5b76d6e4",
   "metadata": {},
   "source": [
    "It looks like in 2016-2018 there was a __slight rise__ in all of our values before the regular (slightly shallower) trend took over again. This is a great example of something occuring in our test dataset that we simply cannot predict. We don't know why there was a surge in CO2 readings - and we couldn't predict for it."
   ]
  },
  {
   "cell_type": "markdown",
   "id": "f302f6a9",
   "metadata": {},
   "source": [
    "❗ When we model with Time Series, we __cannot magically predict the future__. What we're trying to do is accurately capture and then extend the patterns of the past. \n",
    "\n",
    "- Often times, your raw predictions (without a seasonal component) will look like a fairly boring straight line 🙄 (as our current initial ones did) but this is what we'd expect\n",
    "- Some of the most value that we get out when doing Time Series analysis lies in being able to __quantify__ our trends, seasonal components and our confidence intervals so we can make well-informed decisions ✅"
   ]
  },
  {
   "cell_type": "markdown",
   "id": "113c4649",
   "metadata": {},
   "source": [
    "Finally, let's quickly quantify how much better our model was than our baseline. Calculate the mean absolute error between your `preds` (with their seasonal component) and the true values. See if your `model_mae` is lower than the original `baseline_mae`. "
   ]
  },
  {
   "cell_type": "code",
   "execution_count": null,
   "id": "60ea7f76",
   "metadata": {},
   "outputs": [],
   "source": [
    "model_mae = (test[\"CO2 molfrac (ppm)\"] - preds_df[\"full_preds\"]).mean()"
   ]
  },
  {
   "cell_type": "code",
   "execution_count": null,
   "id": "66878f77",
   "metadata": {
    "tags": [
     "challengify"
    ]
   },
   "outputs": [],
   "source": [
    "# YOUR CODE HERE"
   ]
  },
  {
   "cell_type": "markdown",
   "id": "5928b7c9",
   "metadata": {},
   "source": [
    "Our final MAE should be __much__ better than our original baseline. Great work 🥳 In the next notebook, we'll explore how we can use Facebook Prophet to quickly make powerful predictions without the need for decomposition."
   ]
  }
 ],
 "metadata": {
  "kernelspec": {
   "display_name": "Python 3 (ipykernel)",
   "language": "python",
   "name": "python3"
  },
  "language_info": {
   "codemirror_mode": {
    "name": "ipython",
    "version": 3
   },
   "file_extension": ".py",
   "mimetype": "text/x-python",
   "name": "python",
   "nbconvert_exporter": "python",
   "pygments_lexer": "ipython3",
   "version": "3.10.6"
  },
  "toc": {
   "base_numbering": 1,
   "nav_menu": {},
   "number_sections": true,
   "sideBar": true,
   "skip_h1_title": false,
   "title_cell": "Table of Contents",
   "title_sidebar": "Contents",
   "toc_cell": false,
   "toc_position": {},
   "toc_section_display": true,
   "toc_window_display": false
  }
 },
 "nbformat": 4,
 "nbformat_minor": 5
}
