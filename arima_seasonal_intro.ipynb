{
 "cells": [
  {
   "cell_type": "markdown",
   "id": "65f16d9c",
   "metadata": {},
   "source": [
    "# Combining ARIMA with Decomposition"
   ]
  },
  {
   "cell_type": "markdown",
   "id": "77626f79",
   "metadata": {},
   "source": [
    "We've already gone through the process of a simple ARIMA model. In this exercise we're going to build on that slightly by using a combination of an ARIMA model with the `seasonal decompose` tool you saw in the lecture. There are models we can use __specifically__ for dealing with seasonality, but we're going to go step by step here and manually pull apart this time series so we fully understand it and some of the issues we can have when working with TS data."
   ]
  },
  {
   "cell_type": "markdown",
   "id": "1b356281",
   "metadata": {},
   "source": [
    "For this challenge we're going to be working with the daily CO2 ppm measurements, specifically, the daily CO2 measurements from the Mauna Loa Observatory 🌋\n",
    "\n",
    "They have been taken since since 1958, and are a cornerstone of climate science. Perched at over 3,000 meters in Hawaii, the observatory is well-positioned to monitor global atmospheric carbon levels, largely free from local emissions. While the record is robust, __it does contain gaps due to occasional instrument issues or extreme weather__, which researchers must account for in their analyses to maintain the integrity of this critical dataset.  We'll be using a portion of data that has been taken __almost__ daily since 1974 - we will address the gaps in the data throughout the course of the notebook!\n",
    "\n",
    "If you're curious about the climate work done by the lab, you can read more about it here: https://gml.noaa.gov/ccgg/about/co2_measurements.html"
   ]
  },
  {
   "cell_type": "markdown",
   "id": "6f66f170",
   "metadata": {},
   "source": [
    "## Loading and exploring the data"
   ]
  },
  {
   "cell_type": "code",
   "execution_count": 86,
   "id": "06ee5b7c",
   "metadata": {},
   "outputs": [],
   "source": [
    "import pandas as pd\n",
    "import matplotlib.pyplot as plt\n",
    "import numpy as np\n",
    "from statsmodels.tsa.seasonal import seasonal_decompose\n",
    "from statsmodels.tsa.stattools import adfuller\n",
    "from statsmodels.tsa.arima.model import ARIMA\n"
   ]
  },
  {
   "cell_type": "code",
   "execution_count": 2,
   "id": "42767ad4",
   "metadata": {},
   "outputs": [],
   "source": [
    "df = pd.read_csv(\"https://wagon-public-datasets.s3.amazonaws.com/05-Machine-Learning/09-Time-Series/co2_daily_mlo.csv\")"
   ]
  },
  {
   "cell_type": "code",
   "execution_count": 3,
   "id": "c9ee941a",
   "metadata": {},
   "outputs": [
    {
     "data": {
      "text/html": [
       "<div>\n",
       "<style scoped>\n",
       "    .dataframe tbody tr th:only-of-type {\n",
       "        vertical-align: middle;\n",
       "    }\n",
       "\n",
       "    .dataframe tbody tr th {\n",
       "        vertical-align: top;\n",
       "    }\n",
       "\n",
       "    .dataframe thead th {\n",
       "        text-align: right;\n",
       "    }\n",
       "</style>\n",
       "<table border=\"1\" class=\"dataframe\">\n",
       "  <thead>\n",
       "    <tr style=\"text-align: right;\">\n",
       "      <th></th>\n",
       "      <th>year</th>\n",
       "      <th>month</th>\n",
       "      <th>day</th>\n",
       "      <th>CO2 molfrac (ppm)</th>\n",
       "    </tr>\n",
       "  </thead>\n",
       "  <tbody>\n",
       "    <tr>\n",
       "      <th>0</th>\n",
       "      <td>1974</td>\n",
       "      <td>5</td>\n",
       "      <td>17</td>\n",
       "      <td>333.38</td>\n",
       "    </tr>\n",
       "    <tr>\n",
       "      <th>1</th>\n",
       "      <td>1974</td>\n",
       "      <td>5</td>\n",
       "      <td>18</td>\n",
       "      <td>333.11</td>\n",
       "    </tr>\n",
       "    <tr>\n",
       "      <th>2</th>\n",
       "      <td>1974</td>\n",
       "      <td>5</td>\n",
       "      <td>19</td>\n",
       "      <td>333.46</td>\n",
       "    </tr>\n",
       "    <tr>\n",
       "      <th>3</th>\n",
       "      <td>1974</td>\n",
       "      <td>5</td>\n",
       "      <td>20</td>\n",
       "      <td>333.64</td>\n",
       "    </tr>\n",
       "    <tr>\n",
       "      <th>4</th>\n",
       "      <td>1974</td>\n",
       "      <td>5</td>\n",
       "      <td>21</td>\n",
       "      <td>333.50</td>\n",
       "    </tr>\n",
       "    <tr>\n",
       "      <th>...</th>\n",
       "      <td>...</td>\n",
       "      <td>...</td>\n",
       "      <td>...</td>\n",
       "      <td>...</td>\n",
       "    </tr>\n",
       "    <tr>\n",
       "      <th>15191</th>\n",
       "      <td>2023</td>\n",
       "      <td>10</td>\n",
       "      <td>19</td>\n",
       "      <td>419.44</td>\n",
       "    </tr>\n",
       "    <tr>\n",
       "      <th>15192</th>\n",
       "      <td>2023</td>\n",
       "      <td>10</td>\n",
       "      <td>20</td>\n",
       "      <td>419.53</td>\n",
       "    </tr>\n",
       "    <tr>\n",
       "      <th>15193</th>\n",
       "      <td>2023</td>\n",
       "      <td>10</td>\n",
       "      <td>21</td>\n",
       "      <td>418.90</td>\n",
       "    </tr>\n",
       "    <tr>\n",
       "      <th>15194</th>\n",
       "      <td>2023</td>\n",
       "      <td>10</td>\n",
       "      <td>23</td>\n",
       "      <td>419.09</td>\n",
       "    </tr>\n",
       "    <tr>\n",
       "      <th>15195</th>\n",
       "      <td>2023</td>\n",
       "      <td>10</td>\n",
       "      <td>24</td>\n",
       "      <td>418.89</td>\n",
       "    </tr>\n",
       "  </tbody>\n",
       "</table>\n",
       "<p>15196 rows × 4 columns</p>\n",
       "</div>"
      ],
      "text/plain": [
       "       year  month  day  CO2 molfrac (ppm)\n",
       "0      1974      5   17             333.38\n",
       "1      1974      5   18             333.11\n",
       "2      1974      5   19             333.46\n",
       "3      1974      5   20             333.64\n",
       "4      1974      5   21             333.50\n",
       "...     ...    ...  ...                ...\n",
       "15191  2023     10   19             419.44\n",
       "15192  2023     10   20             419.53\n",
       "15193  2023     10   21             418.90\n",
       "15194  2023     10   23             419.09\n",
       "15195  2023     10   24             418.89\n",
       "\n",
       "[15196 rows x 4 columns]"
      ]
     },
     "execution_count": 3,
     "metadata": {},
     "output_type": "execute_result"
    }
   ],
   "source": [
    "df"
   ]
  },
  {
   "cell_type": "markdown",
   "id": "faad9dae",
   "metadata": {},
   "source": [
    "We can see the data isn't formatted very nicely for us to work with, so let's solve that step first by using `pd.to_datetime()` (you can use the function on multiple columns at once 👀). Check the [docs](https://pandas.pydata.org/docs/reference/api/pandas.to_datetime.html) to find out more.\n",
    "\n",
    "Once you've formatted it correctly, set it as your index."
   ]
  },
  {
   "cell_type": "code",
   "execution_count": 4,
   "id": "0f8fe9eb",
   "metadata": {},
   "outputs": [
    {
     "data": {
      "text/html": [
       "<div>\n",
       "<style scoped>\n",
       "    .dataframe tbody tr th:only-of-type {\n",
       "        vertical-align: middle;\n",
       "    }\n",
       "\n",
       "    .dataframe tbody tr th {\n",
       "        vertical-align: top;\n",
       "    }\n",
       "\n",
       "    .dataframe thead th {\n",
       "        text-align: right;\n",
       "    }\n",
       "</style>\n",
       "<table border=\"1\" class=\"dataframe\">\n",
       "  <thead>\n",
       "    <tr style=\"text-align: right;\">\n",
       "      <th></th>\n",
       "      <th>year</th>\n",
       "      <th>month</th>\n",
       "      <th>day</th>\n",
       "    </tr>\n",
       "  </thead>\n",
       "  <tbody>\n",
       "    <tr>\n",
       "      <th>0</th>\n",
       "      <td>1974</td>\n",
       "      <td>5</td>\n",
       "      <td>17</td>\n",
       "    </tr>\n",
       "    <tr>\n",
       "      <th>1</th>\n",
       "      <td>1974</td>\n",
       "      <td>5</td>\n",
       "      <td>18</td>\n",
       "    </tr>\n",
       "    <tr>\n",
       "      <th>2</th>\n",
       "      <td>1974</td>\n",
       "      <td>5</td>\n",
       "      <td>19</td>\n",
       "    </tr>\n",
       "    <tr>\n",
       "      <th>3</th>\n",
       "      <td>1974</td>\n",
       "      <td>5</td>\n",
       "      <td>20</td>\n",
       "    </tr>\n",
       "    <tr>\n",
       "      <th>4</th>\n",
       "      <td>1974</td>\n",
       "      <td>5</td>\n",
       "      <td>21</td>\n",
       "    </tr>\n",
       "    <tr>\n",
       "      <th>...</th>\n",
       "      <td>...</td>\n",
       "      <td>...</td>\n",
       "      <td>...</td>\n",
       "    </tr>\n",
       "    <tr>\n",
       "      <th>15191</th>\n",
       "      <td>2023</td>\n",
       "      <td>10</td>\n",
       "      <td>19</td>\n",
       "    </tr>\n",
       "    <tr>\n",
       "      <th>15192</th>\n",
       "      <td>2023</td>\n",
       "      <td>10</td>\n",
       "      <td>20</td>\n",
       "    </tr>\n",
       "    <tr>\n",
       "      <th>15193</th>\n",
       "      <td>2023</td>\n",
       "      <td>10</td>\n",
       "      <td>21</td>\n",
       "    </tr>\n",
       "    <tr>\n",
       "      <th>15194</th>\n",
       "      <td>2023</td>\n",
       "      <td>10</td>\n",
       "      <td>23</td>\n",
       "    </tr>\n",
       "    <tr>\n",
       "      <th>15195</th>\n",
       "      <td>2023</td>\n",
       "      <td>10</td>\n",
       "      <td>24</td>\n",
       "    </tr>\n",
       "  </tbody>\n",
       "</table>\n",
       "<p>15196 rows × 3 columns</p>\n",
       "</div>"
      ],
      "text/plain": [
       "       year  month  day\n",
       "0      1974      5   17\n",
       "1      1974      5   18\n",
       "2      1974      5   19\n",
       "3      1974      5   20\n",
       "4      1974      5   21\n",
       "...     ...    ...  ...\n",
       "15191  2023     10   19\n",
       "15192  2023     10   20\n",
       "15193  2023     10   21\n",
       "15194  2023     10   23\n",
       "15195  2023     10   24\n",
       "\n",
       "[15196 rows x 3 columns]"
      ]
     },
     "execution_count": 4,
     "metadata": {},
     "output_type": "execute_result"
    }
   ],
   "source": [
    "df[['year' ,'month', 'day']]"
   ]
  },
  {
   "cell_type": "code",
   "execution_count": 5,
   "id": "48bec44e",
   "metadata": {
    "tags": [
     "challengify"
    ]
   },
   "outputs": [
    {
     "data": {
      "text/html": [
       "<div>\n",
       "<style scoped>\n",
       "    .dataframe tbody tr th:only-of-type {\n",
       "        vertical-align: middle;\n",
       "    }\n",
       "\n",
       "    .dataframe tbody tr th {\n",
       "        vertical-align: top;\n",
       "    }\n",
       "\n",
       "    .dataframe thead th {\n",
       "        text-align: right;\n",
       "    }\n",
       "</style>\n",
       "<table border=\"1\" class=\"dataframe\">\n",
       "  <thead>\n",
       "    <tr style=\"text-align: right;\">\n",
       "      <th></th>\n",
       "      <th>year</th>\n",
       "      <th>month</th>\n",
       "      <th>day</th>\n",
       "      <th>CO2 molfrac (ppm)</th>\n",
       "      <th>date</th>\n",
       "    </tr>\n",
       "  </thead>\n",
       "  <tbody>\n",
       "    <tr>\n",
       "      <th>0</th>\n",
       "      <td>1974</td>\n",
       "      <td>5</td>\n",
       "      <td>17</td>\n",
       "      <td>333.38</td>\n",
       "      <td>1974-05-17</td>\n",
       "    </tr>\n",
       "    <tr>\n",
       "      <th>1</th>\n",
       "      <td>1974</td>\n",
       "      <td>5</td>\n",
       "      <td>18</td>\n",
       "      <td>333.11</td>\n",
       "      <td>1974-05-18</td>\n",
       "    </tr>\n",
       "    <tr>\n",
       "      <th>2</th>\n",
       "      <td>1974</td>\n",
       "      <td>5</td>\n",
       "      <td>19</td>\n",
       "      <td>333.46</td>\n",
       "      <td>1974-05-19</td>\n",
       "    </tr>\n",
       "    <tr>\n",
       "      <th>3</th>\n",
       "      <td>1974</td>\n",
       "      <td>5</td>\n",
       "      <td>20</td>\n",
       "      <td>333.64</td>\n",
       "      <td>1974-05-20</td>\n",
       "    </tr>\n",
       "    <tr>\n",
       "      <th>4</th>\n",
       "      <td>1974</td>\n",
       "      <td>5</td>\n",
       "      <td>21</td>\n",
       "      <td>333.50</td>\n",
       "      <td>1974-05-21</td>\n",
       "    </tr>\n",
       "    <tr>\n",
       "      <th>...</th>\n",
       "      <td>...</td>\n",
       "      <td>...</td>\n",
       "      <td>...</td>\n",
       "      <td>...</td>\n",
       "      <td>...</td>\n",
       "    </tr>\n",
       "    <tr>\n",
       "      <th>15191</th>\n",
       "      <td>2023</td>\n",
       "      <td>10</td>\n",
       "      <td>19</td>\n",
       "      <td>419.44</td>\n",
       "      <td>2023-10-19</td>\n",
       "    </tr>\n",
       "    <tr>\n",
       "      <th>15192</th>\n",
       "      <td>2023</td>\n",
       "      <td>10</td>\n",
       "      <td>20</td>\n",
       "      <td>419.53</td>\n",
       "      <td>2023-10-20</td>\n",
       "    </tr>\n",
       "    <tr>\n",
       "      <th>15193</th>\n",
       "      <td>2023</td>\n",
       "      <td>10</td>\n",
       "      <td>21</td>\n",
       "      <td>418.90</td>\n",
       "      <td>2023-10-21</td>\n",
       "    </tr>\n",
       "    <tr>\n",
       "      <th>15194</th>\n",
       "      <td>2023</td>\n",
       "      <td>10</td>\n",
       "      <td>23</td>\n",
       "      <td>419.09</td>\n",
       "      <td>2023-10-23</td>\n",
       "    </tr>\n",
       "    <tr>\n",
       "      <th>15195</th>\n",
       "      <td>2023</td>\n",
       "      <td>10</td>\n",
       "      <td>24</td>\n",
       "      <td>418.89</td>\n",
       "      <td>2023-10-24</td>\n",
       "    </tr>\n",
       "  </tbody>\n",
       "</table>\n",
       "<p>15196 rows × 5 columns</p>\n",
       "</div>"
      ],
      "text/plain": [
       "       year  month  day  CO2 molfrac (ppm)       date\n",
       "0      1974      5   17             333.38 1974-05-17\n",
       "1      1974      5   18             333.11 1974-05-18\n",
       "2      1974      5   19             333.46 1974-05-19\n",
       "3      1974      5   20             333.64 1974-05-20\n",
       "4      1974      5   21             333.50 1974-05-21\n",
       "...     ...    ...  ...                ...        ...\n",
       "15191  2023     10   19             419.44 2023-10-19\n",
       "15192  2023     10   20             419.53 2023-10-20\n",
       "15193  2023     10   21             418.90 2023-10-21\n",
       "15194  2023     10   23             419.09 2023-10-23\n",
       "15195  2023     10   24             418.89 2023-10-24\n",
       "\n",
       "[15196 rows x 5 columns]"
      ]
     },
     "execution_count": 5,
     "metadata": {},
     "output_type": "execute_result"
    }
   ],
   "source": [
    "df['date']= pd.to_datetime(df[['year' ,'month', 'day']])\n",
    "df"
   ]
  },
  {
   "cell_type": "code",
   "execution_count": 6,
   "id": "aa6ee422",
   "metadata": {},
   "outputs": [
    {
     "data": {
      "text/html": [
       "<div>\n",
       "<style scoped>\n",
       "    .dataframe tbody tr th:only-of-type {\n",
       "        vertical-align: middle;\n",
       "    }\n",
       "\n",
       "    .dataframe tbody tr th {\n",
       "        vertical-align: top;\n",
       "    }\n",
       "\n",
       "    .dataframe thead th {\n",
       "        text-align: right;\n",
       "    }\n",
       "</style>\n",
       "<table border=\"1\" class=\"dataframe\">\n",
       "  <thead>\n",
       "    <tr style=\"text-align: right;\">\n",
       "      <th></th>\n",
       "      <th>CO2 molfrac (ppm)</th>\n",
       "      <th>date</th>\n",
       "    </tr>\n",
       "  </thead>\n",
       "  <tbody>\n",
       "    <tr>\n",
       "      <th>0</th>\n",
       "      <td>333.38</td>\n",
       "      <td>1974-05-17</td>\n",
       "    </tr>\n",
       "    <tr>\n",
       "      <th>1</th>\n",
       "      <td>333.11</td>\n",
       "      <td>1974-05-18</td>\n",
       "    </tr>\n",
       "    <tr>\n",
       "      <th>2</th>\n",
       "      <td>333.46</td>\n",
       "      <td>1974-05-19</td>\n",
       "    </tr>\n",
       "    <tr>\n",
       "      <th>3</th>\n",
       "      <td>333.64</td>\n",
       "      <td>1974-05-20</td>\n",
       "    </tr>\n",
       "    <tr>\n",
       "      <th>4</th>\n",
       "      <td>333.50</td>\n",
       "      <td>1974-05-21</td>\n",
       "    </tr>\n",
       "    <tr>\n",
       "      <th>...</th>\n",
       "      <td>...</td>\n",
       "      <td>...</td>\n",
       "    </tr>\n",
       "    <tr>\n",
       "      <th>15191</th>\n",
       "      <td>419.44</td>\n",
       "      <td>2023-10-19</td>\n",
       "    </tr>\n",
       "    <tr>\n",
       "      <th>15192</th>\n",
       "      <td>419.53</td>\n",
       "      <td>2023-10-20</td>\n",
       "    </tr>\n",
       "    <tr>\n",
       "      <th>15193</th>\n",
       "      <td>418.90</td>\n",
       "      <td>2023-10-21</td>\n",
       "    </tr>\n",
       "    <tr>\n",
       "      <th>15194</th>\n",
       "      <td>419.09</td>\n",
       "      <td>2023-10-23</td>\n",
       "    </tr>\n",
       "    <tr>\n",
       "      <th>15195</th>\n",
       "      <td>418.89</td>\n",
       "      <td>2023-10-24</td>\n",
       "    </tr>\n",
       "  </tbody>\n",
       "</table>\n",
       "<p>15196 rows × 2 columns</p>\n",
       "</div>"
      ],
      "text/plain": [
       "       CO2 molfrac (ppm)       date\n",
       "0                 333.38 1974-05-17\n",
       "1                 333.11 1974-05-18\n",
       "2                 333.46 1974-05-19\n",
       "3                 333.64 1974-05-20\n",
       "4                 333.50 1974-05-21\n",
       "...                  ...        ...\n",
       "15191             419.44 2023-10-19\n",
       "15192             419.53 2023-10-20\n",
       "15193             418.90 2023-10-21\n",
       "15194             419.09 2023-10-23\n",
       "15195             418.89 2023-10-24\n",
       "\n",
       "[15196 rows x 2 columns]"
      ]
     },
     "execution_count": 6,
     "metadata": {},
     "output_type": "execute_result"
    }
   ],
   "source": [
    "df.drop(['year' ,'month', 'day'], inplace=True, axis=1)\n",
    "df"
   ]
  },
  {
   "cell_type": "code",
   "execution_count": 7,
   "id": "e1c338b3",
   "metadata": {},
   "outputs": [
    {
     "data": {
      "text/html": [
       "<div>\n",
       "<style scoped>\n",
       "    .dataframe tbody tr th:only-of-type {\n",
       "        vertical-align: middle;\n",
       "    }\n",
       "\n",
       "    .dataframe tbody tr th {\n",
       "        vertical-align: top;\n",
       "    }\n",
       "\n",
       "    .dataframe thead th {\n",
       "        text-align: right;\n",
       "    }\n",
       "</style>\n",
       "<table border=\"1\" class=\"dataframe\">\n",
       "  <thead>\n",
       "    <tr style=\"text-align: right;\">\n",
       "      <th></th>\n",
       "      <th>CO2 molfrac (ppm)</th>\n",
       "    </tr>\n",
       "    <tr>\n",
       "      <th>date</th>\n",
       "      <th></th>\n",
       "    </tr>\n",
       "  </thead>\n",
       "  <tbody>\n",
       "    <tr>\n",
       "      <th>1974-05-17</th>\n",
       "      <td>333.38</td>\n",
       "    </tr>\n",
       "    <tr>\n",
       "      <th>1974-05-18</th>\n",
       "      <td>333.11</td>\n",
       "    </tr>\n",
       "    <tr>\n",
       "      <th>1974-05-19</th>\n",
       "      <td>333.46</td>\n",
       "    </tr>\n",
       "    <tr>\n",
       "      <th>1974-05-20</th>\n",
       "      <td>333.64</td>\n",
       "    </tr>\n",
       "    <tr>\n",
       "      <th>1974-05-21</th>\n",
       "      <td>333.50</td>\n",
       "    </tr>\n",
       "    <tr>\n",
       "      <th>...</th>\n",
       "      <td>...</td>\n",
       "    </tr>\n",
       "    <tr>\n",
       "      <th>2023-10-19</th>\n",
       "      <td>419.44</td>\n",
       "    </tr>\n",
       "    <tr>\n",
       "      <th>2023-10-20</th>\n",
       "      <td>419.53</td>\n",
       "    </tr>\n",
       "    <tr>\n",
       "      <th>2023-10-21</th>\n",
       "      <td>418.90</td>\n",
       "    </tr>\n",
       "    <tr>\n",
       "      <th>2023-10-23</th>\n",
       "      <td>419.09</td>\n",
       "    </tr>\n",
       "    <tr>\n",
       "      <th>2023-10-24</th>\n",
       "      <td>418.89</td>\n",
       "    </tr>\n",
       "  </tbody>\n",
       "</table>\n",
       "<p>15196 rows × 1 columns</p>\n",
       "</div>"
      ],
      "text/plain": [
       "            CO2 molfrac (ppm)\n",
       "date                         \n",
       "1974-05-17             333.38\n",
       "1974-05-18             333.11\n",
       "1974-05-19             333.46\n",
       "1974-05-20             333.64\n",
       "1974-05-21             333.50\n",
       "...                       ...\n",
       "2023-10-19             419.44\n",
       "2023-10-20             419.53\n",
       "2023-10-21             418.90\n",
       "2023-10-23             419.09\n",
       "2023-10-24             418.89\n",
       "\n",
       "[15196 rows x 1 columns]"
      ]
     },
     "execution_count": 7,
     "metadata": {},
     "output_type": "execute_result"
    }
   ],
   "source": [
    "df.set_index('date', inplace=True)\n",
    "df"
   ]
  },
  {
   "cell_type": "markdown",
   "id": "a6f61c9b",
   "metadata": {},
   "source": [
    "Plot out your CO2 values and discuss with your partner what you see. Does it look like you have any gaps in your data? Are you __sure__? Check the top 50 values of your DataFrame"
   ]
  },
  {
   "cell_type": "code",
   "execution_count": 8,
   "id": "f049b267",
   "metadata": {
    "tags": [
     "challengify"
    ]
   },
   "outputs": [
    {
     "data": {
      "text/plain": [
       "<AxesSubplot:xlabel='date'>"
      ]
     },
     "execution_count": 8,
     "metadata": {},
     "output_type": "execute_result"
    },
    {
     "data": {
      "image/png": "[encoded data removed]",
      "text/plain": [
       "<Figure size 640x480 with 1 Axes>"
      ]
     },
     "metadata": {},
     "output_type": "display_data"
    }
   ],
   "source": [
    "df['CO2 molfrac (ppm)'].plot()"
   ]
  },
  {
   "cell_type": "code",
   "execution_count": 9,
   "id": "80ae8daa",
   "metadata": {
    "tags": [
     "challengify"
    ]
   },
   "outputs": [
    {
     "data": {
      "text/html": [
       "<div>\n",
       "<style scoped>\n",
       "    .dataframe tbody tr th:only-of-type {\n",
       "        vertical-align: middle;\n",
       "    }\n",
       "\n",
       "    .dataframe tbody tr th {\n",
       "        vertical-align: top;\n",
       "    }\n",
       "\n",
       "    .dataframe thead th {\n",
       "        text-align: right;\n",
       "    }\n",
       "</style>\n",
       "<table border=\"1\" class=\"dataframe\">\n",
       "  <thead>\n",
       "    <tr style=\"text-align: right;\">\n",
       "      <th></th>\n",
       "      <th>CO2 molfrac (ppm)</th>\n",
       "    </tr>\n",
       "    <tr>\n",
       "      <th>date</th>\n",
       "      <th></th>\n",
       "    </tr>\n",
       "  </thead>\n",
       "  <tbody>\n",
       "    <tr>\n",
       "      <th>1974-05-17</th>\n",
       "      <td>333.38</td>\n",
       "    </tr>\n",
       "    <tr>\n",
       "      <th>1974-05-18</th>\n",
       "      <td>333.11</td>\n",
       "    </tr>\n",
       "    <tr>\n",
       "      <th>1974-05-19</th>\n",
       "      <td>333.46</td>\n",
       "    </tr>\n",
       "    <tr>\n",
       "      <th>1974-05-20</th>\n",
       "      <td>333.64</td>\n",
       "    </tr>\n",
       "    <tr>\n",
       "      <th>1974-05-21</th>\n",
       "      <td>333.50</td>\n",
       "    </tr>\n",
       "    <tr>\n",
       "      <th>1974-05-22</th>\n",
       "      <td>333.21</td>\n",
       "    </tr>\n",
       "    <tr>\n",
       "      <th>1974-05-23</th>\n",
       "      <td>333.05</td>\n",
       "    </tr>\n",
       "    <tr>\n",
       "      <th>1974-05-26</th>\n",
       "      <td>333.32</td>\n",
       "    </tr>\n",
       "    <tr>\n",
       "      <th>1974-05-27</th>\n",
       "      <td>332.79</td>\n",
       "    </tr>\n",
       "    <tr>\n",
       "      <th>1974-05-28</th>\n",
       "      <td>332.43</td>\n",
       "    </tr>\n",
       "    <tr>\n",
       "      <th>1974-05-29</th>\n",
       "      <td>332.60</td>\n",
       "    </tr>\n",
       "    <tr>\n",
       "      <th>1974-05-30</th>\n",
       "      <td>333.30</td>\n",
       "    </tr>\n",
       "    <tr>\n",
       "      <th>1974-05-31</th>\n",
       "      <td>333.25</td>\n",
       "    </tr>\n",
       "    <tr>\n",
       "      <th>1974-06-04</th>\n",
       "      <td>333.08</td>\n",
       "    </tr>\n",
       "    <tr>\n",
       "      <th>1974-06-05</th>\n",
       "      <td>332.75</td>\n",
       "    </tr>\n",
       "    <tr>\n",
       "      <th>1974-06-06</th>\n",
       "      <td>331.83</td>\n",
       "    </tr>\n",
       "    <tr>\n",
       "      <th>1974-06-07</th>\n",
       "      <td>332.09</td>\n",
       "    </tr>\n",
       "    <tr>\n",
       "      <th>1974-06-08</th>\n",
       "      <td>332.00</td>\n",
       "    </tr>\n",
       "    <tr>\n",
       "      <th>1974-06-09</th>\n",
       "      <td>332.36</td>\n",
       "    </tr>\n",
       "    <tr>\n",
       "      <th>1974-06-10</th>\n",
       "      <td>332.25</td>\n",
       "    </tr>\n",
       "    <tr>\n",
       "      <th>1974-06-11</th>\n",
       "      <td>332.28</td>\n",
       "    </tr>\n",
       "    <tr>\n",
       "      <th>1974-06-12</th>\n",
       "      <td>332.03</td>\n",
       "    </tr>\n",
       "    <tr>\n",
       "      <th>1974-06-13</th>\n",
       "      <td>331.85</td>\n",
       "    </tr>\n",
       "    <tr>\n",
       "      <th>1974-06-14</th>\n",
       "      <td>332.63</td>\n",
       "    </tr>\n",
       "    <tr>\n",
       "      <th>1974-06-15</th>\n",
       "      <td>332.02</td>\n",
       "    </tr>\n",
       "    <tr>\n",
       "      <th>1974-06-16</th>\n",
       "      <td>332.10</td>\n",
       "    </tr>\n",
       "    <tr>\n",
       "      <th>1974-06-17</th>\n",
       "      <td>332.18</td>\n",
       "    </tr>\n",
       "    <tr>\n",
       "      <th>1974-06-18</th>\n",
       "      <td>332.74</td>\n",
       "    </tr>\n",
       "    <tr>\n",
       "      <th>1974-06-19</th>\n",
       "      <td>332.33</td>\n",
       "    </tr>\n",
       "    <tr>\n",
       "      <th>1974-06-20</th>\n",
       "      <td>332.35</td>\n",
       "    </tr>\n",
       "    <tr>\n",
       "      <th>1974-06-21</th>\n",
       "      <td>332.53</td>\n",
       "    </tr>\n",
       "    <tr>\n",
       "      <th>1974-06-22</th>\n",
       "      <td>332.35</td>\n",
       "    </tr>\n",
       "    <tr>\n",
       "      <th>1974-06-23</th>\n",
       "      <td>332.25</td>\n",
       "    </tr>\n",
       "    <tr>\n",
       "      <th>1974-06-24</th>\n",
       "      <td>331.44</td>\n",
       "    </tr>\n",
       "    <tr>\n",
       "      <th>1974-06-25</th>\n",
       "      <td>332.08</td>\n",
       "    </tr>\n",
       "    <tr>\n",
       "      <th>1974-06-27</th>\n",
       "      <td>331.28</td>\n",
       "    </tr>\n",
       "    <tr>\n",
       "      <th>1974-06-28</th>\n",
       "      <td>331.61</td>\n",
       "    </tr>\n",
       "    <tr>\n",
       "      <th>1974-06-30</th>\n",
       "      <td>331.85</td>\n",
       "    </tr>\n",
       "    <tr>\n",
       "      <th>1974-07-02</th>\n",
       "      <td>331.44</td>\n",
       "    </tr>\n",
       "    <tr>\n",
       "      <th>1974-07-03</th>\n",
       "      <td>332.06</td>\n",
       "    </tr>\n",
       "    <tr>\n",
       "      <th>1974-07-04</th>\n",
       "      <td>331.65</td>\n",
       "    </tr>\n",
       "    <tr>\n",
       "      <th>1974-07-05</th>\n",
       "      <td>331.58</td>\n",
       "    </tr>\n",
       "    <tr>\n",
       "      <th>1974-07-06</th>\n",
       "      <td>331.53</td>\n",
       "    </tr>\n",
       "    <tr>\n",
       "      <th>1974-07-08</th>\n",
       "      <td>331.57</td>\n",
       "    </tr>\n",
       "    <tr>\n",
       "      <th>1974-07-09</th>\n",
       "      <td>331.65</td>\n",
       "    </tr>\n",
       "    <tr>\n",
       "      <th>1974-07-10</th>\n",
       "      <td>331.47</td>\n",
       "    </tr>\n",
       "    <tr>\n",
       "      <th>1974-07-11</th>\n",
       "      <td>331.55</td>\n",
       "    </tr>\n",
       "    <tr>\n",
       "      <th>1974-07-12</th>\n",
       "      <td>331.26</td>\n",
       "    </tr>\n",
       "    <tr>\n",
       "      <th>1974-07-13</th>\n",
       "      <td>331.27</td>\n",
       "    </tr>\n",
       "    <tr>\n",
       "      <th>1974-07-15</th>\n",
       "      <td>331.04</td>\n",
       "    </tr>\n",
       "  </tbody>\n",
       "</table>\n",
       "</div>"
      ],
      "text/plain": [
       "            CO2 molfrac (ppm)\n",
       "date                         \n",
       "1974-05-17             333.38\n",
       "1974-05-18             333.11\n",
       "1974-05-19             333.46\n",
       "1974-05-20             333.64\n",
       "1974-05-21             333.50\n",
       "1974-05-22             333.21\n",
       "1974-05-23             333.05\n",
       "1974-05-26             333.32\n",
       "1974-05-27             332.79\n",
       "1974-05-28             332.43\n",
       "1974-05-29             332.60\n",
       "1974-05-30             333.30\n",
       "1974-05-31             333.25\n",
       "1974-06-04             333.08\n",
       "1974-06-05             332.75\n",
       "1974-06-06             331.83\n",
       "1974-06-07             332.09\n",
       "1974-06-08             332.00\n",
       "1974-06-09             332.36\n",
       "1974-06-10             332.25\n",
       "1974-06-11             332.28\n",
       "1974-06-12             332.03\n",
       "1974-06-13             331.85\n",
       "1974-06-14             332.63\n",
       "1974-06-15             332.02\n",
       "1974-06-16             332.10\n",
       "1974-06-17             332.18\n",
       "1974-06-18             332.74\n",
       "1974-06-19             332.33\n",
       "1974-06-20             332.35\n",
       "1974-06-21             332.53\n",
       "1974-06-22             332.35\n",
       "1974-06-23             332.25\n",
       "1974-06-24             331.44\n",
       "1974-06-25             332.08\n",
       "1974-06-27             331.28\n",
       "1974-06-28             331.61\n",
       "1974-06-30             331.85\n",
       "1974-07-02             331.44\n",
       "1974-07-03             332.06\n",
       "1974-07-04             331.65\n",
       "1974-07-05             331.58\n",
       "1974-07-06             331.53\n",
       "1974-07-08             331.57\n",
       "1974-07-09             331.65\n",
       "1974-07-10             331.47\n",
       "1974-07-11             331.55\n",
       "1974-07-12             331.26\n",
       "1974-07-13             331.27\n",
       "1974-07-15             331.04"
      ]
     },
     "execution_count": 9,
     "metadata": {},
     "output_type": "execute_result"
    }
   ],
   "source": [
    "df.head(50)"
   ]
  },
  {
   "cell_type": "markdown",
   "id": "38137470",
   "metadata": {},
   "source": [
    "We're missing some dates 😱 Even though we don't have any obvious `NaN` values, there are missing dates from our index. This is something you need to be __really__ careful about with TS data.\n",
    "\n",
    "Let's work out how many days we're missing. Subtracting your end date (the `max()` of your `index`) from your start date (the `min()` of your `index`)to see how many days __should__ between the two."
   ]
  },
  {
   "cell_type": "code",
   "execution_count": 10,
   "id": "db420cb1",
   "metadata": {
    "scrolled": true,
    "tags": [
     "challengify"
    ]
   },
   "outputs": [
    {
     "data": {
      "text/plain": [
       "18057"
      ]
     },
     "execution_count": 10,
     "metadata": {},
     "output_type": "execute_result"
    }
   ],
   "source": [
    "diff= max(df.index)- min(df.index)\n",
    "diff.days"
   ]
  },
  {
   "cell_type": "code",
   "execution_count": 11,
   "id": "252f58c3",
   "metadata": {},
   "outputs": [
    {
     "data": {
      "text/plain": [
       "15196"
      ]
     },
     "execution_count": 11,
     "metadata": {},
     "output_type": "execute_result"
    }
   ],
   "source": [
    "shape= df.shape\n",
    "shape[0]"
   ]
  },
  {
   "cell_type": "markdown",
   "id": "e403cc00",
   "metadata": {},
   "source": [
    "How does this differ from the number of days we __actually__ have in our DataFrame? Save your answer to a variable `missing`"
   ]
  },
  {
   "cell_type": "code",
   "execution_count": 12,
   "id": "b4507970",
   "metadata": {
    "tags": [
     "challengify"
    ]
   },
   "outputs": [
    {
     "data": {
      "text/plain": [
       "2861"
      ]
     },
     "execution_count": 12,
     "metadata": {},
     "output_type": "execute_result"
    }
   ],
   "source": [
    "missing= diff.days- shape[0]\n",
    "missing"
   ]
  },
  {
   "cell_type": "code",
   "execution_count": 13,
   "id": "b5369366",
   "metadata": {},
   "outputs": [
    {
     "name": "stdout",
     "output_type": "stream",
     "text": [
      "\n",
      "\u001b[1m============================= test session starts ==============================\u001b[0m\n",
      "platform linux -- Python 3.10.6, pytest-7.1.3, pluggy-1.0.0 -- /home/parissa/.pyenv/versions/lewagon/bin/python3\n",
      "cachedir: .pytest_cache\n",
      "rootdir: /home/parissa/code/ParissaPeimaniyfard/05-ML/09-Time-Series/data-arima-101/tests\n",
      "plugins: typeguard-2.13.3, anyio-3.6.2, asyncio-0.19.0\n",
      "asyncio: mode=strict\n",
      "\u001b[1mcollecting ... \u001b[0mcollected 1 item\n",
      "\n",
      "test_missing.py::TestMissing::test_missing \u001b[32mPASSED\u001b[0m\u001b[32m                        [100%]\u001b[0m\n",
      "\n",
      "\u001b[32m============================== \u001b[32m\u001b[1m1 passed\u001b[0m\u001b[32m in 0.01s\u001b[0m\u001b[32m ===============================\u001b[0m\n",
      "\n",
      "\n",
      "💯 You can commit your code:\n",
      "\n",
      "\u001b[1;32mgit\u001b[39m add tests/missing.pickle\n",
      "\n",
      "\u001b[32mgit\u001b[39m commit -m \u001b[33m'Completed missing step'\u001b[39m\n",
      "\n",
      "\u001b[32mgit\u001b[39m push origin master\n",
      "\n"
     ]
    }
   ],
   "source": [
    "from nbresult import ChallengeResult\n",
    "\n",
    "result = ChallengeResult('missing',\n",
    "                         missing = missing)\n",
    "result.write()\n",
    "print(result.check())"
   ]
  },
  {
   "cell_type": "markdown",
   "id": "09de71df",
   "metadata": {},
   "source": [
    "Let's actually see where are missing values lie. Use `pd.date_range` to create the index we __should__ have. Then use the DataFrame's `.reindex()` function with this new date range to see where our null values actually are in our first 100 entries!"
   ]
  },
  {
   "cell_type": "code",
   "execution_count": 14,
   "id": "a084b409",
   "metadata": {},
   "outputs": [
    {
     "data": {
      "text/plain": [
       "Timestamp('1974-05-17 00:00:00')"
      ]
     },
     "execution_count": 14,
     "metadata": {},
     "output_type": "execute_result"
    }
   ],
   "source": [
    "df.index[0]"
   ]
  },
  {
   "cell_type": "code",
   "execution_count": 15,
   "id": "e67759d3",
   "metadata": {
    "scrolled": true,
    "tags": [
     "challengify"
    ]
   },
   "outputs": [
    {
     "data": {
      "text/plain": [
       "DatetimeIndex(['1974-05-17', '1974-05-18', '1974-05-19', '1974-05-20',\n",
       "               '1974-05-21', '1974-05-22', '1974-05-23', '1974-05-24',\n",
       "               '1974-05-25', '1974-05-26',\n",
       "               ...\n",
       "               '2023-10-15', '2023-10-16', '2023-10-17', '2023-10-18',\n",
       "               '2023-10-19', '2023-10-20', '2023-10-21', '2023-10-22',\n",
       "               '2023-10-23', '2023-10-24'],\n",
       "              dtype='datetime64[ns]', length=18058, freq='D')"
      ]
     },
     "execution_count": 15,
     "metadata": {},
     "output_type": "execute_result"
    }
   ],
   "source": [
    "correct_index= pd.date_range(start=df.index[0], end=df.index[-1])\n",
    "correct_index"
   ]
  },
  {
   "cell_type": "code",
   "execution_count": 16,
   "id": "7c3851f3",
   "metadata": {},
   "outputs": [],
   "source": [
    "df= df.reindex(correct_index)"
   ]
  },
  {
   "cell_type": "code",
   "execution_count": 17,
   "id": "41d5a9b1",
   "metadata": {},
   "outputs": [
    {
     "data": {
      "text/html": [
       "<div>\n",
       "<style scoped>\n",
       "    .dataframe tbody tr th:only-of-type {\n",
       "        vertical-align: middle;\n",
       "    }\n",
       "\n",
       "    .dataframe tbody tr th {\n",
       "        vertical-align: top;\n",
       "    }\n",
       "\n",
       "    .dataframe thead th {\n",
       "        text-align: right;\n",
       "    }\n",
       "</style>\n",
       "<table border=\"1\" class=\"dataframe\">\n",
       "  <thead>\n",
       "    <tr style=\"text-align: right;\">\n",
       "      <th></th>\n",
       "      <th>CO2 molfrac (ppm)</th>\n",
       "    </tr>\n",
       "  </thead>\n",
       "  <tbody>\n",
       "    <tr>\n",
       "      <th>1974-05-17</th>\n",
       "      <td>333.38</td>\n",
       "    </tr>\n",
       "    <tr>\n",
       "      <th>1974-05-18</th>\n",
       "      <td>333.11</td>\n",
       "    </tr>\n",
       "    <tr>\n",
       "      <th>1974-05-19</th>\n",
       "      <td>333.46</td>\n",
       "    </tr>\n",
       "    <tr>\n",
       "      <th>1974-05-20</th>\n",
       "      <td>333.64</td>\n",
       "    </tr>\n",
       "    <tr>\n",
       "      <th>1974-05-21</th>\n",
       "      <td>333.50</td>\n",
       "    </tr>\n",
       "    <tr>\n",
       "      <th>1974-05-22</th>\n",
       "      <td>333.21</td>\n",
       "    </tr>\n",
       "    <tr>\n",
       "      <th>1974-05-23</th>\n",
       "      <td>333.05</td>\n",
       "    </tr>\n",
       "    <tr>\n",
       "      <th>1974-05-24</th>\n",
       "      <td>NaN</td>\n",
       "    </tr>\n",
       "    <tr>\n",
       "      <th>1974-05-25</th>\n",
       "      <td>NaN</td>\n",
       "    </tr>\n",
       "    <tr>\n",
       "      <th>1974-05-26</th>\n",
       "      <td>333.32</td>\n",
       "    </tr>\n",
       "    <tr>\n",
       "      <th>1974-05-27</th>\n",
       "      <td>332.79</td>\n",
       "    </tr>\n",
       "    <tr>\n",
       "      <th>1974-05-28</th>\n",
       "      <td>332.43</td>\n",
       "    </tr>\n",
       "    <tr>\n",
       "      <th>1974-05-29</th>\n",
       "      <td>332.60</td>\n",
       "    </tr>\n",
       "    <tr>\n",
       "      <th>1974-05-30</th>\n",
       "      <td>333.30</td>\n",
       "    </tr>\n",
       "    <tr>\n",
       "      <th>1974-05-31</th>\n",
       "      <td>333.25</td>\n",
       "    </tr>\n",
       "    <tr>\n",
       "      <th>1974-06-01</th>\n",
       "      <td>NaN</td>\n",
       "    </tr>\n",
       "    <tr>\n",
       "      <th>1974-06-02</th>\n",
       "      <td>NaN</td>\n",
       "    </tr>\n",
       "    <tr>\n",
       "      <th>1974-06-03</th>\n",
       "      <td>NaN</td>\n",
       "    </tr>\n",
       "    <tr>\n",
       "      <th>1974-06-04</th>\n",
       "      <td>333.08</td>\n",
       "    </tr>\n",
       "    <tr>\n",
       "      <th>1974-06-05</th>\n",
       "      <td>332.75</td>\n",
       "    </tr>\n",
       "    <tr>\n",
       "      <th>1974-06-06</th>\n",
       "      <td>331.83</td>\n",
       "    </tr>\n",
       "    <tr>\n",
       "      <th>1974-06-07</th>\n",
       "      <td>332.09</td>\n",
       "    </tr>\n",
       "    <tr>\n",
       "      <th>1974-06-08</th>\n",
       "      <td>332.00</td>\n",
       "    </tr>\n",
       "    <tr>\n",
       "      <th>1974-06-09</th>\n",
       "      <td>332.36</td>\n",
       "    </tr>\n",
       "    <tr>\n",
       "      <th>1974-06-10</th>\n",
       "      <td>332.25</td>\n",
       "    </tr>\n",
       "    <tr>\n",
       "      <th>1974-06-11</th>\n",
       "      <td>332.28</td>\n",
       "    </tr>\n",
       "    <tr>\n",
       "      <th>1974-06-12</th>\n",
       "      <td>332.03</td>\n",
       "    </tr>\n",
       "    <tr>\n",
       "      <th>1974-06-13</th>\n",
       "      <td>331.85</td>\n",
       "    </tr>\n",
       "    <tr>\n",
       "      <th>1974-06-14</th>\n",
       "      <td>332.63</td>\n",
       "    </tr>\n",
       "    <tr>\n",
       "      <th>1974-06-15</th>\n",
       "      <td>332.02</td>\n",
       "    </tr>\n",
       "    <tr>\n",
       "      <th>1974-06-16</th>\n",
       "      <td>332.10</td>\n",
       "    </tr>\n",
       "    <tr>\n",
       "      <th>1974-06-17</th>\n",
       "      <td>332.18</td>\n",
       "    </tr>\n",
       "    <tr>\n",
       "      <th>1974-06-18</th>\n",
       "      <td>332.74</td>\n",
       "    </tr>\n",
       "    <tr>\n",
       "      <th>1974-06-19</th>\n",
       "      <td>332.33</td>\n",
       "    </tr>\n",
       "    <tr>\n",
       "      <th>1974-06-20</th>\n",
       "      <td>332.35</td>\n",
       "    </tr>\n",
       "    <tr>\n",
       "      <th>1974-06-21</th>\n",
       "      <td>332.53</td>\n",
       "    </tr>\n",
       "    <tr>\n",
       "      <th>1974-06-22</th>\n",
       "      <td>332.35</td>\n",
       "    </tr>\n",
       "    <tr>\n",
       "      <th>1974-06-23</th>\n",
       "      <td>332.25</td>\n",
       "    </tr>\n",
       "    <tr>\n",
       "      <th>1974-06-24</th>\n",
       "      <td>331.44</td>\n",
       "    </tr>\n",
       "    <tr>\n",
       "      <th>1974-06-25</th>\n",
       "      <td>332.08</td>\n",
       "    </tr>\n",
       "    <tr>\n",
       "      <th>1974-06-26</th>\n",
       "      <td>NaN</td>\n",
       "    </tr>\n",
       "    <tr>\n",
       "      <th>1974-06-27</th>\n",
       "      <td>331.28</td>\n",
       "    </tr>\n",
       "    <tr>\n",
       "      <th>1974-06-28</th>\n",
       "      <td>331.61</td>\n",
       "    </tr>\n",
       "    <tr>\n",
       "      <th>1974-06-29</th>\n",
       "      <td>NaN</td>\n",
       "    </tr>\n",
       "    <tr>\n",
       "      <th>1974-06-30</th>\n",
       "      <td>331.85</td>\n",
       "    </tr>\n",
       "    <tr>\n",
       "      <th>1974-07-01</th>\n",
       "      <td>NaN</td>\n",
       "    </tr>\n",
       "    <tr>\n",
       "      <th>1974-07-02</th>\n",
       "      <td>331.44</td>\n",
       "    </tr>\n",
       "    <tr>\n",
       "      <th>1974-07-03</th>\n",
       "      <td>332.06</td>\n",
       "    </tr>\n",
       "    <tr>\n",
       "      <th>1974-07-04</th>\n",
       "      <td>331.65</td>\n",
       "    </tr>\n",
       "    <tr>\n",
       "      <th>1974-07-05</th>\n",
       "      <td>331.58</td>\n",
       "    </tr>\n",
       "  </tbody>\n",
       "</table>\n",
       "</div>"
      ],
      "text/plain": [
       "            CO2 molfrac (ppm)\n",
       "1974-05-17             333.38\n",
       "1974-05-18             333.11\n",
       "1974-05-19             333.46\n",
       "1974-05-20             333.64\n",
       "1974-05-21             333.50\n",
       "1974-05-22             333.21\n",
       "1974-05-23             333.05\n",
       "1974-05-24                NaN\n",
       "1974-05-25                NaN\n",
       "1974-05-26             333.32\n",
       "1974-05-27             332.79\n",
       "1974-05-28             332.43\n",
       "1974-05-29             332.60\n",
       "1974-05-30             333.30\n",
       "1974-05-31             333.25\n",
       "1974-06-01                NaN\n",
       "1974-06-02                NaN\n",
       "1974-06-03                NaN\n",
       "1974-06-04             333.08\n",
       "1974-06-05             332.75\n",
       "1974-06-06             331.83\n",
       "1974-06-07             332.09\n",
       "1974-06-08             332.00\n",
       "1974-06-09             332.36\n",
       "1974-06-10             332.25\n",
       "1974-06-11             332.28\n",
       "1974-06-12             332.03\n",
       "1974-06-13             331.85\n",
       "1974-06-14             332.63\n",
       "1974-06-15             332.02\n",
       "1974-06-16             332.10\n",
       "1974-06-17             332.18\n",
       "1974-06-18             332.74\n",
       "1974-06-19             332.33\n",
       "1974-06-20             332.35\n",
       "1974-06-21             332.53\n",
       "1974-06-22             332.35\n",
       "1974-06-23             332.25\n",
       "1974-06-24             331.44\n",
       "1974-06-25             332.08\n",
       "1974-06-26                NaN\n",
       "1974-06-27             331.28\n",
       "1974-06-28             331.61\n",
       "1974-06-29                NaN\n",
       "1974-06-30             331.85\n",
       "1974-07-01                NaN\n",
       "1974-07-02             331.44\n",
       "1974-07-03             332.06\n",
       "1974-07-04             331.65\n",
       "1974-07-05             331.58"
      ]
     },
     "execution_count": 17,
     "metadata": {},
     "output_type": "execute_result"
    }
   ],
   "source": [
    "df.head(50)"
   ]
  },
  {
   "cell_type": "code",
   "execution_count": 18,
   "id": "be54eb85",
   "metadata": {
    "scrolled": false
   },
   "outputs": [
    {
     "data": {
      "text/plain": [
       "<AxesSubplot:>"
      ]
     },
     "execution_count": 18,
     "metadata": {},
     "output_type": "execute_result"
    },
    {
     "data": {
      "image/png": "[encoded data removed]",
      "text/plain": [
       "<Figure size 640x480 with 1 Axes>"
      ]
     },
     "metadata": {},
     "output_type": "display_data"
    }
   ],
   "source": [
    "df[:100].plot()"
   ]
  },
  {
   "cell_type": "code",
   "execution_count": null,
   "id": "fdb4c892",
   "metadata": {},
   "outputs": [],
   "source": []
  },
  {
   "cell_type": "markdown",
   "id": "b72afa00",
   "metadata": {},
   "source": [
    "We simplest option here is to use the very useful `pd.interpolate(\"linear\")` function to fill these in for us. Try running the cell below to see what it does:"
   ]
  },
  {
   "cell_type": "code",
   "execution_count": 19,
   "id": "bf7be718",
   "metadata": {},
   "outputs": [
    {
     "data": {
      "text/plain": [
       "<AxesSubplot:>"
      ]
     },
     "execution_count": 19,
     "metadata": {},
     "output_type": "execute_result"
    },
    {
     "data": {
      "image/png": "[encoded data removed]",
      "text/plain": [
       "<Figure size 640x480 with 1 Axes>"
      ]
     },
     "metadata": {},
     "output_type": "display_data"
    }
   ],
   "source": [
    "df[\"CO2 molfrac (ppm)\"][:100].interpolate(\"linear\").plot()"
   ]
  },
  {
   "cell_type": "markdown",
   "id": "dd8f7f3e",
   "metadata": {},
   "source": [
    "Interpolation uses a simple linear method to connect the dots for us 😊 Obviously this is making some assumptions that aren't perfectand we don't actually need to have daily samples - instead we'll `resample` our DataFrame on a monthly basis and try to model that. Try using the `.resample()` function to create a DataFrame with each month's average and name it `monthly`. See [docs](https://pandas.pydata.org/docs/reference/api/pandas.DataFrame.resample.html) here."
   ]
  },
  {
   "cell_type": "code",
   "execution_count": 20,
   "id": "02b0d438",
   "metadata": {
    "scrolled": true,
    "tags": [
     "challengify"
    ]
   },
   "outputs": [],
   "source": [
    "monthly= df.resample('M').mean()"
   ]
  },
  {
   "cell_type": "code",
   "execution_count": 21,
   "id": "13761f19",
   "metadata": {
    "collapsed": true
   },
   "outputs": [
    {
     "data": {
      "text/html": [
       "<div>\n",
       "<style scoped>\n",
       "    .dataframe tbody tr th:only-of-type {\n",
       "        vertical-align: middle;\n",
       "    }\n",
       "\n",
       "    .dataframe tbody tr th {\n",
       "        vertical-align: top;\n",
       "    }\n",
       "\n",
       "    .dataframe thead th {\n",
       "        text-align: right;\n",
       "    }\n",
       "</style>\n",
       "<table border=\"1\" class=\"dataframe\">\n",
       "  <thead>\n",
       "    <tr style=\"text-align: right;\">\n",
       "      <th></th>\n",
       "      <th>CO2 molfrac (ppm)</th>\n",
       "    </tr>\n",
       "  </thead>\n",
       "  <tbody>\n",
       "    <tr>\n",
       "      <th>1974-05-31</th>\n",
       "      <td>333.156923</td>\n",
       "    </tr>\n",
       "    <tr>\n",
       "      <th>1974-06-30</th>\n",
       "      <td>332.170400</td>\n",
       "    </tr>\n",
       "    <tr>\n",
       "      <th>1974-07-31</th>\n",
       "      <td>331.110000</td>\n",
       "    </tr>\n",
       "    <tr>\n",
       "      <th>1974-08-31</th>\n",
       "      <td>329.105769</td>\n",
       "    </tr>\n",
       "    <tr>\n",
       "      <th>1974-09-30</th>\n",
       "      <td>327.303182</td>\n",
       "    </tr>\n",
       "    <tr>\n",
       "      <th>...</th>\n",
       "      <td>...</td>\n",
       "    </tr>\n",
       "    <tr>\n",
       "      <th>2023-06-30</th>\n",
       "      <td>423.675172</td>\n",
       "    </tr>\n",
       "    <tr>\n",
       "      <th>2023-07-31</th>\n",
       "      <td>421.820952</td>\n",
       "    </tr>\n",
       "    <tr>\n",
       "      <th>2023-08-31</th>\n",
       "      <td>419.720952</td>\n",
       "    </tr>\n",
       "    <tr>\n",
       "      <th>2023-09-30</th>\n",
       "      <td>418.405556</td>\n",
       "    </tr>\n",
       "    <tr>\n",
       "      <th>2023-10-31</th>\n",
       "      <td>418.838000</td>\n",
       "    </tr>\n",
       "  </tbody>\n",
       "</table>\n",
       "<p>594 rows × 1 columns</p>\n",
       "</div>"
      ],
      "text/plain": [
       "            CO2 molfrac (ppm)\n",
       "1974-05-31         333.156923\n",
       "1974-06-30         332.170400\n",
       "1974-07-31         331.110000\n",
       "1974-08-31         329.105769\n",
       "1974-09-30         327.303182\n",
       "...                       ...\n",
       "2023-06-30         423.675172\n",
       "2023-07-31         421.820952\n",
       "2023-08-31         419.720952\n",
       "2023-09-30         418.405556\n",
       "2023-10-31         418.838000\n",
       "\n",
       "[594 rows x 1 columns]"
      ]
     },
     "execution_count": 21,
     "metadata": {},
     "output_type": "execute_result"
    }
   ],
   "source": [
    "monthly"
   ]
  },
  {
   "cell_type": "markdown",
   "id": "d45a5e00",
   "metadata": {},
   "source": [
    "If you __still__ have any remaining null values, you can use the `interpolate` to fill them in. Plot out your resampled data:"
   ]
  },
  {
   "cell_type": "code",
   "execution_count": 22,
   "id": "1a3e5b48",
   "metadata": {
    "collapsed": true,
    "tags": [
     "challengify"
    ]
   },
   "outputs": [
    {
     "data": {
      "text/html": [
       "<div>\n",
       "<style scoped>\n",
       "    .dataframe tbody tr th:only-of-type {\n",
       "        vertical-align: middle;\n",
       "    }\n",
       "\n",
       "    .dataframe tbody tr th {\n",
       "        vertical-align: top;\n",
       "    }\n",
       "\n",
       "    .dataframe thead th {\n",
       "        text-align: right;\n",
       "    }\n",
       "</style>\n",
       "<table border=\"1\" class=\"dataframe\">\n",
       "  <thead>\n",
       "    <tr style=\"text-align: right;\">\n",
       "      <th></th>\n",
       "      <th>CO2 molfrac (ppm)</th>\n",
       "    </tr>\n",
       "  </thead>\n",
       "  <tbody>\n",
       "    <tr>\n",
       "      <th>1974-05-31</th>\n",
       "      <td>333.156923</td>\n",
       "    </tr>\n",
       "    <tr>\n",
       "      <th>1974-06-30</th>\n",
       "      <td>332.170400</td>\n",
       "    </tr>\n",
       "    <tr>\n",
       "      <th>1974-07-31</th>\n",
       "      <td>331.110000</td>\n",
       "    </tr>\n",
       "    <tr>\n",
       "      <th>1974-08-31</th>\n",
       "      <td>329.105769</td>\n",
       "    </tr>\n",
       "    <tr>\n",
       "      <th>1974-09-30</th>\n",
       "      <td>327.303182</td>\n",
       "    </tr>\n",
       "    <tr>\n",
       "      <th>1974-10-31</th>\n",
       "      <td>327.300833</td>\n",
       "    </tr>\n",
       "    <tr>\n",
       "      <th>1974-11-30</th>\n",
       "      <td>328.273462</td>\n",
       "    </tr>\n",
       "    <tr>\n",
       "      <th>1974-12-31</th>\n",
       "      <td>329.608621</td>\n",
       "    </tr>\n",
       "    <tr>\n",
       "      <th>1975-01-31</th>\n",
       "      <td>330.750333</td>\n",
       "    </tr>\n",
       "    <tr>\n",
       "      <th>1975-02-28</th>\n",
       "      <td>331.465385</td>\n",
       "    </tr>\n",
       "    <tr>\n",
       "      <th>1975-03-31</th>\n",
       "      <td>331.902941</td>\n",
       "    </tr>\n",
       "    <tr>\n",
       "      <th>1975-04-30</th>\n",
       "      <td>333.120435</td>\n",
       "    </tr>\n",
       "    <tr>\n",
       "      <th>1975-05-31</th>\n",
       "      <td>333.947857</td>\n",
       "    </tr>\n",
       "    <tr>\n",
       "      <th>1975-06-30</th>\n",
       "      <td>333.455926</td>\n",
       "    </tr>\n",
       "    <tr>\n",
       "      <th>1975-07-31</th>\n",
       "      <td>332.037500</td>\n",
       "    </tr>\n",
       "    <tr>\n",
       "      <th>1975-08-31</th>\n",
       "      <td>329.917500</td>\n",
       "    </tr>\n",
       "    <tr>\n",
       "      <th>1975-09-30</th>\n",
       "      <td>328.458182</td>\n",
       "    </tr>\n",
       "    <tr>\n",
       "      <th>1975-10-31</th>\n",
       "      <td>328.475455</td>\n",
       "    </tr>\n",
       "    <tr>\n",
       "      <th>1975-11-30</th>\n",
       "      <td>329.230000</td>\n",
       "    </tr>\n",
       "    <tr>\n",
       "      <th>1975-12-31</th>\n",
       "      <td>NaN</td>\n",
       "    </tr>\n",
       "    <tr>\n",
       "      <th>1976-01-31</th>\n",
       "      <td>331.631579</td>\n",
       "    </tr>\n",
       "    <tr>\n",
       "      <th>1976-02-29</th>\n",
       "      <td>332.752273</td>\n",
       "    </tr>\n",
       "    <tr>\n",
       "      <th>1976-03-31</th>\n",
       "      <td>333.303333</td>\n",
       "    </tr>\n",
       "    <tr>\n",
       "      <th>1976-04-30</th>\n",
       "      <td>334.757778</td>\n",
       "    </tr>\n",
       "    <tr>\n",
       "      <th>1976-05-31</th>\n",
       "      <td>334.719048</td>\n",
       "    </tr>\n",
       "    <tr>\n",
       "      <th>1976-06-30</th>\n",
       "      <td>334.192667</td>\n",
       "    </tr>\n",
       "    <tr>\n",
       "      <th>1976-07-31</th>\n",
       "      <td>332.887333</td>\n",
       "    </tr>\n",
       "    <tr>\n",
       "      <th>1976-08-31</th>\n",
       "      <td>330.715652</td>\n",
       "    </tr>\n",
       "    <tr>\n",
       "      <th>1976-09-30</th>\n",
       "      <td>328.894615</td>\n",
       "    </tr>\n",
       "    <tr>\n",
       "      <th>1976-10-31</th>\n",
       "      <td>328.704737</td>\n",
       "    </tr>\n",
       "    <tr>\n",
       "      <th>1976-11-30</th>\n",
       "      <td>330.245200</td>\n",
       "    </tr>\n",
       "    <tr>\n",
       "      <th>1976-12-31</th>\n",
       "      <td>331.673500</td>\n",
       "    </tr>\n",
       "    <tr>\n",
       "      <th>1977-01-31</th>\n",
       "      <td>332.655217</td>\n",
       "    </tr>\n",
       "    <tr>\n",
       "      <th>1977-02-28</th>\n",
       "      <td>333.218500</td>\n",
       "    </tr>\n",
       "    <tr>\n",
       "      <th>1977-03-31</th>\n",
       "      <td>334.983043</td>\n",
       "    </tr>\n",
       "    <tr>\n",
       "      <th>1977-04-30</th>\n",
       "      <td>336.220500</td>\n",
       "    </tr>\n",
       "    <tr>\n",
       "      <th>1977-05-31</th>\n",
       "      <td>336.917000</td>\n",
       "    </tr>\n",
       "    <tr>\n",
       "      <th>1977-06-30</th>\n",
       "      <td>336.160870</td>\n",
       "    </tr>\n",
       "    <tr>\n",
       "      <th>1977-07-31</th>\n",
       "      <td>334.808500</td>\n",
       "    </tr>\n",
       "    <tr>\n",
       "      <th>1977-08-31</th>\n",
       "      <td>332.612778</td>\n",
       "    </tr>\n",
       "    <tr>\n",
       "      <th>1977-09-30</th>\n",
       "      <td>331.273684</td>\n",
       "    </tr>\n",
       "    <tr>\n",
       "      <th>1977-10-31</th>\n",
       "      <td>331.282174</td>\n",
       "    </tr>\n",
       "    <tr>\n",
       "      <th>1977-11-30</th>\n",
       "      <td>332.527143</td>\n",
       "    </tr>\n",
       "    <tr>\n",
       "      <th>1977-12-31</th>\n",
       "      <td>333.610400</td>\n",
       "    </tr>\n",
       "    <tr>\n",
       "      <th>1978-01-31</th>\n",
       "      <td>334.976818</td>\n",
       "    </tr>\n",
       "    <tr>\n",
       "      <th>1978-02-28</th>\n",
       "      <td>335.266400</td>\n",
       "    </tr>\n",
       "    <tr>\n",
       "      <th>1978-03-31</th>\n",
       "      <td>336.647857</td>\n",
       "    </tr>\n",
       "    <tr>\n",
       "      <th>1978-04-30</th>\n",
       "      <td>337.733889</td>\n",
       "    </tr>\n",
       "    <tr>\n",
       "      <th>1978-05-31</th>\n",
       "      <td>338.021154</td>\n",
       "    </tr>\n",
       "    <tr>\n",
       "      <th>1978-06-30</th>\n",
       "      <td>337.948235</td>\n",
       "    </tr>\n",
       "  </tbody>\n",
       "</table>\n",
       "</div>"
      ],
      "text/plain": [
       "            CO2 molfrac (ppm)\n",
       "1974-05-31         333.156923\n",
       "1974-06-30         332.170400\n",
       "1974-07-31         331.110000\n",
       "1974-08-31         329.105769\n",
       "1974-09-30         327.303182\n",
       "1974-10-31         327.300833\n",
       "1974-11-30         328.273462\n",
       "1974-12-31         329.608621\n",
       "1975-01-31         330.750333\n",
       "1975-02-28         331.465385\n",
       "1975-03-31         331.902941\n",
       "1975-04-30         333.120435\n",
       "1975-05-31         333.947857\n",
       "1975-06-30         333.455926\n",
       "1975-07-31         332.037500\n",
       "1975-08-31         329.917500\n",
       "1975-09-30         328.458182\n",
       "1975-10-31         328.475455\n",
       "1975-11-30         329.230000\n",
       "1975-12-31                NaN\n",
       "1976-01-31         331.631579\n",
       "1976-02-29         332.752273\n",
       "1976-03-31         333.303333\n",
       "1976-04-30         334.757778\n",
       "1976-05-31         334.719048\n",
       "1976-06-30         334.192667\n",
       "1976-07-31         332.887333\n",
       "1976-08-31         330.715652\n",
       "1976-09-30         328.894615\n",
       "1976-10-31         328.704737\n",
       "1976-11-30         330.245200\n",
       "1976-12-31         331.673500\n",
       "1977-01-31         332.655217\n",
       "1977-02-28         333.218500\n",
       "1977-03-31         334.983043\n",
       "1977-04-30         336.220500\n",
       "1977-05-31         336.917000\n",
       "1977-06-30         336.160870\n",
       "1977-07-31         334.808500\n",
       "1977-08-31         332.612778\n",
       "1977-09-30         331.273684\n",
       "1977-10-31         331.282174\n",
       "1977-11-30         332.527143\n",
       "1977-12-31         333.610400\n",
       "1978-01-31         334.976818\n",
       "1978-02-28         335.266400\n",
       "1978-03-31         336.647857\n",
       "1978-04-30         337.733889\n",
       "1978-05-31         338.021154\n",
       "1978-06-30         337.948235"
      ]
     },
     "execution_count": 22,
     "metadata": {},
     "output_type": "execute_result"
    }
   ],
   "source": [
    "monthly.head(50)"
   ]
  },
  {
   "cell_type": "code",
   "execution_count": 23,
   "id": "fa944cbe",
   "metadata": {
    "collapsed": true
   },
   "outputs": [
    {
     "data": {
      "text/html": [
       "<div>\n",
       "<style scoped>\n",
       "    .dataframe tbody tr th:only-of-type {\n",
       "        vertical-align: middle;\n",
       "    }\n",
       "\n",
       "    .dataframe tbody tr th {\n",
       "        vertical-align: top;\n",
       "    }\n",
       "\n",
       "    .dataframe thead th {\n",
       "        text-align: right;\n",
       "    }\n",
       "</style>\n",
       "<table border=\"1\" class=\"dataframe\">\n",
       "  <thead>\n",
       "    <tr style=\"text-align: right;\">\n",
       "      <th></th>\n",
       "      <th>CO2 molfrac (ppm)</th>\n",
       "    </tr>\n",
       "  </thead>\n",
       "  <tbody>\n",
       "    <tr>\n",
       "      <th>1974-05-31</th>\n",
       "      <td>333.156923</td>\n",
       "    </tr>\n",
       "    <tr>\n",
       "      <th>1974-06-30</th>\n",
       "      <td>332.170400</td>\n",
       "    </tr>\n",
       "    <tr>\n",
       "      <th>1974-07-31</th>\n",
       "      <td>331.110000</td>\n",
       "    </tr>\n",
       "    <tr>\n",
       "      <th>1974-08-31</th>\n",
       "      <td>329.105769</td>\n",
       "    </tr>\n",
       "    <tr>\n",
       "      <th>1974-09-30</th>\n",
       "      <td>327.303182</td>\n",
       "    </tr>\n",
       "    <tr>\n",
       "      <th>1974-10-31</th>\n",
       "      <td>327.300833</td>\n",
       "    </tr>\n",
       "    <tr>\n",
       "      <th>1974-11-30</th>\n",
       "      <td>328.273462</td>\n",
       "    </tr>\n",
       "    <tr>\n",
       "      <th>1974-12-31</th>\n",
       "      <td>329.608621</td>\n",
       "    </tr>\n",
       "    <tr>\n",
       "      <th>1975-01-31</th>\n",
       "      <td>330.750333</td>\n",
       "    </tr>\n",
       "    <tr>\n",
       "      <th>1975-02-28</th>\n",
       "      <td>331.465385</td>\n",
       "    </tr>\n",
       "    <tr>\n",
       "      <th>1975-03-31</th>\n",
       "      <td>331.902941</td>\n",
       "    </tr>\n",
       "    <tr>\n",
       "      <th>1975-04-30</th>\n",
       "      <td>333.120435</td>\n",
       "    </tr>\n",
       "    <tr>\n",
       "      <th>1975-05-31</th>\n",
       "      <td>333.947857</td>\n",
       "    </tr>\n",
       "    <tr>\n",
       "      <th>1975-06-30</th>\n",
       "      <td>333.455926</td>\n",
       "    </tr>\n",
       "    <tr>\n",
       "      <th>1975-07-31</th>\n",
       "      <td>332.037500</td>\n",
       "    </tr>\n",
       "    <tr>\n",
       "      <th>1975-08-31</th>\n",
       "      <td>329.917500</td>\n",
       "    </tr>\n",
       "    <tr>\n",
       "      <th>1975-09-30</th>\n",
       "      <td>328.458182</td>\n",
       "    </tr>\n",
       "    <tr>\n",
       "      <th>1975-10-31</th>\n",
       "      <td>328.475455</td>\n",
       "    </tr>\n",
       "    <tr>\n",
       "      <th>1975-11-30</th>\n",
       "      <td>329.230000</td>\n",
       "    </tr>\n",
       "    <tr>\n",
       "      <th>1975-12-31</th>\n",
       "      <td>330.430789</td>\n",
       "    </tr>\n",
       "    <tr>\n",
       "      <th>1976-01-31</th>\n",
       "      <td>331.631579</td>\n",
       "    </tr>\n",
       "    <tr>\n",
       "      <th>1976-02-29</th>\n",
       "      <td>332.752273</td>\n",
       "    </tr>\n",
       "    <tr>\n",
       "      <th>1976-03-31</th>\n",
       "      <td>333.303333</td>\n",
       "    </tr>\n",
       "    <tr>\n",
       "      <th>1976-04-30</th>\n",
       "      <td>334.757778</td>\n",
       "    </tr>\n",
       "    <tr>\n",
       "      <th>1976-05-31</th>\n",
       "      <td>334.719048</td>\n",
       "    </tr>\n",
       "    <tr>\n",
       "      <th>1976-06-30</th>\n",
       "      <td>334.192667</td>\n",
       "    </tr>\n",
       "    <tr>\n",
       "      <th>1976-07-31</th>\n",
       "      <td>332.887333</td>\n",
       "    </tr>\n",
       "    <tr>\n",
       "      <th>1976-08-31</th>\n",
       "      <td>330.715652</td>\n",
       "    </tr>\n",
       "    <tr>\n",
       "      <th>1976-09-30</th>\n",
       "      <td>328.894615</td>\n",
       "    </tr>\n",
       "    <tr>\n",
       "      <th>1976-10-31</th>\n",
       "      <td>328.704737</td>\n",
       "    </tr>\n",
       "    <tr>\n",
       "      <th>1976-11-30</th>\n",
       "      <td>330.245200</td>\n",
       "    </tr>\n",
       "    <tr>\n",
       "      <th>1976-12-31</th>\n",
       "      <td>331.673500</td>\n",
       "    </tr>\n",
       "    <tr>\n",
       "      <th>1977-01-31</th>\n",
       "      <td>332.655217</td>\n",
       "    </tr>\n",
       "    <tr>\n",
       "      <th>1977-02-28</th>\n",
       "      <td>333.218500</td>\n",
       "    </tr>\n",
       "    <tr>\n",
       "      <th>1977-03-31</th>\n",
       "      <td>334.983043</td>\n",
       "    </tr>\n",
       "    <tr>\n",
       "      <th>1977-04-30</th>\n",
       "      <td>336.220500</td>\n",
       "    </tr>\n",
       "    <tr>\n",
       "      <th>1977-05-31</th>\n",
       "      <td>336.917000</td>\n",
       "    </tr>\n",
       "    <tr>\n",
       "      <th>1977-06-30</th>\n",
       "      <td>336.160870</td>\n",
       "    </tr>\n",
       "    <tr>\n",
       "      <th>1977-07-31</th>\n",
       "      <td>334.808500</td>\n",
       "    </tr>\n",
       "    <tr>\n",
       "      <th>1977-08-31</th>\n",
       "      <td>332.612778</td>\n",
       "    </tr>\n",
       "    <tr>\n",
       "      <th>1977-09-30</th>\n",
       "      <td>331.273684</td>\n",
       "    </tr>\n",
       "    <tr>\n",
       "      <th>1977-10-31</th>\n",
       "      <td>331.282174</td>\n",
       "    </tr>\n",
       "    <tr>\n",
       "      <th>1977-11-30</th>\n",
       "      <td>332.527143</td>\n",
       "    </tr>\n",
       "    <tr>\n",
       "      <th>1977-12-31</th>\n",
       "      <td>333.610400</td>\n",
       "    </tr>\n",
       "    <tr>\n",
       "      <th>1978-01-31</th>\n",
       "      <td>334.976818</td>\n",
       "    </tr>\n",
       "    <tr>\n",
       "      <th>1978-02-28</th>\n",
       "      <td>335.266400</td>\n",
       "    </tr>\n",
       "    <tr>\n",
       "      <th>1978-03-31</th>\n",
       "      <td>336.647857</td>\n",
       "    </tr>\n",
       "    <tr>\n",
       "      <th>1978-04-30</th>\n",
       "      <td>337.733889</td>\n",
       "    </tr>\n",
       "    <tr>\n",
       "      <th>1978-05-31</th>\n",
       "      <td>338.021154</td>\n",
       "    </tr>\n",
       "    <tr>\n",
       "      <th>1978-06-30</th>\n",
       "      <td>337.948235</td>\n",
       "    </tr>\n",
       "  </tbody>\n",
       "</table>\n",
       "</div>"
      ],
      "text/plain": [
       "            CO2 molfrac (ppm)\n",
       "1974-05-31         333.156923\n",
       "1974-06-30         332.170400\n",
       "1974-07-31         331.110000\n",
       "1974-08-31         329.105769\n",
       "1974-09-30         327.303182\n",
       "1974-10-31         327.300833\n",
       "1974-11-30         328.273462\n",
       "1974-12-31         329.608621\n",
       "1975-01-31         330.750333\n",
       "1975-02-28         331.465385\n",
       "1975-03-31         331.902941\n",
       "1975-04-30         333.120435\n",
       "1975-05-31         333.947857\n",
       "1975-06-30         333.455926\n",
       "1975-07-31         332.037500\n",
       "1975-08-31         329.917500\n",
       "1975-09-30         328.458182\n",
       "1975-10-31         328.475455\n",
       "1975-11-30         329.230000\n",
       "1975-12-31         330.430789\n",
       "1976-01-31         331.631579\n",
       "1976-02-29         332.752273\n",
       "1976-03-31         333.303333\n",
       "1976-04-30         334.757778\n",
       "1976-05-31         334.719048\n",
       "1976-06-30         334.192667\n",
       "1976-07-31         332.887333\n",
       "1976-08-31         330.715652\n",
       "1976-09-30         328.894615\n",
       "1976-10-31         328.704737\n",
       "1976-11-30         330.245200\n",
       "1976-12-31         331.673500\n",
       "1977-01-31         332.655217\n",
       "1977-02-28         333.218500\n",
       "1977-03-31         334.983043\n",
       "1977-04-30         336.220500\n",
       "1977-05-31         336.917000\n",
       "1977-06-30         336.160870\n",
       "1977-07-31         334.808500\n",
       "1977-08-31         332.612778\n",
       "1977-09-30         331.273684\n",
       "1977-10-31         331.282174\n",
       "1977-11-30         332.527143\n",
       "1977-12-31         333.610400\n",
       "1978-01-31         334.976818\n",
       "1978-02-28         335.266400\n",
       "1978-03-31         336.647857\n",
       "1978-04-30         337.733889\n",
       "1978-05-31         338.021154\n",
       "1978-06-30         337.948235"
      ]
     },
     "execution_count": 23,
     "metadata": {},
     "output_type": "execute_result"
    }
   ],
   "source": [
    "monthly= monthly.interpolate(\"linear\")\n",
    "monthly.head(50)"
   ]
  },
  {
   "cell_type": "code",
   "execution_count": null,
   "id": "9f5f802a",
   "metadata": {},
   "outputs": [],
   "source": []
  },
  {
   "cell_type": "code",
   "execution_count": 24,
   "id": "69fe2f17",
   "metadata": {
    "collapsed": true
   },
   "outputs": [
    {
     "data": {
      "text/plain": [
       "<AxesSubplot:>"
      ]
     },
     "execution_count": 24,
     "metadata": {},
     "output_type": "execute_result"
    },
    {
     "data": {
      "image/png": "[encoded data removed]",
      "text/plain": [
       "<Figure size 640x480 with 1 Axes>"
      ]
     },
     "metadata": {},
     "output_type": "display_data"
    }
   ],
   "source": [
    "monthly[-300:].plot()"
   ]
  },
  {
   "cell_type": "code",
   "execution_count": 26,
   "id": "03c9e8ad",
   "metadata": {},
   "outputs": [
    {
     "data": {
      "text/plain": [
       "333.1569230769231"
      ]
     },
     "execution_count": 26,
     "metadata": {},
     "output_type": "execute_result"
    }
   ],
   "source": [
    "monthly[\"CO2 molfrac (ppm)\"][0]"
   ]
  },
  {
   "cell_type": "code",
   "execution_count": 27,
   "id": "56aa723f",
   "metadata": {
    "collapsed": true
   },
   "outputs": [
    {
     "name": "stdout",
     "output_type": "stream",
     "text": [
      "\n",
      "\u001b[1m============================= test session starts ==============================\u001b[0m\n",
      "platform linux -- Python 3.10.6, pytest-7.1.3, pluggy-1.0.0 -- /home/parissa/.pyenv/versions/lewagon/bin/python3\n",
      "cachedir: .pytest_cache\n",
      "rootdir: /home/parissa/code/ParissaPeimaniyfard/05-ML/09-Time-Series/data-arima-101/tests\n",
      "plugins: typeguard-2.13.3, anyio-3.6.2, asyncio-0.19.0\n",
      "asyncio: mode=strict\n",
      "\u001b[1mcollecting ... \u001b[0mcollected 2 items\n",
      "\n",
      "test_monthly.py::TestMonthly::test_first_value \u001b[32mPASSED\u001b[0m\u001b[32m                    [ 50%]\u001b[0m\n",
      "test_monthly.py::TestMonthly::test_missing \u001b[32mPASSED\u001b[0m\u001b[32m                        [100%]\u001b[0m\n",
      "\n",
      "\u001b[32m============================== \u001b[32m\u001b[1m2 passed\u001b[0m\u001b[32m in 0.32s\u001b[0m\u001b[32m ===============================\u001b[0m\n",
      "\n",
      "\n",
      "💯 You can commit your code:\n",
      "\n",
      "\u001b[1;32mgit\u001b[39m add tests/monthly.pickle\n",
      "\n",
      "\u001b[32mgit\u001b[39m commit -m \u001b[33m'Completed monthly step'\u001b[39m\n",
      "\n",
      "\u001b[32mgit\u001b[39m push origin master\n",
      "\n"
     ]
    }
   ],
   "source": [
    "from nbresult import ChallengeResult\n",
    "\n",
    "result = ChallengeResult('monthly',\n",
    "                         monthly = monthly)\n",
    "result.write()\n",
    "print(result.check())"
   ]
  },
  {
   "cell_type": "markdown",
   "id": "2868eeec",
   "metadata": {},
   "source": [
    "## Train test split"
   ]
  },
  {
   "cell_type": "markdown",
   "id": "c350f051",
   "metadata": {},
   "source": [
    "Next up we need to split into a train and test set (we'll do an 80:20 split). Be cautious when doing this - we need our sets to be __continuous__!"
   ]
  },
  {
   "cell_type": "code",
   "execution_count": 28,
   "id": "9e51d764",
   "metadata": {
    "tags": [
     "challengify"
    ]
   },
   "outputs": [],
   "source": [
    "from sklearn.model_selection import train_test_split"
   ]
  },
  {
   "cell_type": "code",
   "execution_count": 29,
   "id": "29f1bbdd",
   "metadata": {},
   "outputs": [],
   "source": [
    "train, test= train_test_split(monthly, test_size=0.2, shuffle=False)"
   ]
  },
  {
   "cell_type": "code",
   "execution_count": 31,
   "id": "d2370d09",
   "metadata": {},
   "outputs": [
    {
     "data": {
      "text/html": [
       "<div>\n",
       "<style scoped>\n",
       "    .dataframe tbody tr th:only-of-type {\n",
       "        vertical-align: middle;\n",
       "    }\n",
       "\n",
       "    .dataframe tbody tr th {\n",
       "        vertical-align: top;\n",
       "    }\n",
       "\n",
       "    .dataframe thead th {\n",
       "        text-align: right;\n",
       "    }\n",
       "</style>\n",
       "<table border=\"1\" class=\"dataframe\">\n",
       "  <thead>\n",
       "    <tr style=\"text-align: right;\">\n",
       "      <th></th>\n",
       "      <th>CO2 molfrac (ppm)</th>\n",
       "    </tr>\n",
       "  </thead>\n",
       "  <tbody>\n",
       "    <tr>\n",
       "      <th>2013-12-31</th>\n",
       "      <td>397.024000</td>\n",
       "    </tr>\n",
       "    <tr>\n",
       "      <th>2014-01-31</th>\n",
       "      <td>398.043226</td>\n",
       "    </tr>\n",
       "    <tr>\n",
       "      <th>2014-02-28</th>\n",
       "      <td>398.268889</td>\n",
       "    </tr>\n",
       "    <tr>\n",
       "      <th>2014-03-31</th>\n",
       "      <td>399.895455</td>\n",
       "    </tr>\n",
       "    <tr>\n",
       "      <th>2014-04-30</th>\n",
       "      <td>401.488889</td>\n",
       "    </tr>\n",
       "    <tr>\n",
       "      <th>...</th>\n",
       "      <td>...</td>\n",
       "    </tr>\n",
       "    <tr>\n",
       "      <th>2023-06-30</th>\n",
       "      <td>423.675172</td>\n",
       "    </tr>\n",
       "    <tr>\n",
       "      <th>2023-07-31</th>\n",
       "      <td>421.820952</td>\n",
       "    </tr>\n",
       "    <tr>\n",
       "      <th>2023-08-31</th>\n",
       "      <td>419.720952</td>\n",
       "    </tr>\n",
       "    <tr>\n",
       "      <th>2023-09-30</th>\n",
       "      <td>418.405556</td>\n",
       "    </tr>\n",
       "    <tr>\n",
       "      <th>2023-10-31</th>\n",
       "      <td>418.838000</td>\n",
       "    </tr>\n",
       "  </tbody>\n",
       "</table>\n",
       "<p>119 rows × 1 columns</p>\n",
       "</div>"
      ],
      "text/plain": [
       "            CO2 molfrac (ppm)\n",
       "2013-12-31         397.024000\n",
       "2014-01-31         398.043226\n",
       "2014-02-28         398.268889\n",
       "2014-03-31         399.895455\n",
       "2014-04-30         401.488889\n",
       "...                       ...\n",
       "2023-06-30         423.675172\n",
       "2023-07-31         421.820952\n",
       "2023-08-31         419.720952\n",
       "2023-09-30         418.405556\n",
       "2023-10-31         418.838000\n",
       "\n",
       "[119 rows x 1 columns]"
      ]
     },
     "execution_count": 31,
     "metadata": {},
     "output_type": "execute_result"
    }
   ],
   "source": [
    "test"
   ]
  },
  {
   "cell_type": "markdown",
   "id": "b8b7c652",
   "metadata": {},
   "source": [
    "Our data preparation is almost done. Before we start decomposing and modelling though, we should come up with a baseline to see how our model performs. \n",
    "\n",
    "The typical baselines we'd pick is just to guess the last aviable value to us. In our case, this is simply the final point in our `train` DataFrame."
   ]
  },
  {
   "cell_type": "markdown",
   "id": "a55f8a3d",
   "metadata": {},
   "source": [
    "In your `test` DataFrame, create a column called `naive_preds` and set it to be equal to our last avaialable data point in `train`\n"
   ]
  },
  {
   "cell_type": "code",
   "execution_count": 39,
   "id": "ccef0688",
   "metadata": {},
   "outputs": [
    {
     "data": {
      "text/plain": [
       "333.1569230769231"
      ]
     },
     "execution_count": 39,
     "metadata": {},
     "output_type": "execute_result"
    }
   ],
   "source": [
    "train['CO2 molfrac (ppm)'][0]"
   ]
  },
  {
   "cell_type": "code",
   "execution_count": 40,
   "id": "a90a5a60",
   "metadata": {
    "tags": [
     "challengify"
    ]
   },
   "outputs": [],
   "source": [
    "test['naive_preds']= train['CO2 molfrac (ppm)'][-1]"
   ]
  },
  {
   "cell_type": "code",
   "execution_count": 41,
   "id": "d84f4905",
   "metadata": {},
   "outputs": [
    {
     "data": {
      "text/html": [
       "<div>\n",
       "<style scoped>\n",
       "    .dataframe tbody tr th:only-of-type {\n",
       "        vertical-align: middle;\n",
       "    }\n",
       "\n",
       "    .dataframe tbody tr th {\n",
       "        vertical-align: top;\n",
       "    }\n",
       "\n",
       "    .dataframe thead th {\n",
       "        text-align: right;\n",
       "    }\n",
       "</style>\n",
       "<table border=\"1\" class=\"dataframe\">\n",
       "  <thead>\n",
       "    <tr style=\"text-align: right;\">\n",
       "      <th></th>\n",
       "      <th>CO2 molfrac (ppm)</th>\n",
       "      <th>naive_preds</th>\n",
       "    </tr>\n",
       "  </thead>\n",
       "  <tbody>\n",
       "    <tr>\n",
       "      <th>2013-12-31</th>\n",
       "      <td>397.024000</td>\n",
       "      <td>395.360667</td>\n",
       "    </tr>\n",
       "    <tr>\n",
       "      <th>2014-01-31</th>\n",
       "      <td>398.043226</td>\n",
       "      <td>395.360667</td>\n",
       "    </tr>\n",
       "    <tr>\n",
       "      <th>2014-02-28</th>\n",
       "      <td>398.268889</td>\n",
       "      <td>395.360667</td>\n",
       "    </tr>\n",
       "    <tr>\n",
       "      <th>2014-03-31</th>\n",
       "      <td>399.895455</td>\n",
       "      <td>395.360667</td>\n",
       "    </tr>\n",
       "    <tr>\n",
       "      <th>2014-04-30</th>\n",
       "      <td>401.488889</td>\n",
       "      <td>395.360667</td>\n",
       "    </tr>\n",
       "    <tr>\n",
       "      <th>...</th>\n",
       "      <td>...</td>\n",
       "      <td>...</td>\n",
       "    </tr>\n",
       "    <tr>\n",
       "      <th>2023-06-30</th>\n",
       "      <td>423.675172</td>\n",
       "      <td>395.360667</td>\n",
       "    </tr>\n",
       "    <tr>\n",
       "      <th>2023-07-31</th>\n",
       "      <td>421.820952</td>\n",
       "      <td>395.360667</td>\n",
       "    </tr>\n",
       "    <tr>\n",
       "      <th>2023-08-31</th>\n",
       "      <td>419.720952</td>\n",
       "      <td>395.360667</td>\n",
       "    </tr>\n",
       "    <tr>\n",
       "      <th>2023-09-30</th>\n",
       "      <td>418.405556</td>\n",
       "      <td>395.360667</td>\n",
       "    </tr>\n",
       "    <tr>\n",
       "      <th>2023-10-31</th>\n",
       "      <td>418.838000</td>\n",
       "      <td>395.360667</td>\n",
       "    </tr>\n",
       "  </tbody>\n",
       "</table>\n",
       "<p>119 rows × 2 columns</p>\n",
       "</div>"
      ],
      "text/plain": [
       "            CO2 molfrac (ppm)  naive_preds\n",
       "2013-12-31         397.024000   395.360667\n",
       "2014-01-31         398.043226   395.360667\n",
       "2014-02-28         398.268889   395.360667\n",
       "2014-03-31         399.895455   395.360667\n",
       "2014-04-30         401.488889   395.360667\n",
       "...                       ...          ...\n",
       "2023-06-30         423.675172   395.360667\n",
       "2023-07-31         421.820952   395.360667\n",
       "2023-08-31         419.720952   395.360667\n",
       "2023-09-30         418.405556   395.360667\n",
       "2023-10-31         418.838000   395.360667\n",
       "\n",
       "[119 rows x 2 columns]"
      ]
     },
     "execution_count": 41,
     "metadata": {},
     "output_type": "execute_result"
    }
   ],
   "source": [
    "test"
   ]
  },
  {
   "cell_type": "markdown",
   "id": "af698314",
   "metadata": {},
   "source": [
    "Once you have this, caclulate the mean absolute error between the two columns and set this as your `baseline_mae`."
   ]
  },
  {
   "cell_type": "code",
   "execution_count": 42,
   "id": "aaecf820",
   "metadata": {
    "tags": [
     "challengify"
    ]
   },
   "outputs": [],
   "source": [
    "baseline_mae= (test['CO2 molfrac (ppm)']- test['naive_preds']).abs().mean()"
   ]
  },
  {
   "cell_type": "code",
   "execution_count": 43,
   "id": "5bed1e45",
   "metadata": {
    "collapsed": true
   },
   "outputs": [
    {
     "name": "stdout",
     "output_type": "stream",
     "text": [
      "\n",
      "\u001b[1m============================= test session starts ==============================\u001b[0m\n",
      "platform linux -- Python 3.10.6, pytest-7.1.3, pluggy-1.0.0 -- /home/parissa/.pyenv/versions/lewagon/bin/python3\n",
      "cachedir: .pytest_cache\n",
      "rootdir: /home/parissa/code/ParissaPeimaniyfard/05-ML/09-Time-Series/data-arima-101/tests\n",
      "plugins: typeguard-2.13.3, anyio-3.6.2, asyncio-0.19.0\n",
      "asyncio: mode=strict\n",
      "\u001b[1mcollecting ... \u001b[0mcollected 3 items\n",
      "\n",
      "test_baseline.py::TestBaseline::test_baseline_mae \u001b[32mPASSED\u001b[0m\u001b[32m                 [ 33%]\u001b[0m\n",
      "test_baseline.py::TestBaseline::test_first_value \u001b[32mPASSED\u001b[0m\u001b[32m                  [ 66%]\u001b[0m\n",
      "test_baseline.py::TestBaseline::test_missing \u001b[32mPASSED\u001b[0m\u001b[32m                      [100%]\u001b[0m\n",
      "\n",
      "\u001b[32m============================== \u001b[32m\u001b[1m3 passed\u001b[0m\u001b[32m in 0.25s\u001b[0m\u001b[32m ===============================\u001b[0m\n",
      "\n",
      "\n",
      "💯 You can commit your code:\n",
      "\n",
      "\u001b[1;32mgit\u001b[39m add tests/baseline.pickle\n",
      "\n",
      "\u001b[32mgit\u001b[39m commit -m \u001b[33m'Completed baseline step'\u001b[39m\n",
      "\n",
      "\u001b[32mgit\u001b[39m push origin master\n",
      "\n"
     ]
    }
   ],
   "source": [
    "from nbresult import ChallengeResult\n",
    "\n",
    "result = ChallengeResult('baseline',\n",
    "                         test = test,\n",
    "                         baseline_mae = baseline_mae)\n",
    "result.write()\n",
    "print(result.check())"
   ]
  },
  {
   "cell_type": "markdown",
   "id": "2de91123",
   "metadata": {},
   "source": [
    "## Getting ready to model"
   ]
  },
  {
   "cell_type": "markdown",
   "id": "b7722326",
   "metadata": {},
   "source": [
    "For some Time Series models, we can simply through our data in and hope that it will decompose it, make it stationary for us and then model it for us (SARIMAX or TBATS are good examples of this), but we're going to go step by step instead. Since we're not relying on a model to remove seasonality and trend for us, we will take care of them ourselves."
   ]
  },
  {
   "cell_type": "markdown",
   "id": "3194e046",
   "metadata": {},
   "source": [
    "Import the `seasonal_decompose` tool that you saw in the lecture and try both methods on your Time Series (both \"multiplicative\" and \"additive\"). "
   ]
  },
  {
   "cell_type": "code",
   "execution_count": 46,
   "id": "b21fb94c",
   "metadata": {
    "tags": [
     "challengify"
    ]
   },
   "outputs": [],
   "source": [
    "add= seasonal_decompose(train, model='additive')"
   ]
  },
  {
   "cell_type": "code",
   "execution_count": 47,
   "id": "91959a37",
   "metadata": {
    "tags": [
     "challengify"
    ]
   },
   "outputs": [],
   "source": [
    "multi= seasonal_decompose(train, model= 'multiplicative')"
   ]
  },
  {
   "cell_type": "markdown",
   "id": "c2f16de8",
   "metadata": {},
   "source": [
    "Plot the residuals (access the `.resid` attribute) from both and remember - we want the one that looks as __non-influenced__ by time as possible"
   ]
  },
  {
   "cell_type": "code",
   "execution_count": 52,
   "id": "a2a53be5",
   "metadata": {
    "tags": [
     "challengify"
    ]
   },
   "outputs": [
    {
     "data": {
      "text/plain": [
       "<AxesSubplot:>"
      ]
     },
     "execution_count": 52,
     "metadata": {},
     "output_type": "execute_result"
    },
    {
     "data": {
      "image/png": "[encoded data removed]",
      "text/plain": [
       "<Figure size 640x480 with 1 Axes>"
      ]
     },
     "metadata": {},
     "output_type": "display_data"
    }
   ],
   "source": [
    "add.resid.plot()"
   ]
  },
  {
   "cell_type": "code",
   "execution_count": 51,
   "id": "5c41cd5b",
   "metadata": {
    "tags": [
     "challengify"
    ]
   },
   "outputs": [
    {
     "data": {
      "text/plain": [
       "<AxesSubplot:>"
      ]
     },
     "execution_count": 51,
     "metadata": {},
     "output_type": "execute_result"
    },
    {
     "data": {
      "image/png": "[encoded data removed]",
      "text/plain": [
       "<Figure size 640x480 with 1 Axes>"
      ]
     },
     "metadata": {},
     "output_type": "display_data"
    }
   ],
   "source": [
    "multi.resid.plot()"
   ]
  },
  {
   "cell_type": "markdown",
   "id": "e7f7940d",
   "metadata": {},
   "source": [
    "Since both look reasonably stationary, we'll pick the multiplicative model."
   ]
  },
  {
   "cell_type": "markdown",
   "id": "a9a22195",
   "metadata": {},
   "source": [
    "Our strategy now is to take out the seasonal component of our time series. \n",
    "\n",
    "How can we do this? 🤔\n",
    "\n",
    "\n",
    "First, create a column called `\"seasonal_component\"`in your `train` DataFrame that is filled with the `.seasonal` component of your time series. \n",
    "\n",
    "After you do this, create a separate, smaller DataFrame that only includes __one year__ of seasonal components (ie. the first 12 rows of your `seasonal components` column). This will be useful for us later on. Name it `seasonal_one_year` and make sure you have a `\"month\"` column equal to the corresponding `index.month` (e.g. you have have a row with the January seasonal component and a 1 next to it). \n",
    "\n",
    "<img src = \"https://wagon-public-datasets.s3.amazonaws.com/data-science-images/05-ML/09-Time-Series/seasonal_component_one.png\">"
   ]
  },
  {
   "cell_type": "code",
   "execution_count": 55,
   "id": "439b6751",
   "metadata": {
    "tags": [
     "challengify"
    ]
   },
   "outputs": [
    {
     "data": {
      "text/html": [
       "<div>\n",
       "<style scoped>\n",
       "    .dataframe tbody tr th:only-of-type {\n",
       "        vertical-align: middle;\n",
       "    }\n",
       "\n",
       "    .dataframe tbody tr th {\n",
       "        vertical-align: top;\n",
       "    }\n",
       "\n",
       "    .dataframe thead th {\n",
       "        text-align: right;\n",
       "    }\n",
       "</style>\n",
       "<table border=\"1\" class=\"dataframe\">\n",
       "  <thead>\n",
       "    <tr style=\"text-align: right;\">\n",
       "      <th></th>\n",
       "      <th>CO2 molfrac (ppm)</th>\n",
       "      <th>seasonal_component</th>\n",
       "    </tr>\n",
       "  </thead>\n",
       "  <tbody>\n",
       "    <tr>\n",
       "      <th>1974-05-31</th>\n",
       "      <td>333.156923</td>\n",
       "      <td>1.008482</td>\n",
       "    </tr>\n",
       "    <tr>\n",
       "      <th>1974-06-30</th>\n",
       "      <td>332.170400</td>\n",
       "      <td>1.006564</td>\n",
       "    </tr>\n",
       "    <tr>\n",
       "      <th>1974-07-31</th>\n",
       "      <td>331.110000</td>\n",
       "      <td>1.001811</td>\n",
       "    </tr>\n",
       "    <tr>\n",
       "      <th>1974-08-31</th>\n",
       "      <td>329.105769</td>\n",
       "      <td>0.995762</td>\n",
       "    </tr>\n",
       "    <tr>\n",
       "      <th>1974-09-30</th>\n",
       "      <td>327.303182</td>\n",
       "      <td>0.990900</td>\n",
       "    </tr>\n",
       "  </tbody>\n",
       "</table>\n",
       "</div>"
      ],
      "text/plain": [
       "            CO2 molfrac (ppm)  seasonal_component\n",
       "1974-05-31         333.156923            1.008482\n",
       "1974-06-30         332.170400            1.006564\n",
       "1974-07-31         331.110000            1.001811\n",
       "1974-08-31         329.105769            0.995762\n",
       "1974-09-30         327.303182            0.990900"
      ]
     },
     "execution_count": 55,
     "metadata": {},
     "output_type": "execute_result"
    }
   ],
   "source": [
    "train['seasonal_component']= multi.seasonal\n",
    "train.head()"
   ]
  },
  {
   "cell_type": "code",
   "execution_count": 64,
   "id": "67a5ae4a",
   "metadata": {},
   "outputs": [
    {
     "data": {
      "text/html": [
       "<div>\n",
       "<style scoped>\n",
       "    .dataframe tbody tr th:only-of-type {\n",
       "        vertical-align: middle;\n",
       "    }\n",
       "\n",
       "    .dataframe tbody tr th {\n",
       "        vertical-align: top;\n",
       "    }\n",
       "\n",
       "    .dataframe thead th {\n",
       "        text-align: right;\n",
       "    }\n",
       "</style>\n",
       "<table border=\"1\" class=\"dataframe\">\n",
       "  <thead>\n",
       "    <tr style=\"text-align: right;\">\n",
       "      <th></th>\n",
       "      <th>seasonal_component</th>\n",
       "      <th>month</th>\n",
       "    </tr>\n",
       "  </thead>\n",
       "  <tbody>\n",
       "    <tr>\n",
       "      <th>1974-05-31</th>\n",
       "      <td>1.008482</td>\n",
       "      <td>5</td>\n",
       "    </tr>\n",
       "    <tr>\n",
       "      <th>1974-06-30</th>\n",
       "      <td>1.006564</td>\n",
       "      <td>6</td>\n",
       "    </tr>\n",
       "    <tr>\n",
       "      <th>1974-07-31</th>\n",
       "      <td>1.001811</td>\n",
       "      <td>7</td>\n",
       "    </tr>\n",
       "    <tr>\n",
       "      <th>1974-08-31</th>\n",
       "      <td>0.995762</td>\n",
       "      <td>8</td>\n",
       "    </tr>\n",
       "    <tr>\n",
       "      <th>1974-09-30</th>\n",
       "      <td>0.990900</td>\n",
       "      <td>9</td>\n",
       "    </tr>\n",
       "    <tr>\n",
       "      <th>1974-10-31</th>\n",
       "      <td>0.990801</td>\n",
       "      <td>10</td>\n",
       "    </tr>\n",
       "    <tr>\n",
       "      <th>1974-11-30</th>\n",
       "      <td>0.994131</td>\n",
       "      <td>11</td>\n",
       "    </tr>\n",
       "    <tr>\n",
       "      <th>1974-12-31</th>\n",
       "      <td>0.997567</td>\n",
       "      <td>12</td>\n",
       "    </tr>\n",
       "    <tr>\n",
       "      <th>1975-01-31</th>\n",
       "      <td>1.000244</td>\n",
       "      <td>1</td>\n",
       "    </tr>\n",
       "    <tr>\n",
       "      <th>1975-02-28</th>\n",
       "      <td>1.002097</td>\n",
       "      <td>2</td>\n",
       "    </tr>\n",
       "    <tr>\n",
       "      <th>1975-03-31</th>\n",
       "      <td>1.004264</td>\n",
       "      <td>3</td>\n",
       "    </tr>\n",
       "    <tr>\n",
       "      <th>1975-04-30</th>\n",
       "      <td>1.007375</td>\n",
       "      <td>4</td>\n",
       "    </tr>\n",
       "  </tbody>\n",
       "</table>\n",
       "</div>"
      ],
      "text/plain": [
       "            seasonal_component  month\n",
       "1974-05-31            1.008482      5\n",
       "1974-06-30            1.006564      6\n",
       "1974-07-31            1.001811      7\n",
       "1974-08-31            0.995762      8\n",
       "1974-09-30            0.990900      9\n",
       "1974-10-31            0.990801     10\n",
       "1974-11-30            0.994131     11\n",
       "1974-12-31            0.997567     12\n",
       "1975-01-31            1.000244      1\n",
       "1975-02-28            1.002097      2\n",
       "1975-03-31            1.004264      3\n",
       "1975-04-30            1.007375      4"
      ]
     },
     "execution_count": 64,
     "metadata": {},
     "output_type": "execute_result"
    }
   ],
   "source": [
    "seasonal_one_year= pd.DataFrame(train['seasonal_component'][:12])\n",
    "seasonal_one_year['month']= seasonal_one_year.index.month\n",
    "seasonal_one_year"
   ]
  },
  {
   "cell_type": "markdown",
   "id": "40522207",
   "metadata": {},
   "source": [
    "Since this is from a multiplicative model, if we want to __remove__ this seasonal component, we'll need to __divide__ our original time series by these repeating (12-month cycle) values."
   ]
  },
  {
   "cell_type": "code",
   "execution_count": 65,
   "id": "e4577c7c",
   "metadata": {
    "collapsed": true
   },
   "outputs": [
    {
     "name": "stdout",
     "output_type": "stream",
     "text": [
      "\n",
      "\u001b[1m============================= test session starts ==============================\u001b[0m\n",
      "platform linux -- Python 3.10.6, pytest-7.1.3, pluggy-1.0.0 -- /home/parissa/.pyenv/versions/lewagon/bin/python3\n",
      "cachedir: .pytest_cache\n",
      "rootdir: /home/parissa/code/ParissaPeimaniyfard/05-ML/09-Time-Series/data-arima-101/tests\n",
      "plugins: typeguard-2.13.3, anyio-3.6.2, asyncio-0.19.0\n",
      "asyncio: mode=strict\n",
      "\u001b[1mcollecting ... \u001b[0mcollected 2 items\n",
      "\n",
      "test_seasonal.py::TestSeasonal::test_seasonal_column \u001b[32mPASSED\u001b[0m\u001b[32m              [ 50%]\u001b[0m\n",
      "test_seasonal.py::TestSeasonal::test_seasonal_year_shape \u001b[32mPASSED\u001b[0m\u001b[32m          [100%]\u001b[0m\n",
      "\n",
      "\u001b[32m============================== \u001b[32m\u001b[1m2 passed\u001b[0m\u001b[32m in 0.25s\u001b[0m\u001b[32m ===============================\u001b[0m\n",
      "\n",
      "\n",
      "💯 You can commit your code:\n",
      "\n",
      "\u001b[1;32mgit\u001b[39m add tests/seasonal.pickle\n",
      "\n",
      "\u001b[32mgit\u001b[39m commit -m \u001b[33m'Completed seasonal step'\u001b[39m\n",
      "\n",
      "\u001b[32mgit\u001b[39m push origin master\n",
      "\n"
     ]
    }
   ],
   "source": [
    "from nbresult import ChallengeResult\n",
    "\n",
    "result = ChallengeResult('seasonal',\n",
    "                         train = train,\n",
    "                         seasonal = seasonal_one_year)\n",
    "result.write()\n",
    "print(result.check())"
   ]
  },
  {
   "cell_type": "markdown",
   "id": "a3a99bde",
   "metadata": {},
   "source": [
    "Create a new column named `\"seasonal_stripped\"` equal to the value of your original time series divided by the seasonal component."
   ]
  },
  {
   "cell_type": "code",
   "execution_count": 70,
   "id": "d858faa7",
   "metadata": {
    "tags": [
     "challengify"
    ]
   },
   "outputs": [],
   "source": [
    "train['seasonal_stripped']= train['CO2 molfrac (ppm)']/multi.seasonal"
   ]
  },
  {
   "cell_type": "markdown",
   "id": "09615ad9",
   "metadata": {},
   "source": [
    "Plot this new column out:"
   ]
  },
  {
   "cell_type": "code",
   "execution_count": 71,
   "id": "3235d05d",
   "metadata": {
    "tags": [
     "challengify"
    ]
   },
   "outputs": [
    {
     "data": {
      "text/plain": [
       "<AxesSubplot:>"
      ]
     },
     "execution_count": 71,
     "metadata": {},
     "output_type": "execute_result"
    },
    {
     "data": {
      "image/png": "[encoded data removed]",
      "text/plain": [
       "<Figure size 640x480 with 1 Axes>"
      ]
     },
     "metadata": {},
     "output_type": "display_data"
    }
   ],
   "source": [
    "train['seasonal_stripped'].plot()"
   ]
  },
  {
   "cell_type": "markdown",
   "id": "cf890114",
   "metadata": {},
   "source": [
    "Does it look stationary yet? Discuss with your buddy for the day why or why not."
   ]
  },
  {
   "cell_type": "markdown",
   "id": "e0463d35",
   "metadata": {},
   "source": [
    "Our next task is to take this __deseasonalized__ time series and to look get it stationary. Try using `.diff()` and see how it looks. Then try diffing one more time to see any changes. "
   ]
  },
  {
   "cell_type": "code",
   "execution_count": 73,
   "id": "58026816",
   "metadata": {
    "tags": [
     "challengify"
    ]
   },
   "outputs": [
    {
     "data": {
      "text/plain": [
       "<AxesSubplot:>"
      ]
     },
     "execution_count": 73,
     "metadata": {},
     "output_type": "execute_result"
    },
    {
     "data": {
      "image/png": "[encoded data removed]",
      "text/plain": [
       "<Figure size 640x480 with 1 Axes>"
      ]
     },
     "metadata": {},
     "output_type": "display_data"
    }
   ],
   "source": [
    "train['seasonal_stripped'].diff().plot()"
   ]
  },
  {
   "cell_type": "code",
   "execution_count": 74,
   "id": "2a124991",
   "metadata": {
    "tags": [
     "challengify"
    ]
   },
   "outputs": [
    {
     "data": {
      "text/plain": [
       "<AxesSubplot:>"
      ]
     },
     "execution_count": 74,
     "metadata": {},
     "output_type": "execute_result"
    },
    {
     "data": {
      "image/png": "[encoded data removed]",
      "text/plain": [
       "<Figure size 640x480 with 1 Axes>"
      ]
     },
     "metadata": {},
     "output_type": "display_data"
    }
   ],
   "source": [
    "train['seasonal_stripped'].diff().diff().plot()"
   ]
  },
  {
   "cell_type": "markdown",
   "id": "00087435",
   "metadata": {},
   "source": [
    "Both should look quite stationary visually, use the `adfuller` (Augmented Dicky-Fuller) test from the lecture to verify that each one is. \n",
    "\n",
    "N.B. When you `diff` you create null values in your DataFrame, you'll need to drop these to perform an ADF test."
   ]
  },
  {
   "cell_type": "code",
   "execution_count": 85,
   "id": "e93c335f",
   "metadata": {},
   "outputs": [
    {
     "data": {
      "text/plain": [
       "(2.95618589425299,\n",
       " 1.0,\n",
       " 7,\n",
       " 467,\n",
       " {'1%': -3.4444305322234365,\n",
       "  '5%': -2.8677488864580885,\n",
       "  '10%': -2.5700770984781443},\n",
       " 199.958791647638)"
      ]
     },
     "execution_count": 85,
     "metadata": {},
     "output_type": "execute_result"
    }
   ],
   "source": [
    "adfuller(train['seasonal_stripped'])"
   ]
  },
  {
   "cell_type": "code",
   "execution_count": 78,
   "id": "f263873a",
   "metadata": {
    "scrolled": true,
    "tags": [
     "challengify"
    ]
   },
   "outputs": [
    {
     "data": {
      "text/plain": [
       "4.8164180087925554e-06"
      ]
     },
     "execution_count": 78,
     "metadata": {},
     "output_type": "execute_result"
    }
   ],
   "source": [
    "adfuller(train['seasonal_stripped'].diff().dropna())[1]"
   ]
  },
  {
   "cell_type": "code",
   "execution_count": 79,
   "id": "b3004e2e",
   "metadata": {
    "tags": [
     "challengify"
    ]
   },
   "outputs": [
    {
     "data": {
      "text/plain": [
       "1.2453738770615151e-23"
      ]
     },
     "execution_count": 79,
     "metadata": {},
     "output_type": "execute_result"
    }
   ],
   "source": [
    "adfuller(train['seasonal_stripped'].diff().diff().dropna())[1]"
   ]
  },
  {
   "cell_type": "markdown",
   "id": "633b40d1",
   "metadata": {},
   "source": [
    "Both seem to be reasonably stationary, and it looks like there's no need to overdifference (though we can always try building a twice-diffed time series later). Let's go ahead and plot our `acf` and `pacf` plots (be sure to drop any `null` values - those will break your ACF and PACF calculators) 😔"
   ]
  },
  {
   "cell_type": "code",
   "execution_count": 80,
   "id": "37806ad3",
   "metadata": {},
   "outputs": [],
   "source": [
    "from statsmodels.graphics.tsaplots import plot_pacf\n",
    "from statsmodels.graphics.tsaplots import plot_acf"
   ]
  },
  {
   "cell_type": "code",
   "execution_count": 83,
   "id": "36ef0b53",
   "metadata": {
    "tags": [
     "challengify"
    ]
   },
   "outputs": [
    {
     "data": {
      "image/png": "[encoded data removed]",
      "text/plain": [
       "<Figure size 640x480 with 1 Axes>"
      ]
     },
     "metadata": {},
     "output_type": "display_data"
    }
   ],
   "source": [
    "plot_acf(train['seasonal_stripped'].diff().dropna(), zero=False);"
   ]
  },
  {
   "cell_type": "code",
   "execution_count": 84,
   "id": "a720e59f",
   "metadata": {
    "tags": [
     "challengify"
    ]
   },
   "outputs": [
    {
     "data": {
      "image/png": "[encoded data removed]",
      "text/plain": [
       "<Figure size 640x480 with 1 Axes>"
      ]
     },
     "metadata": {},
     "output_type": "display_data"
    }
   ],
   "source": [
    "plot_pacf(train['seasonal_stripped'].diff().dropna(), zero=False);"
   ]
  },
  {
   "cell_type": "markdown",
   "id": "c7a2b21a",
   "metadata": {},
   "source": [
    "Take the time to really talk through what these plots actually mean with your buddy. Which one corresponds to your `p` parameter and which corresponds to your `q` parameter?"
   ]
  },
  {
   "cell_type": "markdown",
   "id": "ada0211a",
   "metadata": {},
   "source": [
    "Now build a simple ARIMA model with the appropriate order values for your `p` `d` and `q` values. Investigate its model summary."
   ]
  },
  {
   "cell_type": "code",
   "execution_count": 88,
   "id": "b2a4790b",
   "metadata": {
    "scrolled": true,
    "tags": [
     "challengify"
    ]
   },
   "outputs": [
    {
     "name": "stderr",
     "output_type": "stream",
     "text": [
      "/home/parissa/.pyenv/versions/3.10.6/envs/lewagon/lib/python3.10/site-packages/statsmodels/tsa/statespace/sarimax.py:966: UserWarning: Non-stationary starting autoregressive parameters found. Using zeros as starting parameters.\n",
      "  warn('Non-stationary starting autoregressive parameters'\n",
      "/home/parissa/.pyenv/versions/3.10.6/envs/lewagon/lib/python3.10/site-packages/statsmodels/tsa/statespace/sarimax.py:978: UserWarning: Non-invertible starting MA parameters found. Using zeros as starting parameters.\n",
      "  warn('Non-invertible starting MA parameters found.'\n"
     ]
    }
   ],
   "source": [
    "arima_model= ARIMA(train['seasonal_stripped'], order=(2,1,1))\n",
    "fitted= arima_model.fit()"
   ]
  },
  {
   "cell_type": "code",
   "execution_count": 90,
   "id": "5612add8",
   "metadata": {},
   "outputs": [
    {
     "data": {
      "text/html": [
       "<table class=\"simpletable\">\n",
       "<caption>SARIMAX Results</caption>\n",
       "<tr>\n",
       "  <th>Dep. Variable:</th>   <td>seasonal_stripped</td> <th>  No. Observations:  </th>    <td>475</td>  \n",
       "</tr>\n",
       "<tr>\n",
       "  <th>Model:</th>            <td>ARIMA(2, 1, 1)</td>   <th>  Log Likelihood     </th> <td>-107.921</td>\n",
       "</tr>\n",
       "<tr>\n",
       "  <th>Date:</th>            <td>Sun, 21 Jan 2024</td>  <th>  AIC                </th>  <td>223.842</td>\n",
       "</tr>\n",
       "<tr>\n",
       "  <th>Time:</th>                <td>21:01:42</td>      <th>  BIC                </th>  <td>240.487</td>\n",
       "</tr>\n",
       "<tr>\n",
       "  <th>Sample:</th>             <td>05-31-1974</td>     <th>  HQIC               </th>  <td>230.388</td>\n",
       "</tr>\n",
       "<tr>\n",
       "  <th></th>                   <td>- 11-30-2013</td>    <th>                     </th>     <td> </td>   \n",
       "</tr>\n",
       "<tr>\n",
       "  <th>Covariance Type:</th>        <td>opg</td>        <th>                     </th>     <td> </td>   \n",
       "</tr>\n",
       "</table>\n",
       "<table class=\"simpletable\">\n",
       "<tr>\n",
       "     <td></td>       <th>coef</th>     <th>std err</th>      <th>z</th>      <th>P>|z|</th>  <th>[0.025</th>    <th>0.975]</th>  \n",
       "</tr>\n",
       "<tr>\n",
       "  <th>ar.L1</th>  <td>    0.7212</td> <td>    0.043</td> <td>   16.934</td> <td> 0.000</td> <td>    0.638</td> <td>    0.805</td>\n",
       "</tr>\n",
       "<tr>\n",
       "  <th>ar.L2</th>  <td>    0.2787</td> <td>    0.043</td> <td>    6.541</td> <td> 0.000</td> <td>    0.195</td> <td>    0.362</td>\n",
       "</tr>\n",
       "<tr>\n",
       "  <th>ma.L1</th>  <td>   -0.9922</td> <td>    0.010</td> <td>  -94.641</td> <td> 0.000</td> <td>   -1.013</td> <td>   -0.972</td>\n",
       "</tr>\n",
       "<tr>\n",
       "  <th>sigma2</th> <td>    0.0917</td> <td>    0.006</td> <td>   16.358</td> <td> 0.000</td> <td>    0.081</td> <td>    0.103</td>\n",
       "</tr>\n",
       "</table>\n",
       "<table class=\"simpletable\">\n",
       "<tr>\n",
       "  <th>Ljung-Box (L1) (Q):</th>     <td>0.82</td> <th>  Jarque-Bera (JB):  </th> <td>2.32</td>\n",
       "</tr>\n",
       "<tr>\n",
       "  <th>Prob(Q):</th>                <td>0.37</td> <th>  Prob(JB):          </th> <td>0.31</td>\n",
       "</tr>\n",
       "<tr>\n",
       "  <th>Heteroskedasticity (H):</th> <td>1.14</td> <th>  Skew:              </th> <td>0.02</td>\n",
       "</tr>\n",
       "<tr>\n",
       "  <th>Prob(H) (two-sided):</th>    <td>0.43</td> <th>  Kurtosis:          </th> <td>3.34</td>\n",
       "</tr>\n",
       "</table><br/><br/>Warnings:<br/>[1] Covariance matrix calculated using the outer product of gradients (complex-step)."
      ],
      "text/latex": [
       "\\begin{center}\n",
       "\\begin{tabular}{lclc}\n",
       "\\toprule\n",
       "\\textbf{Dep. Variable:}          & seasonal\\_stripped & \\textbf{  No. Observations:  } &    475      \\\\\n",
       "\\textbf{Model:}                  &   ARIMA(2, 1, 1)   & \\textbf{  Log Likelihood     } &  -107.921   \\\\\n",
       "\\textbf{Date:}                   &  Sun, 21 Jan 2024  & \\textbf{  AIC                } &  223.842    \\\\\n",
       "\\textbf{Time:}                   &      21:01:42      & \\textbf{  BIC                } &  240.487    \\\\\n",
       "\\textbf{Sample:}                 &     05-31-1974     & \\textbf{  HQIC               } &  230.388    \\\\\n",
       "\\textbf{}                        &    - 11-30-2013    & \\textbf{                     } &             \\\\\n",
       "\\textbf{Covariance Type:}        &        opg         & \\textbf{                     } &             \\\\\n",
       "\\bottomrule\n",
       "\\end{tabular}\n",
       "\\begin{tabular}{lcccccc}\n",
       "                & \\textbf{coef} & \\textbf{std err} & \\textbf{z} & \\textbf{P$> |$z$|$} & \\textbf{[0.025} & \\textbf{0.975]}  \\\\\n",
       "\\midrule\n",
       "\\textbf{ar.L1}  &       0.7212  &        0.043     &    16.934  &         0.000        &        0.638    &        0.805     \\\\\n",
       "\\textbf{ar.L2}  &       0.2787  &        0.043     &     6.541  &         0.000        &        0.195    &        0.362     \\\\\n",
       "\\textbf{ma.L1}  &      -0.9922  &        0.010     &   -94.641  &         0.000        &       -1.013    &       -0.972     \\\\\n",
       "\\textbf{sigma2} &       0.0917  &        0.006     &    16.358  &         0.000        &        0.081    &        0.103     \\\\\n",
       "\\bottomrule\n",
       "\\end{tabular}\n",
       "\\begin{tabular}{lclc}\n",
       "\\textbf{Ljung-Box (L1) (Q):}     & 0.82 & \\textbf{  Jarque-Bera (JB):  } & 2.32  \\\\\n",
       "\\textbf{Prob(Q):}                & 0.37 & \\textbf{  Prob(JB):          } & 0.31  \\\\\n",
       "\\textbf{Heteroskedasticity (H):} & 1.14 & \\textbf{  Skew:              } & 0.02  \\\\\n",
       "\\textbf{Prob(H) (two-sided):}    & 0.43 & \\textbf{  Kurtosis:          } & 3.34  \\\\\n",
       "\\bottomrule\n",
       "\\end{tabular}\n",
       "%\\caption{SARIMAX Results}\n",
       "\\end{center}\n",
       "\n",
       "Warnings: \\newline\n",
       " [1] Covariance matrix calculated using the outer product of gradients (complex-step)."
      ],
      "text/plain": [
       "<class 'statsmodels.iolib.summary.Summary'>\n",
       "\"\"\"\n",
       "                               SARIMAX Results                                \n",
       "==============================================================================\n",
       "Dep. Variable:      seasonal_stripped   No. Observations:                  475\n",
       "Model:                 ARIMA(2, 1, 1)   Log Likelihood                -107.921\n",
       "Date:                Sun, 21 Jan 2024   AIC                            223.842\n",
       "Time:                        21:01:42   BIC                            240.487\n",
       "Sample:                    05-31-1974   HQIC                           230.388\n",
       "                         - 11-30-2013                                         \n",
       "Covariance Type:                  opg                                         \n",
       "==============================================================================\n",
       "                 coef    std err          z      P>|z|      [0.025      0.975]\n",
       "------------------------------------------------------------------------------\n",
       "ar.L1          0.7212      0.043     16.934      0.000       0.638       0.805\n",
       "ar.L2          0.2787      0.043      6.541      0.000       0.195       0.362\n",
       "ma.L1         -0.9922      0.010    -94.641      0.000      -1.013      -0.972\n",
       "sigma2         0.0917      0.006     16.358      0.000       0.081       0.103\n",
       "===================================================================================\n",
       "Ljung-Box (L1) (Q):                   0.82   Jarque-Bera (JB):                 2.32\n",
       "Prob(Q):                              0.37   Prob(JB):                         0.31\n",
       "Heteroskedasticity (H):               1.14   Skew:                             0.02\n",
       "Prob(H) (two-sided):                  0.43   Kurtosis:                         3.34\n",
       "===================================================================================\n",
       "\n",
       "Warnings:\n",
       "[1] Covariance matrix calculated using the outer product of gradients (complex-step).\n",
       "\"\"\""
      ]
     },
     "execution_count": 90,
     "metadata": {},
     "output_type": "execute_result"
    }
   ],
   "source": [
    "fitted.summary()"
   ]
  },
  {
   "cell_type": "markdown",
   "id": "c13c3571",
   "metadata": {},
   "source": [
    "What do you note about the summary? What are the most important features here?"
   ]
  },
  {
   "cell_type": "markdown",
   "id": "19174c90",
   "metadata": {},
   "source": [
    "It looks like we can trust our coefficients and we have an AIC of ~223. But was it the best model? Trying using the `auto_arima` function to grid search different models and see which has the best AIC"
   ]
  },
  {
   "cell_type": "code",
   "execution_count": 92,
   "id": "5c55efa4",
   "metadata": {},
   "outputs": [],
   "source": [
    "from pmdarima.arima import auto_arima\n"
   ]
  },
  {
   "cell_type": "code",
   "execution_count": 98,
   "id": "152d4960",
   "metadata": {},
   "outputs": [
    {
     "name": "stdout",
     "output_type": "stream",
     "text": [
      "Performing stepwise search to minimize aic\n",
      " ARIMA(2,1,2)(0,0,0)[0] intercept   : AIC=213.925, Time=0.58 sec\n",
      " ARIMA(0,1,0)(0,0,0)[0] intercept   : AIC=252.307, Time=0.04 sec\n",
      " ARIMA(1,1,0)(0,0,0)[0] intercept   : AIC=216.874, Time=0.07 sec\n",
      " ARIMA(0,1,1)(0,0,0)[0] intercept   : AIC=209.862, Time=0.07 sec\n",
      " ARIMA(0,1,0)(0,0,0)[0]             : AIC=338.365, Time=0.03 sec\n",
      " ARIMA(1,1,1)(0,0,0)[0] intercept   : AIC=211.246, Time=0.14 sec\n",
      " ARIMA(0,1,2)(0,0,0)[0] intercept   : AIC=211.280, Time=0.11 sec\n",
      " ARIMA(1,1,2)(0,0,0)[0] intercept   : AIC=213.283, Time=0.22 sec\n",
      " ARIMA(0,1,1)(0,0,0)[0]             : AIC=339.127, Time=0.05 sec\n",
      "\n",
      "Best model:  ARIMA(0,1,1)(0,0,0)[0] intercept\n",
      "Total fit time: 1.339 seconds\n"
     ]
    }
   ],
   "source": [
    "auto_model = auto_arima(\n",
    "    train['seasonal_stripped'],            # let model determine 'd'\n",
    "    test='adf',       # using adf test to find optimal 'd'\n",
    "    trace=True, error_action='ignore',  suppress_warnings=True\n",
    ")"
   ]
  },
  {
   "cell_type": "code",
   "execution_count": 100,
   "id": "f62fbecb",
   "metadata": {
    "tags": [
     "challengify"
    ]
   },
   "outputs": [
    {
     "data": {
      "text/plain": [
       "209.8617681047256"
      ]
     },
     "execution_count": 100,
     "metadata": {},
     "output_type": "execute_result"
    }
   ],
   "source": [
    "auto_model.aic()"
   ]
  },
  {
   "cell_type": "markdown",
   "id": "948395af",
   "metadata": {},
   "source": [
    "Save your best AIC score to `best_AIC`"
   ]
  },
  {
   "cell_type": "code",
   "execution_count": 101,
   "id": "7f2eab4a",
   "metadata": {
    "tags": [
     "challengify"
    ]
   },
   "outputs": [],
   "source": [
    "best_AIC= auto_model.aic()"
   ]
  },
  {
   "cell_type": "code",
   "execution_count": 102,
   "id": "9ceb6c47",
   "metadata": {
    "collapsed": true
   },
   "outputs": [
    {
     "name": "stdout",
     "output_type": "stream",
     "text": [
      "\n",
      "\u001b[1m============================= test session starts ==============================\u001b[0m\n",
      "platform linux -- Python 3.10.6, pytest-7.1.3, pluggy-1.0.0 -- /home/parissa/.pyenv/versions/lewagon/bin/python3\n",
      "cachedir: .pytest_cache\n",
      "rootdir: /home/parissa/code/ParissaPeimaniyfard/05-ML/09-Time-Series/data-arima-101/tests\n",
      "plugins: typeguard-2.13.3, anyio-3.6.2, asyncio-0.19.0\n",
      "asyncio: mode=strict\n",
      "\u001b[1mcollecting ... \u001b[0mcollected 1 item\n",
      "\n",
      "test_score.py::TestScore::test_AIC_score \u001b[32mPASSED\u001b[0m\u001b[32m                          [100%]\u001b[0m\n",
      "\n",
      "\u001b[32m============================== \u001b[32m\u001b[1m1 passed\u001b[0m\u001b[32m in 0.12s\u001b[0m\u001b[32m ===============================\u001b[0m\n",
      "\n",
      "\n",
      "💯 You can commit your code:\n",
      "\n",
      "\u001b[1;32mgit\u001b[39m add tests/score.pickle\n",
      "\n",
      "\u001b[32mgit\u001b[39m commit -m \u001b[33m'Completed score step'\u001b[39m\n",
      "\n",
      "\u001b[32mgit\u001b[39m push origin master\n",
      "\n"
     ]
    }
   ],
   "source": [
    "from nbresult import ChallengeResult\n",
    "\n",
    "result = ChallengeResult('score',\n",
    "                         aic_score = best_AIC)\n",
    "result.write()\n",
    "print(result.check())"
   ]
  },
  {
   "cell_type": "markdown",
   "id": "b287b357",
   "metadata": {},
   "source": [
    "Often times, it can be hard to predict which model with fit best on our data so it is usually a good idea to grid-search and compare your models' AIC scores 🧐 Here, it looks like a __(0,1,1)__ model gets a better AIC score (so the MA components of our original model probably weren't improving our model likelihood that much!)"
   ]
  },
  {
   "cell_type": "markdown",
   "id": "ce94ff90",
   "metadata": {},
   "source": [
    "### Making predictions (get ready for some Pandas work!)"
   ]
  },
  {
   "cell_type": "markdown",
   "id": "67e5a303",
   "metadata": {},
   "source": [
    "Now that we have our best model, we'd like to generate some predictions and - crucially - some confidence intervals. Use your model to predict for the length of your test set and ensure that you also return those intervals (use `return_conf_int = True`). Create a `preds_df` DataFrame with columns for `preds`, `upper` and `lower` bounds."
   ]
  },
  {
   "cell_type": "code",
   "execution_count": 103,
   "id": "5db54b3e",
   "metadata": {
    "tags": [
     "challengify"
    ]
   },
   "outputs": [
    {
     "data": {
      "text/plain": [
       "(119, 2)"
      ]
     },
     "execution_count": 103,
     "metadata": {},
     "output_type": "execute_result"
    }
   ],
   "source": [
    "test.shape"
   ]
  },
  {
   "cell_type": "code",
   "execution_count": 115,
   "id": "58d855f0",
   "metadata": {
    "tags": [
     "challengify"
    ]
   },
   "outputs": [],
   "source": [
    "pred, conf= auto_model.predict(test.shape[0], return_conf_int=True)"
   ]
  },
  {
   "cell_type": "code",
   "execution_count": 120,
   "id": "f2c021e1",
   "metadata": {
    "tags": [
     "challengify"
    ]
   },
   "outputs": [],
   "source": [
    "preds_df= pd.DataFrame(pred, columns=['preds'])"
   ]
  },
  {
   "cell_type": "code",
   "execution_count": 123,
   "id": "1c95b960",
   "metadata": {},
   "outputs": [],
   "source": [
    "preds_df['lower']= conf[:,0]\n",
    "preds_df['upper']= conf[:,1]"
   ]
  },
  {
   "cell_type": "code",
   "execution_count": 124,
   "id": "855af14a",
   "metadata": {},
   "outputs": [
    {
     "data": {
      "text/html": [
       "<div>\n",
       "<style scoped>\n",
       "    .dataframe tbody tr th:only-of-type {\n",
       "        vertical-align: middle;\n",
       "    }\n",
       "\n",
       "    .dataframe tbody tr th {\n",
       "        vertical-align: top;\n",
       "    }\n",
       "\n",
       "    .dataframe thead th {\n",
       "        text-align: right;\n",
       "    }\n",
       "</style>\n",
       "<table border=\"1\" class=\"dataframe\">\n",
       "  <thead>\n",
       "    <tr style=\"text-align: right;\">\n",
       "      <th></th>\n",
       "      <th>preds</th>\n",
       "      <th>lower</th>\n",
       "      <th>upper</th>\n",
       "    </tr>\n",
       "  </thead>\n",
       "  <tbody>\n",
       "    <tr>\n",
       "      <th>2013-12-31</th>\n",
       "      <td>397.824555</td>\n",
       "      <td>397.236599</td>\n",
       "      <td>398.412512</td>\n",
       "    </tr>\n",
       "    <tr>\n",
       "      <th>2014-01-31</th>\n",
       "      <td>397.966867</td>\n",
       "      <td>397.257358</td>\n",
       "      <td>398.676377</td>\n",
       "    </tr>\n",
       "    <tr>\n",
       "      <th>2014-02-28</th>\n",
       "      <td>398.109180</td>\n",
       "      <td>397.296090</td>\n",
       "      <td>398.922270</td>\n",
       "    </tr>\n",
       "    <tr>\n",
       "      <th>2014-03-31</th>\n",
       "      <td>398.251492</td>\n",
       "      <td>397.346602</td>\n",
       "      <td>399.156383</td>\n",
       "    </tr>\n",
       "    <tr>\n",
       "      <th>2014-04-30</th>\n",
       "      <td>398.393805</td>\n",
       "      <td>397.405605</td>\n",
       "      <td>399.382004</td>\n",
       "    </tr>\n",
       "    <tr>\n",
       "      <th>...</th>\n",
       "      <td>...</td>\n",
       "      <td>...</td>\n",
       "      <td>...</td>\n",
       "    </tr>\n",
       "    <tr>\n",
       "      <th>2023-06-30</th>\n",
       "      <td>414.048167</td>\n",
       "      <td>409.767423</td>\n",
       "      <td>418.328911</td>\n",
       "    </tr>\n",
       "    <tr>\n",
       "      <th>2023-07-31</th>\n",
       "      <td>414.190479</td>\n",
       "      <td>409.891353</td>\n",
       "      <td>418.489605</td>\n",
       "    </tr>\n",
       "    <tr>\n",
       "      <th>2023-08-31</th>\n",
       "      <td>414.332792</td>\n",
       "      <td>410.015362</td>\n",
       "      <td>418.650221</td>\n",
       "    </tr>\n",
       "    <tr>\n",
       "      <th>2023-09-30</th>\n",
       "      <td>414.475104</td>\n",
       "      <td>410.139449</td>\n",
       "      <td>418.810759</td>\n",
       "    </tr>\n",
       "    <tr>\n",
       "      <th>2023-10-31</th>\n",
       "      <td>414.617416</td>\n",
       "      <td>410.263611</td>\n",
       "      <td>418.971221</td>\n",
       "    </tr>\n",
       "  </tbody>\n",
       "</table>\n",
       "<p>119 rows × 3 columns</p>\n",
       "</div>"
      ],
      "text/plain": [
       "                 preds       lower       upper\n",
       "2013-12-31  397.824555  397.236599  398.412512\n",
       "2014-01-31  397.966867  397.257358  398.676377\n",
       "2014-02-28  398.109180  397.296090  398.922270\n",
       "2014-03-31  398.251492  397.346602  399.156383\n",
       "2014-04-30  398.393805  397.405605  399.382004\n",
       "...                ...         ...         ...\n",
       "2023-06-30  414.048167  409.767423  418.328911\n",
       "2023-07-31  414.190479  409.891353  418.489605\n",
       "2023-08-31  414.332792  410.015362  418.650221\n",
       "2023-09-30  414.475104  410.139449  418.810759\n",
       "2023-10-31  414.617416  410.263611  418.971221\n",
       "\n",
       "[119 rows x 3 columns]"
      ]
     },
     "execution_count": 124,
     "metadata": {},
     "output_type": "execute_result"
    }
   ],
   "source": [
    "preds_df"
   ]
  },
  {
   "cell_type": "code",
   "execution_count": 125,
   "id": "3337e6fb",
   "metadata": {
    "collapsed": true
   },
   "outputs": [
    {
     "name": "stdout",
     "output_type": "stream",
     "text": [
      "\n",
      "\u001b[1m============================= test session starts ==============================\u001b[0m\n",
      "platform linux -- Python 3.10.6, pytest-7.1.3, pluggy-1.0.0 -- /home/parissa/.pyenv/versions/lewagon/bin/python3\n",
      "cachedir: .pytest_cache\n",
      "rootdir: /home/parissa/code/ParissaPeimaniyfard/05-ML/09-Time-Series/data-arima-101/tests\n",
      "plugins: typeguard-2.13.3, anyio-3.6.2, asyncio-0.19.0\n",
      "asyncio: mode=strict\n",
      "\u001b[1mcollecting ... \u001b[0mcollected 2 items\n",
      "\n",
      "test_preds.py::TestPreds::test_df_values \u001b[32mPASSED\u001b[0m\u001b[32m                          [ 50%]\u001b[0m\n",
      "test_preds.py::TestPreds::test_preds_cols \u001b[32mPASSED\u001b[0m\u001b[32m                         [100%]\u001b[0m\n",
      "\n",
      "\u001b[32m============================== \u001b[32m\u001b[1m2 passed\u001b[0m\u001b[32m in 0.28s\u001b[0m\u001b[32m ===============================\u001b[0m\n",
      "\n",
      "\n",
      "💯 You can commit your code:\n",
      "\n",
      "\u001b[1;32mgit\u001b[39m add tests/preds.pickle\n",
      "\n",
      "\u001b[32mgit\u001b[39m commit -m \u001b[33m'Completed preds step'\u001b[39m\n",
      "\n",
      "\u001b[32mgit\u001b[39m push origin master\n",
      "\n"
     ]
    }
   ],
   "source": [
    "from nbresult import ChallengeResult\n",
    "\n",
    "result = ChallengeResult('preds',\n",
    "                         preds_df = preds_df)\n",
    "result.write()\n",
    "print(result.check())"
   ]
  },
  {
   "cell_type": "markdown",
   "id": "6e53a5e8",
   "metadata": {},
   "source": [
    "Now plot them, out and see how they look compared alongside your `train` data"
   ]
  },
  {
   "cell_type": "code",
   "execution_count": 128,
   "id": "873b44ed",
   "metadata": {
    "tags": [
     "challengify"
    ]
   },
   "outputs": [
    {
     "data": {
      "text/plain": [
       "<AxesSubplot:>"
      ]
     },
     "execution_count": 128,
     "metadata": {},
     "output_type": "execute_result"
    },
    {
     "data": {
      "image/png": "[encoded data removed]",
      "text/plain": [
       "<Figure size 640x480 with 1 Axes>"
      ]
     },
     "metadata": {},
     "output_type": "display_data"
    }
   ],
   "source": [
    "preds_df.plot()\n",
    "train['CO2 molfrac (ppm)'].plot()"
   ]
  },
  {
   "cell_type": "markdown",
   "id": "5da6ed9c",
   "metadata": {},
   "source": [
    "Something looks a bit wrong doesn't it? We're looking at three straight lines coming out of something that clearly had seasonality. To account for this, we need to re-incorporate the seasonality component that we extracted earlier!\n",
    "\n",
    "Create a `month` column in your `test` DataFrame and populate it with the month component of the index. "
   ]
  },
  {
   "cell_type": "code",
   "execution_count": 133,
   "id": "baa32868",
   "metadata": {
    "tags": [
     "challengify"
    ]
   },
   "outputs": [],
   "source": [
    "preds_df['month']= preds_df.index.month"
   ]
  },
  {
   "cell_type": "code",
   "execution_count": 135,
   "id": "c56694fd",
   "metadata": {
    "tags": [
     "challengify"
    ]
   },
   "outputs": [
    {
     "data": {
      "text/html": [
       "<div>\n",
       "<style scoped>\n",
       "    .dataframe tbody tr th:only-of-type {\n",
       "        vertical-align: middle;\n",
       "    }\n",
       "\n",
       "    .dataframe tbody tr th {\n",
       "        vertical-align: top;\n",
       "    }\n",
       "\n",
       "    .dataframe thead th {\n",
       "        text-align: right;\n",
       "    }\n",
       "</style>\n",
       "<table border=\"1\" class=\"dataframe\">\n",
       "  <thead>\n",
       "    <tr style=\"text-align: right;\">\n",
       "      <th></th>\n",
       "      <th>preds</th>\n",
       "      <th>lower</th>\n",
       "      <th>upper</th>\n",
       "      <th>month</th>\n",
       "    </tr>\n",
       "  </thead>\n",
       "  <tbody>\n",
       "    <tr>\n",
       "      <th>2013-12-31</th>\n",
       "      <td>397.824555</td>\n",
       "      <td>397.236599</td>\n",
       "      <td>398.412512</td>\n",
       "      <td>12</td>\n",
       "    </tr>\n",
       "    <tr>\n",
       "      <th>2014-01-31</th>\n",
       "      <td>397.966867</td>\n",
       "      <td>397.257358</td>\n",
       "      <td>398.676377</td>\n",
       "      <td>1</td>\n",
       "    </tr>\n",
       "    <tr>\n",
       "      <th>2014-02-28</th>\n",
       "      <td>398.109180</td>\n",
       "      <td>397.296090</td>\n",
       "      <td>398.922270</td>\n",
       "      <td>2</td>\n",
       "    </tr>\n",
       "    <tr>\n",
       "      <th>2014-03-31</th>\n",
       "      <td>398.251492</td>\n",
       "      <td>397.346602</td>\n",
       "      <td>399.156383</td>\n",
       "      <td>3</td>\n",
       "    </tr>\n",
       "    <tr>\n",
       "      <th>2014-04-30</th>\n",
       "      <td>398.393805</td>\n",
       "      <td>397.405605</td>\n",
       "      <td>399.382004</td>\n",
       "      <td>4</td>\n",
       "    </tr>\n",
       "  </tbody>\n",
       "</table>\n",
       "</div>"
      ],
      "text/plain": [
       "                 preds       lower       upper  month\n",
       "2013-12-31  397.824555  397.236599  398.412512     12\n",
       "2014-01-31  397.966867  397.257358  398.676377      1\n",
       "2014-02-28  398.109180  397.296090  398.922270      2\n",
       "2014-03-31  398.251492  397.346602  399.156383      3\n",
       "2014-04-30  398.393805  397.405605  399.382004      4"
      ]
     },
     "execution_count": 135,
     "metadata": {},
     "output_type": "execute_result"
    }
   ],
   "source": [
    "preds_df.head()"
   ]
  },
  {
   "cell_type": "markdown",
   "id": "37ac869c",
   "metadata": {},
   "source": [
    "Now we can take our `seasonal_one_year` DataFrame that we made earlier and simply merge it onto our `preds_df`!"
   ]
  },
  {
   "cell_type": "code",
   "execution_count": 137,
   "id": "eb0eee29",
   "metadata": {
    "tags": [
     "challengify"
    ]
   },
   "outputs": [],
   "source": [
    "preds_df= preds_df.merge(seasonal_one_year, on='month', how='left')"
   ]
  },
  {
   "cell_type": "code",
   "execution_count": 139,
   "id": "885fcce9",
   "metadata": {
    "tags": [
     "challengify"
    ]
   },
   "outputs": [
    {
     "data": {
      "text/html": [
       "<div>\n",
       "<style scoped>\n",
       "    .dataframe tbody tr th:only-of-type {\n",
       "        vertical-align: middle;\n",
       "    }\n",
       "\n",
       "    .dataframe tbody tr th {\n",
       "        vertical-align: top;\n",
       "    }\n",
       "\n",
       "    .dataframe thead th {\n",
       "        text-align: right;\n",
       "    }\n",
       "</style>\n",
       "<table border=\"1\" class=\"dataframe\">\n",
       "  <thead>\n",
       "    <tr style=\"text-align: right;\">\n",
       "      <th></th>\n",
       "      <th>preds</th>\n",
       "      <th>lower</th>\n",
       "      <th>upper</th>\n",
       "      <th>month</th>\n",
       "      <th>seasonal_component</th>\n",
       "    </tr>\n",
       "  </thead>\n",
       "  <tbody>\n",
       "    <tr>\n",
       "      <th>0</th>\n",
       "      <td>397.824555</td>\n",
       "      <td>397.236599</td>\n",
       "      <td>398.412512</td>\n",
       "      <td>12</td>\n",
       "      <td>0.997567</td>\n",
       "    </tr>\n",
       "    <tr>\n",
       "      <th>1</th>\n",
       "      <td>397.966867</td>\n",
       "      <td>397.257358</td>\n",
       "      <td>398.676377</td>\n",
       "      <td>1</td>\n",
       "      <td>1.000244</td>\n",
       "    </tr>\n",
       "    <tr>\n",
       "      <th>2</th>\n",
       "      <td>398.109180</td>\n",
       "      <td>397.296090</td>\n",
       "      <td>398.922270</td>\n",
       "      <td>2</td>\n",
       "      <td>1.002097</td>\n",
       "    </tr>\n",
       "    <tr>\n",
       "      <th>3</th>\n",
       "      <td>398.251492</td>\n",
       "      <td>397.346602</td>\n",
       "      <td>399.156383</td>\n",
       "      <td>3</td>\n",
       "      <td>1.004264</td>\n",
       "    </tr>\n",
       "    <tr>\n",
       "      <th>4</th>\n",
       "      <td>398.393805</td>\n",
       "      <td>397.405605</td>\n",
       "      <td>399.382004</td>\n",
       "      <td>4</td>\n",
       "      <td>1.007375</td>\n",
       "    </tr>\n",
       "  </tbody>\n",
       "</table>\n",
       "</div>"
      ],
      "text/plain": [
       "        preds       lower       upper  month  seasonal_component\n",
       "0  397.824555  397.236599  398.412512     12            0.997567\n",
       "1  397.966867  397.257358  398.676377      1            1.000244\n",
       "2  398.109180  397.296090  398.922270      2            1.002097\n",
       "3  398.251492  397.346602  399.156383      3            1.004264\n",
       "4  398.393805  397.405605  399.382004      4            1.007375"
      ]
     },
     "execution_count": 139,
     "metadata": {},
     "output_type": "execute_result"
    }
   ],
   "source": [
    "preds_df.head()"
   ]
  },
  {
   "cell_type": "markdown",
   "id": "6ecbec3a",
   "metadata": {},
   "source": [
    "Now you can create your `full_preds`, `upper_conf` and `lower_conf` (create them as new columns in the `preds_df` DataFrame) by multiplying out your `preds`, `upper` __and__ `lower` columns with the seasonal component that we now have in our `preds_df` DataFrame."
   ]
  },
  {
   "cell_type": "code",
   "execution_count": 140,
   "id": "6d38f91e",
   "metadata": {
    "tags": [
     "challengify"
    ]
   },
   "outputs": [
    {
     "data": {
      "text/html": [
       "<div>\n",
       "<style scoped>\n",
       "    .dataframe tbody tr th:only-of-type {\n",
       "        vertical-align: middle;\n",
       "    }\n",
       "\n",
       "    .dataframe tbody tr th {\n",
       "        vertical-align: top;\n",
       "    }\n",
       "\n",
       "    .dataframe thead th {\n",
       "        text-align: right;\n",
       "    }\n",
       "</style>\n",
       "<table border=\"1\" class=\"dataframe\">\n",
       "  <thead>\n",
       "    <tr style=\"text-align: right;\">\n",
       "      <th></th>\n",
       "      <th>preds</th>\n",
       "      <th>lower</th>\n",
       "      <th>upper</th>\n",
       "      <th>month</th>\n",
       "      <th>seasonal_component</th>\n",
       "      <th>full_preds</th>\n",
       "      <th>upper_conf</th>\n",
       "      <th>lower_conf</th>\n",
       "    </tr>\n",
       "  </thead>\n",
       "  <tbody>\n",
       "    <tr>\n",
       "      <th>0</th>\n",
       "      <td>397.824555</td>\n",
       "      <td>397.236599</td>\n",
       "      <td>398.412512</td>\n",
       "      <td>12</td>\n",
       "      <td>0.997567</td>\n",
       "      <td>396.856692</td>\n",
       "      <td>397.443218</td>\n",
       "      <td>396.270166</td>\n",
       "    </tr>\n",
       "    <tr>\n",
       "      <th>1</th>\n",
       "      <td>397.966867</td>\n",
       "      <td>397.257358</td>\n",
       "      <td>398.676377</td>\n",
       "      <td>1</td>\n",
       "      <td>1.000244</td>\n",
       "      <td>398.064148</td>\n",
       "      <td>398.773831</td>\n",
       "      <td>397.354465</td>\n",
       "    </tr>\n",
       "    <tr>\n",
       "      <th>2</th>\n",
       "      <td>398.109180</td>\n",
       "      <td>397.296090</td>\n",
       "      <td>398.922270</td>\n",
       "      <td>2</td>\n",
       "      <td>1.002097</td>\n",
       "      <td>398.944099</td>\n",
       "      <td>399.758894</td>\n",
       "      <td>398.129304</td>\n",
       "    </tr>\n",
       "    <tr>\n",
       "      <th>3</th>\n",
       "      <td>398.251492</td>\n",
       "      <td>397.346602</td>\n",
       "      <td>399.156383</td>\n",
       "      <td>3</td>\n",
       "      <td>1.004264</td>\n",
       "      <td>399.949716</td>\n",
       "      <td>400.858465</td>\n",
       "      <td>399.040967</td>\n",
       "    </tr>\n",
       "    <tr>\n",
       "      <th>4</th>\n",
       "      <td>398.393805</td>\n",
       "      <td>397.405605</td>\n",
       "      <td>399.382004</td>\n",
       "      <td>4</td>\n",
       "      <td>1.007375</td>\n",
       "      <td>401.331956</td>\n",
       "      <td>402.327444</td>\n",
       "      <td>400.336469</td>\n",
       "    </tr>\n",
       "    <tr>\n",
       "      <th>...</th>\n",
       "      <td>...</td>\n",
       "      <td>...</td>\n",
       "      <td>...</td>\n",
       "      <td>...</td>\n",
       "      <td>...</td>\n",
       "      <td>...</td>\n",
       "      <td>...</td>\n",
       "      <td>...</td>\n",
       "    </tr>\n",
       "    <tr>\n",
       "      <th>114</th>\n",
       "      <td>414.048167</td>\n",
       "      <td>409.767423</td>\n",
       "      <td>418.328911</td>\n",
       "      <td>6</td>\n",
       "      <td>1.006564</td>\n",
       "      <td>416.766079</td>\n",
       "      <td>421.074923</td>\n",
       "      <td>412.457234</td>\n",
       "    </tr>\n",
       "    <tr>\n",
       "      <th>115</th>\n",
       "      <td>414.190479</td>\n",
       "      <td>409.891353</td>\n",
       "      <td>418.489605</td>\n",
       "      <td>7</td>\n",
       "      <td>1.001811</td>\n",
       "      <td>414.940612</td>\n",
       "      <td>419.247524</td>\n",
       "      <td>410.633700</td>\n",
       "    </tr>\n",
       "    <tr>\n",
       "      <th>116</th>\n",
       "      <td>414.332792</td>\n",
       "      <td>410.015362</td>\n",
       "      <td>418.650221</td>\n",
       "      <td>8</td>\n",
       "      <td>0.995762</td>\n",
       "      <td>412.576976</td>\n",
       "      <td>416.876109</td>\n",
       "      <td>408.277843</td>\n",
       "    </tr>\n",
       "    <tr>\n",
       "      <th>117</th>\n",
       "      <td>414.475104</td>\n",
       "      <td>410.139449</td>\n",
       "      <td>418.810759</td>\n",
       "      <td>9</td>\n",
       "      <td>0.990900</td>\n",
       "      <td>410.703492</td>\n",
       "      <td>414.999693</td>\n",
       "      <td>406.407290</td>\n",
       "    </tr>\n",
       "    <tr>\n",
       "      <th>118</th>\n",
       "      <td>414.617416</td>\n",
       "      <td>410.263611</td>\n",
       "      <td>418.971221</td>\n",
       "      <td>10</td>\n",
       "      <td>0.990801</td>\n",
       "      <td>410.803549</td>\n",
       "      <td>415.117305</td>\n",
       "      <td>406.489793</td>\n",
       "    </tr>\n",
       "  </tbody>\n",
       "</table>\n",
       "<p>119 rows × 8 columns</p>\n",
       "</div>"
      ],
      "text/plain": [
       "          preds       lower       upper  month  seasonal_component  \\\n",
       "0    397.824555  397.236599  398.412512     12            0.997567   \n",
       "1    397.966867  397.257358  398.676377      1            1.000244   \n",
       "2    398.109180  397.296090  398.922270      2            1.002097   \n",
       "3    398.251492  397.346602  399.156383      3            1.004264   \n",
       "4    398.393805  397.405605  399.382004      4            1.007375   \n",
       "..          ...         ...         ...    ...                 ...   \n",
       "114  414.048167  409.767423  418.328911      6            1.006564   \n",
       "115  414.190479  409.891353  418.489605      7            1.001811   \n",
       "116  414.332792  410.015362  418.650221      8            0.995762   \n",
       "117  414.475104  410.139449  418.810759      9            0.990900   \n",
       "118  414.617416  410.263611  418.971221     10            0.990801   \n",
       "\n",
       "     full_preds  upper_conf  lower_conf  \n",
       "0    396.856692  397.443218  396.270166  \n",
       "1    398.064148  398.773831  397.354465  \n",
       "2    398.944099  399.758894  398.129304  \n",
       "3    399.949716  400.858465  399.040967  \n",
       "4    401.331956  402.327444  400.336469  \n",
       "..          ...         ...         ...  \n",
       "114  416.766079  421.074923  412.457234  \n",
       "115  414.940612  419.247524  410.633700  \n",
       "116  412.576976  416.876109  408.277843  \n",
       "117  410.703492  414.999693  406.407290  \n",
       "118  410.803549  415.117305  406.489793  \n",
       "\n",
       "[119 rows x 8 columns]"
      ]
     },
     "execution_count": 140,
     "metadata": {},
     "output_type": "execute_result"
    }
   ],
   "source": [
    "preds_df['full_preds']= preds_df['preds']*preds_df['seasonal_component']\n",
    "preds_df['upper_conf']= preds_df['upper']* preds_df['seasonal_component']\n",
    "preds_df['lower_conf']= preds_df['lower']* preds_df['seasonal_component']\n",
    "preds_df"
   ]
  },
  {
   "cell_type": "markdown",
   "id": "23c04c09",
   "metadata": {},
   "source": [
    "Finally, to make plotting easier for us, set the index of your `preds_df` to be the same as the index of your `test` DataFrame (since they have the same length this should be quite easy for us!)"
   ]
  },
  {
   "cell_type": "code",
   "execution_count": 144,
   "id": "4d6c9b2b",
   "metadata": {
    "tags": [
     "challengify"
    ]
   },
   "outputs": [],
   "source": [
    "preds_df.set_index(test.index, inplace=True)"
   ]
  },
  {
   "cell_type": "code",
   "execution_count": 146,
   "id": "25a35be7",
   "metadata": {},
   "outputs": [
    {
     "data": {
      "text/html": [
       "<div>\n",
       "<style scoped>\n",
       "    .dataframe tbody tr th:only-of-type {\n",
       "        vertical-align: middle;\n",
       "    }\n",
       "\n",
       "    .dataframe tbody tr th {\n",
       "        vertical-align: top;\n",
       "    }\n",
       "\n",
       "    .dataframe thead th {\n",
       "        text-align: right;\n",
       "    }\n",
       "</style>\n",
       "<table border=\"1\" class=\"dataframe\">\n",
       "  <thead>\n",
       "    <tr style=\"text-align: right;\">\n",
       "      <th></th>\n",
       "      <th>lower</th>\n",
       "      <th>upper</th>\n",
       "      <th>month</th>\n",
       "      <th>seasonal_component</th>\n",
       "      <th>full_preds</th>\n",
       "      <th>upper_conf</th>\n",
       "      <th>lower_conf</th>\n",
       "    </tr>\n",
       "  </thead>\n",
       "  <tbody>\n",
       "    <tr>\n",
       "      <th>2013-12-31</th>\n",
       "      <td>397.236599</td>\n",
       "      <td>398.412512</td>\n",
       "      <td>12</td>\n",
       "      <td>0.997567</td>\n",
       "      <td>396.856692</td>\n",
       "      <td>397.443218</td>\n",
       "      <td>396.270166</td>\n",
       "    </tr>\n",
       "    <tr>\n",
       "      <th>2014-01-31</th>\n",
       "      <td>397.257358</td>\n",
       "      <td>398.676377</td>\n",
       "      <td>1</td>\n",
       "      <td>1.000244</td>\n",
       "      <td>398.064148</td>\n",
       "      <td>398.773831</td>\n",
       "      <td>397.354465</td>\n",
       "    </tr>\n",
       "    <tr>\n",
       "      <th>2014-02-28</th>\n",
       "      <td>397.296090</td>\n",
       "      <td>398.922270</td>\n",
       "      <td>2</td>\n",
       "      <td>1.002097</td>\n",
       "      <td>398.944099</td>\n",
       "      <td>399.758894</td>\n",
       "      <td>398.129304</td>\n",
       "    </tr>\n",
       "    <tr>\n",
       "      <th>2014-03-31</th>\n",
       "      <td>397.346602</td>\n",
       "      <td>399.156383</td>\n",
       "      <td>3</td>\n",
       "      <td>1.004264</td>\n",
       "      <td>399.949716</td>\n",
       "      <td>400.858465</td>\n",
       "      <td>399.040967</td>\n",
       "    </tr>\n",
       "    <tr>\n",
       "      <th>2014-04-30</th>\n",
       "      <td>397.405605</td>\n",
       "      <td>399.382004</td>\n",
       "      <td>4</td>\n",
       "      <td>1.007375</td>\n",
       "      <td>401.331956</td>\n",
       "      <td>402.327444</td>\n",
       "      <td>400.336469</td>\n",
       "    </tr>\n",
       "  </tbody>\n",
       "</table>\n",
       "</div>"
      ],
      "text/plain": [
       "                 lower       upper  month  seasonal_component  full_preds  \\\n",
       "2013-12-31  397.236599  398.412512     12            0.997567  396.856692   \n",
       "2014-01-31  397.257358  398.676377      1            1.000244  398.064148   \n",
       "2014-02-28  397.296090  398.922270      2            1.002097  398.944099   \n",
       "2014-03-31  397.346602  399.156383      3            1.004264  399.949716   \n",
       "2014-04-30  397.405605  399.382004      4            1.007375  401.331956   \n",
       "\n",
       "            upper_conf  lower_conf  \n",
       "2013-12-31  397.443218  396.270166  \n",
       "2014-01-31  398.773831  397.354465  \n",
       "2014-02-28  399.758894  398.129304  \n",
       "2014-03-31  400.858465  399.040967  \n",
       "2014-04-30  402.327444  400.336469  "
      ]
     },
     "execution_count": 146,
     "metadata": {},
     "output_type": "execute_result"
    }
   ],
   "source": [
    "preds_df.head()"
   ]
  },
  {
   "cell_type": "code",
   "execution_count": 147,
   "id": "3ed1ae4e",
   "metadata": {},
   "outputs": [
    {
     "name": "stdout",
     "output_type": "stream",
     "text": [
      "\n",
      "\u001b[1m============================= test session starts ==============================\u001b[0m\n",
      "platform linux -- Python 3.10.6, pytest-7.1.3, pluggy-1.0.0 -- /home/parissa/.pyenv/versions/lewagon/bin/python3\n",
      "cachedir: .pytest_cache\n",
      "rootdir: /home/parissa/code/ParissaPeimaniyfard/05-ML/09-Time-Series/data-arima-101/tests\n",
      "plugins: typeguard-2.13.3, anyio-3.6.2, asyncio-0.19.0\n",
      "asyncio: mode=strict\n",
      "\u001b[1mcollecting ... \u001b[0mcollected 2 items\n",
      "\n",
      "test_fullpreds.py::TestFullpreds::test_columns \u001b[32mPASSED\u001b[0m\u001b[32m                    [ 50%]\u001b[0m\n",
      "test_fullpreds.py::TestFullpreds::test_index \u001b[32mPASSED\u001b[0m\u001b[32m                      [100%]\u001b[0m\n",
      "\n",
      "\u001b[32m============================== \u001b[32m\u001b[1m2 passed\u001b[0m\u001b[32m in 0.27s\u001b[0m\u001b[32m ===============================\u001b[0m\n",
      "\n",
      "\n",
      "💯 You can commit your code:\n",
      "\n",
      "\u001b[1;32mgit\u001b[39m add tests/fullpreds.pickle\n",
      "\n",
      "\u001b[32mgit\u001b[39m commit -m \u001b[33m'Completed fullpreds step'\u001b[39m\n",
      "\n",
      "\u001b[32mgit\u001b[39m push origin master\n",
      "\n"
     ]
    }
   ],
   "source": [
    "from nbresult import ChallengeResult\n",
    "\n",
    "result = ChallengeResult('fullpreds',\n",
    "                         preds_df = preds_df)\n",
    "result.write()\n",
    "print(result.check())"
   ]
  },
  {
   "cell_type": "markdown",
   "id": "e9fd98c5",
   "metadata": {},
   "source": [
    "Now plot everything out - the end of your train (e.g. the last 100 values, your full predictions, upper and lower confidence bounds and the true values from your `preds_df` DataFrame __and__ your baseline!"
   ]
  },
  {
   "cell_type": "code",
   "execution_count": 151,
   "id": "27fca316",
   "metadata": {
    "tags": [
     "challengify"
    ]
   },
   "outputs": [
    {
     "data": {
      "image/png": "[encoded data removed]",
      "text/plain": [
       "<Figure size 640x480 with 1 Axes>"
      ]
     },
     "metadata": {},
     "output_type": "display_data"
    }
   ],
   "source": [
    "plt.plot(train[\"CO2 molfrac (ppm)\"][-100:], label=\"Train Data\")\n",
    "plt.plot(preds_df[\"lower_conf\"], label=\"Lower Confidence\")\n",
    "plt.plot(preds_df[\"upper_conf\"], label=\"Upper Confidence\")\n",
    "plt.plot(preds_df[\"full_preds\"], label=\"Predictions\")\n",
    "plt.plot(test, label=\"Test Data\");\n",
    "plt.legend()\n",
    "\n",
    "plt.show()"
   ]
  },
  {
   "cell_type": "markdown",
   "id": "eb808062",
   "metadata": {},
   "source": [
    "Our predictions look pretty good! We can see that the true values are slightly higher than what we predicted but remains well within the bounds of our confidence intervals for a full 10 years out from when we started making our predictions."
   ]
  },
  {
   "cell_type": "markdown",
   "id": "7aa3888c",
   "metadata": {},
   "source": [
    "Why did our values dip below the true values? Run the cell below to decompose the test data and take a look at the trend component 👀\n"
   ]
  },
  {
   "cell_type": "code",
   "execution_count": null,
   "id": "c54ba1c3",
   "metadata": {},
   "outputs": [],
   "source": [
    "seasonal_decompose(test[\"CO2 molfrac (ppm)\"]).plot();"
   ]
  },
  {
   "cell_type": "markdown",
   "id": "5b76d6e4",
   "metadata": {},
   "source": [
    "It looks like in 2016-2018 there was a __slight rise__ in all of our values before the regular (slightly shallower) trend took over again. This is a great example of something occuring in our test dataset that we simply cannot predict. We don't know why there was a surge in CO2 readings - and we couldn't predict for it."
   ]
  },
  {
   "cell_type": "markdown",
   "id": "f302f6a9",
   "metadata": {},
   "source": [
    "❗ When we model with Time Series, we __cannot magically predict the future__. What we're trying to do is accurately capture and then extend the patterns of the past. \n",
    "\n",
    "- Often times, your raw predictions (without a seasonal component) will look like a fairly boring straight line 🙄 (as our current initial ones did) but this is what we'd expect\n",
    "- Some of the most value that we get out when doing Time Series analysis lies in being able to __quantify__ our trends, seasonal components and our confidence intervals so we can make well-informed decisions ✅"
   ]
  },
  {
   "cell_type": "markdown",
   "id": "113c4649",
   "metadata": {},
   "source": [
    "Finally, let's quickly quantify how much better our model was than our baseline. Calculate the mean absolute error between your `preds` (with their seasonal component) and the true values. See if your `model_mae` is lower than the original `baseline_mae`. "
   ]
  },
  {
   "cell_type": "code",
   "execution_count": null,
   "id": "60ea7f76",
   "metadata": {},
   "outputs": [],
   "source": [
    "model_mae = (test[\"CO2 molfrac (ppm)\"] - preds_df[\"full_preds\"]).mean()"
   ]
  },
  {
   "cell_type": "code",
   "execution_count": null,
   "id": "66878f77",
   "metadata": {
    "tags": [
     "challengify"
    ]
   },
   "outputs": [],
   "source": [
    "# YOUR CODE HERE"
   ]
  },
  {
   "cell_type": "markdown",
   "id": "5928b7c9",
   "metadata": {},
   "source": [
    "Our final MAE should be __much__ better than our original baseline. Great work 🥳 In the next notebook, we'll explore how we can use Facebook Prophet to quickly make powerful predictions without the need for decomposition."
   ]
  }
 ],
 "metadata": {
  "kernelspec": {
   "display_name": "Python 3 (ipykernel)",
   "language": "python",
   "name": "python3"
  },
  "language_info": {
   "codemirror_mode": {
    "name": "ipython",
    "version": 3
   },
   "file_extension": ".py",
   "mimetype": "text/x-python",
   "name": "python",
   "nbconvert_exporter": "python",
   "pygments_lexer": "ipython3",
   "version": "3.10.6"
  },
  "toc": {
   "base_numbering": 1,
   "nav_menu": {},
   "number_sections": true,
   "sideBar": true,
   "skip_h1_title": false,
   "title_cell": "Table of Contents",
   "title_sidebar": "Contents",
   "toc_cell": false,
   "toc_position": {},
   "toc_section_display": true,
   "toc_window_display": false
  }
 },
 "nbformat": 4,
 "nbformat_minor": 5
}
